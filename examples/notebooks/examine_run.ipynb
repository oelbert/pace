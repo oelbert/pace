{
 "cells": [
  {
   "cell_type": "markdown",
   "id": "fbb20dd0",
   "metadata": {},
   "source": [
    "# We can also load and explore the model data from there as well"
   ]
  },
  {
   "cell_type": "code",
   "execution_count": null,
   "id": "60820f26",
   "metadata": {},
   "outputs": [],
   "source": [
    "import xarray as xr\n",
    "import zarr\n",
    "import matplotlib.pyplot as plt\n",
    "import numpy as np\n",
    "from cartopy import crs as ccrs\n",
    "from fv3viz import pcolormesh_cube"
   ]
  },
  {
   "cell_type": "markdown",
   "id": "2bcb36fc",
   "metadata": {},
   "source": [
    "We can look at the column-integrated water vapor and it's evolution over the model run:"
   ]
  },
  {
   "cell_type": "code",
   "execution_count": null,
   "id": "7d53cad8",
   "metadata": {},
   "outputs": [],
   "source": [
    "ds = xr.open_zarr(store=zarr.DirectoryStore(path=\"output_prerun.zarr\"), consolidated=False)\n",
    "nx=48\n",
    "nz = 32\n",
    "rotation = -120.\n",
    "\n",
    "fig, ax = plt.subplots(2, 3, figsize=(12, 8))\n",
    "ax = ax.flatten()\n",
    "level = -1\n",
    "varname = \"qvapor\"\n",
    "for i in range(6):\n",
    "    column_q = (\n",
    "        np.sum(ds[varname].isel(time=-1, tile=i).values, axis=-1)\n",
    "    )\n",
    "    im = ax[i].pcolormesh(column_q)\n",
    "    ax[i].set_title(f\"Tile {i}\")\n",
    "    plt.colorbar(im, ax=ax[i])\n",
    "fig.suptitle(\"end step column integrated water vapor\")\n",
    "plt.tight_layout()\n",
    "plt.show()\n",
    "\n",
    "fig = plt.figure(figsize=(12, 6))\n",
    "ax = fig.add_subplot(111, projection=ccrs.Robinson())\n",
    "f1 = pcolormesh_cube(\n",
    "    ds[\"lat\"].values * 180./np.pi,\n",
    "    ds[\"lon\"].values * 180./np.pi,\n",
    "    np.sum(ds[\"qvapor\"].isel(time=-1).values, axis=-1),\n",
    "    cmap=\"viridis\",\n",
    ")\n",
    "plt.colorbar(f1, label=\"water vapor\")\n",
    "ax.set_title(f\"Column-Integrated Water Vapor ({nx} x {nx} points per tile)\")\n",
    "\n",
    "fig = plt.figure(figsize=(12, 6))\n",
    "ax = fig.add_subplot(111, projection=ccrs.Robinson())\n",
    "f1 = pcolormesh_cube(\n",
    "    ds[\"lat\"].values * 180./np.pi,\n",
    "    ds[\"lon\"].values * 180./np.pi + rotation,\n",
    "    np.sum(ds[\"qvapor\"].isel(time=-1).values, axis=-1) - np.sum(ds[\"qvapor\"].isel(time=1).values, axis=-1),\n",
    "    cmap=\"viridis\",\n",
    ")\n",
    "plt.colorbar(f1, label=\"water vapor change\")\n",
    "ax.set_title(f\"Column-Integrated Water Vapor Evolution ({24} x {24} points per tile)\")\n",
    "\n",
    "\n",
    "fig = plt.figure(figsize=(12, 6))\n",
    "ax = fig.add_subplot(111, projection=ccrs.Robinson())\n",
    "f1 = pcolormesh_cube(\n",
    "    ds[\"lat\"].values * 180./np.pi,\n",
    "    ds[\"lon\"].values * 180./np.pi + rotation,\n",
    "    ds[\"pt\"].isel(time=-1, z=-2).values,\n",
    "    cmap=\"viridis\",\n",
    ")\n",
    "plt.colorbar(f1, label=\"Temperature (K)\")\n",
    "ax.set_title(f\"Temperature ({nx} x {nx} points per tile)\")\n",
    "\n",
    "fig = plt.figure(figsize=(12, 6))\n",
    "ax = fig.add_subplot(111, projection=ccrs.Robinson())\n",
    "f1 = pcolormesh_cube(\n",
    "    ds[\"lat\"].values * 180./np.pi,\n",
    "    ds[\"lon\"].values * 180./np.pi,\n",
    "    np.sum(ds[\"qcld\"].isel(time=-1).values, axis=-1)/nz,\n",
    "    cmap=\"viridis\",\n",
    ")\n",
    "plt.colorbar(f1, label=\"cloud mixing ratio\")\n",
    "ax.set_title(f\"Column-Integrated Cloud Mixing Ratio ({nx} x {nx} points per tile)\")"
   ]
  },
  {
   "cell_type": "markdown",
   "id": "0a3272db",
   "metadata": {},
   "source": [
    "We can also look at the temperature at each atmospheric level:"
   ]
  },
  {
   "cell_type": "code",
   "execution_count": null,
   "id": "e014fce2-1e83-47cb-a8b6-a78c51f346f4",
   "metadata": {},
   "outputs": [],
   "source": [
    "fig = plt.figure(figsize=(12, 6))\n",
    "ax = fig.add_subplot(111, projection=ccrs.Robinson())\n",
    "f1 = pcolormesh_cube(\n",
    "    ds[\"lat\"].values * 180./np.pi,\n",
    "    ds[\"lon\"].values * 180./np.pi + rotation,\n",
    "    (ds[\"pt\"].isel(time=-1, z=-2).values - ds[\"pt\"].isel(time=1, z=-2).values),\n",
    "    cmap=\"viridis\",\n",
    ")\n",
    "plt.colorbar(f1, label=\"change in temperature (K)\")\n",
    "ax.set_title(f\"Change in 850 hPa Temperature ({24} x {24} points per tile)\")"
   ]
  },
  {
   "cell_type": "markdown",
   "id": "f15cfe9b-e17c-4f8e-9af6-2a3cf44598e3",
   "metadata": {},
   "source": [
    "Or liquid water:"
   ]
  },
  {
   "cell_type": "code",
   "execution_count": null,
   "id": "72db2615-e869-4aa2-9977-d3a5e881ea62",
   "metadata": {},
   "outputs": [],
   "source": [
    "fig = plt.figure(figsize=(12, 6))\n",
    "ax = fig.add_subplot(111, projection=ccrs.Robinson())\n",
    "f1 = pcolormesh_cube(\n",
    "    ds[\"lat\"].values * 180./np.pi,\n",
    "    ds[\"lon\"].values * 180./np.pi + rotation,\n",
    "    np.sum(ds[\"qliquid\"].isel(time=-1).values, axis=-1) - np.sum(ds[\"qliquid\"].isel(time=1).values, axis=-1),\n",
    "    cmap=\"viridis\",\n",
    ")\n",
    "plt.colorbar(f1, label=\"liquid water evolution\")\n",
    "ax.set_title(f\"Column-Integrated Liquid Water Evolution ({24} x {24} x {6} resolution)\")"
   ]
  },
  {
   "cell_type": "code",
   "execution_count": null,
   "id": "fdd37483-64cf-4bb5-8efa-aba563daf890",
   "metadata": {},
   "outputs": [],
   "source": []
  }
 ],
 "metadata": {
  "kernelspec": {
   "display_name": "Python 3 (ipykernel)",
   "language": "python",
   "name": "python3"
  },
  "language_info": {
   "codemirror_mode": {
    "name": "ipython",
    "version": 3
   },
   "file_extension": ".py",
   "mimetype": "text/x-python",
   "name": "python",
   "nbconvert_exporter": "python",
   "pygments_lexer": "ipython3",
   "version": "3.8.10"
  }
 },
 "nbformat": 4,
 "nbformat_minor": 5
}
