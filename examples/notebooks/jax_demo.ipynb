{
 "cells": [
  {
   "attachments": {},
   "cell_type": "markdown",
   "metadata": {},
   "source": [
    "Trying out Jax interfacing with Pace"
   ]
  },
  {
   "cell_type": "code",
   "execution_count": null,
   "metadata": {},
   "outputs": [],
   "source": [
    "from gt4py.cartesian import gtscript\n",
    "from gt4py.cartesian.gtscript import (\n",
    "    __INLINED,\n",
    "    PARALLEL,\n",
    "    compile_assert,\n",
    "    computation,\n",
    "    horizontal,\n",
    "    interval,\n",
    "    region,\n",
    ")\n",
    "\n",
    "from pace.fv3core.stencils.xppm import compute_x_flux\n",
    "import pace.util\n",
    "from pace.dsl.stencil import StencilFactory\n",
    "from pace.util import X_DIM, Y_DIM, Z_DIM\n",
    "from pace.util.grid import DampingCoefficients, GridData\n",
    "from pace.dsl.typing import FloatField, FloatFieldIJ, Index3D\n",
    "\n",
    "from jax import config, jit, vjp\n",
    "\n",
    "\n",
    "config.update(\"jax_enable_x64\", True)\n",
    "import jax.numpy as jnp\n",
    "import numpy as np\n"
   ]
  },
  {
   "attachments": {},
   "cell_type": "markdown",
   "metadata": {},
   "source": [
    "set initial parameters"
   ]
  },
  {
   "cell_type": "code",
   "execution_count": null,
   "metadata": {},
   "outputs": [],
   "source": [
    "nx = 12\n",
    "ny = 12\n",
    "nz = 1\n",
    "nhalo = 3"
   ]
  },
  {
   "attachments": {},
   "cell_type": "markdown",
   "metadata": {},
   "source": [
    "Create the class we'll use a la Pace"
   ]
  },
  {
   "cell_type": "code",
   "execution_count": null,
   "metadata": {},
   "outputs": [],
   "source": [
    "class JaxXPPM:\n",
    "    def __init__(\n",
    "        self,\n",
    "        stencil_factory: StencilFactory,\n",
    "        dxa,\n",
    "        grid_type: int,\n",
    "        iord,\n",
    "        origin: Index3D,\n",
    "        domain: Index3D,\n",
    "    ):\n",
    "        # Arguments come from:\n",
    "        # namelist.grid_type\n",
    "        # grid.dxa\n",
    "        assert (grid_type < 3) or (grid_type == 4)\n",
    "        self._dxa = dxa\n",
    "        ax_offsets = stencil_factory.grid_indexing.axis_offsets(origin, domain)\n",
    "        self._compute_flux_stencil = stencil_factory.from_origin_domain(\n",
    "            func=compute_x_flux,\n",
    "            externals={\n",
    "                \"iord\": iord,\n",
    "                \"mord\": abs(iord),\n",
    "                \"xt_minmax\": True,\n",
    "                \"i_start\": ax_offsets[\"i_start\"],\n",
    "                \"i_end\": ax_offsets[\"i_end\"],\n",
    "                \"grid_type\": grid_type,\n",
    "            },\n",
    "            origin=origin,\n",
    "            domain=domain,\n",
    "        )\n",
    "\n",
    "    def __call__(\n",
    "        self,\n",
    "        q_in: FloatField,\n",
    "        c: FloatField,\n",
    "        q_mean_advected_through_x_interface: FloatField,\n",
    "    ):\n",
    "        \"\"\"\n",
    "        Determine the mean value per area of q_in to be advected along x-interfaces.\n",
    "\n",
    "        This is done by integrating a piecewise-parabolic subgrid reconstruction\n",
    "        of q_in along the x-direction over the segment of gridcell which\n",
    "        will be advected.\n",
    "\n",
    "        Multiplying this mean value by the area to be advected through the interface\n",
    "        would give the flux of q through that interface.\n",
    "\n",
    "        Args:\n",
    "            q_in (in): scalar to be integrated\n",
    "            c (in): Courant number (u*dt/dx) in x-direction defined on x-interfaces,\n",
    "                indicates the fraction of the adjacent grid cell which will be\n",
    "                advected through the interface in one timestep\n",
    "            q_mean_advected_through_x_interface (out): defined on x-interfaces.\n",
    "                mean value of scalar within the segment of gridcell to be advected\n",
    "                through that interface in one timestep, in units of q_in\n",
    "        \"\"\"\n",
    "        # in the Fortran version of this code, \"x_advection\" routines\n",
    "        # were called \"get_flux\", while the routine which got the flux was called\n",
    "        # fx1_fn. The final value was called xflux instead of q_out.\n",
    "        self._compute_flux_stencil(\n",
    "            q_in, c, self._dxa, q_mean_advected_through_x_interface\n",
    "        )\n",
    "        # bl and br are \"edge perturbation values\" as in equation 4.1\n",
    "        # of the FV3 documentation"
   ]
  },
  {
   "attachments": {},
   "cell_type": "markdown",
   "metadata": {},
   "source": []
  }
 ],
 "metadata": {
  "language_info": {
   "name": "python"
  },
  "orig_nbformat": 4
 },
 "nbformat": 4,
 "nbformat_minor": 2
}
