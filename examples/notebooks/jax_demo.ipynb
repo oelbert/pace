{
 "cells": [
  {
   "attachments": {},
   "cell_type": "markdown",
   "metadata": {},
   "source": [
    "Trying out Jax interfacing with Pace"
   ]
  },
  {
   "cell_type": "code",
   "execution_count": 1,
   "metadata": {},
   "outputs": [
    {
     "data": {
      "text/html": [
       "<link href=\"https://fonts.googleapis.com/icon?family=Material+Icons\" rel=\"stylesheet\"><script src=\"https://spcl.github.io/dace/webclient2/dist/sdfv.js\"></script>\n",
       "<link href=\"https://spcl.github.io/dace/webclient2/sdfv.css\" rel=\"stylesheet\">\n"
      ],
      "text/plain": [
       "<IPython.core.display.HTML object>"
      ]
     },
     "metadata": {},
     "output_type": "display_data"
    },
    {
     "name": "stdout",
     "output_type": "stream",
     "text": [
      "2023-11-06 22:30:45|INFO|rank 0|pace.util.logging:Constant selected: ConstantVersions.GFS\n"
     ]
    }
   ],
   "source": [
    "from jax import config, jit, vjp\n",
    "\n",
    "config.update(\"jax_enable_x64\", True)\n",
    "import jax.numpy as jnp\n",
    "import numpy as np\n",
    "\n",
    "from gt4py.cartesian import gtscript\n",
    "from gt4py.cartesian.gtscript import (\n",
    "    __INLINED,\n",
    "    PARALLEL,\n",
    "    compile_assert,\n",
    "    computation,\n",
    "    horizontal,\n",
    "    interval,\n",
    "    region,\n",
    ")\n",
    "\n",
    "from pace.fv3core.stencils.xppm import compute_x_flux\n",
    "import pace.util\n",
    "from pace.dsl.stencil import StencilFactory\n",
    "from pace.util import X_DIM, Y_DIM, Z_DIM\n",
    "from pace.util.grid import DampingCoefficients, GridData\n",
    "from pace.dsl.typing import FloatField, FloatFieldIJ, Index3D, Float\n",
    "\n",
    "from pace.dsl.stencil import GridIndexing, StencilConfig, StencilFactory\n",
    "from pace.dsl.stencil_config import CompilationConfig"
   ]
  },
  {
   "attachments": {},
   "cell_type": "markdown",
   "metadata": {},
   "source": [
    "set initial parameters"
   ]
  },
  {
   "cell_type": "code",
   "execution_count": 8,
   "metadata": {},
   "outputs": [],
   "source": [
    "nx = 6\n",
    "ny = 6\n",
    "nz = 1\n",
    "nhalo = 1\n",
    "backend = \"numpy\""
   ]
  },
  {
   "cell_type": "markdown",
   "metadata": {},
   "source": [
    "Start with laplacian"
   ]
  },
  {
   "cell_type": "code",
   "execution_count": 9,
   "metadata": {},
   "outputs": [],
   "source": [
    "@gtscript.function\n",
    "def lap(field: FloatField):\n",
    "    return field[1,0,0] + field[0,1,0] + field[-1,0,0] + field[0,-1,0] - 4.*field[0,0,0]\n",
    "\n",
    "def laplacian(\n",
    "    field: FloatField,\n",
    "    result: FloatField\n",
    "):\n",
    "    with computation(PARALLEL), interval(...):\n",
    "        result = lap(field)\n",
    "\n",
    "def laplap(\n",
    "    field: FloatField,\n",
    "    result: FloatField\n",
    "):\n",
    "    with computation(PARALLEL), interval(...):\n",
    "        tmp = lap(field)\n",
    "        result = lap(tmp)"
   ]
  },
  {
   "attachments": {},
   "cell_type": "markdown",
   "metadata": {},
   "source": [
    "Create the class we'll use a la Pace"
   ]
  },
  {
   "cell_type": "code",
   "execution_count": 10,
   "metadata": {},
   "outputs": [],
   "source": [
    "class Laplacian:\n",
    "    def __init__(\n",
    "        self,\n",
    "        stencil_factory: StencilFactory,\n",
    "    ):\n",
    "        idx = stencil_factory.grid_indexing\n",
    "        self._lap_stencil = stencil_factory.from_origin_domain(\n",
    "            func=laplacian,\n",
    "            origin=idx.origin_compute(),\n",
    "            domain=idx.domain_compute(),\n",
    "        )\n",
    "    def __call__(\n",
    "        self,\n",
    "        q_in: FloatField,\n",
    "        q_out: FloatField,\n",
    "    ):\n",
    "        q_in, q_out = self._lap_stencil(q_in, q_out)\n",
    "        return q_in, q_out"
   ]
  },
  {
   "cell_type": "code",
   "execution_count": 11,
   "metadata": {},
   "outputs": [],
   "source": [
    "compilation_config = CompilationConfig(backend=backend)\n",
    "\n",
    "stencil_config = StencilConfig(\n",
    "    compare_to_numpy=False,\n",
    "    compilation_config=compilation_config,\n",
    ")\n",
    "\n",
    "grid_indexing = GridIndexing(\n",
    "    (nx, ny, nz),\n",
    "    nhalo,\n",
    "    False,\n",
    "    False,\n",
    "    False,\n",
    "    False,\n",
    ")\n",
    "\n",
    "stencil_factory = StencilFactory(config=stencil_config, grid_indexing=grid_indexing)\n",
    "\n",
    "lap = Laplacian(stencil_factory)"
   ]
  },
  {
   "cell_type": "code",
   "execution_count": 12,
   "metadata": {},
   "outputs": [
    {
     "ename": "ValueError",
     "evalue": "could not broadcast input array from shape (8,8) into shape (6,6)",
     "output_type": "error",
     "traceback": [
      "\u001b[0;31m---------------------------------------------------------------------------\u001b[0m",
      "\u001b[0;31mValueError\u001b[0m                                Traceback (most recent call last)",
      "Cell \u001b[0;32mIn [12], line 16\u001b[0m\n\u001b[1;32m      5\u001b[0m field_out \u001b[38;5;241m=\u001b[39m quantity_factory\u001b[38;5;241m.\u001b[39mzeros([X_DIM, Y_DIM, Z_DIM], units\u001b[38;5;241m=\u001b[39m\u001b[38;5;124m\"\u001b[39m\u001b[38;5;124munknown\u001b[39m\u001b[38;5;124m\"\u001b[39m, dtype\u001b[38;5;241m=\u001b[39m\u001b[38;5;28mfloat\u001b[39m)\n\u001b[1;32m      7\u001b[0m raw_data \u001b[38;5;241m=\u001b[39m np\u001b[38;5;241m.\u001b[39marray([[\u001b[38;5;241m0.\u001b[39m, \u001b[38;5;241m0.\u001b[39m, \u001b[38;5;241m1.\u001b[39m, \u001b[38;5;241m2.\u001b[39m, \u001b[38;5;241m2.\u001b[39m, \u001b[38;5;241m1.\u001b[39m, \u001b[38;5;241m0.\u001b[39m, \u001b[38;5;241m0.\u001b[39m],\n\u001b[1;32m      8\u001b[0m                      [\u001b[38;5;241m0.\u001b[39m, \u001b[38;5;241m1.\u001b[39m, \u001b[38;5;241m2.\u001b[39m, \u001b[38;5;241m3.\u001b[39m, \u001b[38;5;241m3.\u001b[39m, \u001b[38;5;241m2.\u001b[39m, \u001b[38;5;241m1.\u001b[39m, \u001b[38;5;241m0.\u001b[39m],\n\u001b[1;32m      9\u001b[0m                      [\u001b[38;5;241m1.\u001b[39m, \u001b[38;5;241m2.\u001b[39m, \u001b[38;5;241m3.\u001b[39m, \u001b[38;5;241m4.\u001b[39m, \u001b[38;5;241m4.\u001b[39m, \u001b[38;5;241m3.\u001b[39m, \u001b[38;5;241m2.\u001b[39m, \u001b[38;5;241m1.\u001b[39m],\n\u001b[0;32m   (...)\u001b[0m\n\u001b[1;32m     13\u001b[0m                      [\u001b[38;5;241m0.\u001b[39m, \u001b[38;5;241m1.\u001b[39m, \u001b[38;5;241m2.\u001b[39m, \u001b[38;5;241m3.\u001b[39m, \u001b[38;5;241m3.\u001b[39m, \u001b[38;5;241m2.\u001b[39m, \u001b[38;5;241m1.\u001b[39m, \u001b[38;5;241m0.\u001b[39m],\n\u001b[1;32m     14\u001b[0m                      [\u001b[38;5;241m0.\u001b[39m, \u001b[38;5;241m0.\u001b[39m, \u001b[38;5;241m1.\u001b[39m, \u001b[38;5;241m2.\u001b[39m, \u001b[38;5;241m2.\u001b[39m, \u001b[38;5;241m1.\u001b[39m, \u001b[38;5;241m0.\u001b[39m, \u001b[38;5;241m0.\u001b[39m]])\n\u001b[0;32m---> 16\u001b[0m field_in\u001b[38;5;241m.\u001b[39mdata[nhalo:\u001b[38;5;241m-\u001b[39mnhalo\u001b[38;5;241m-\u001b[39m\u001b[38;5;241m1\u001b[39m,nhalo:\u001b[38;5;241m-\u001b[39mnhalo\u001b[38;5;241m-\u001b[39m\u001b[38;5;241m1\u001b[39m, \u001b[38;5;241m0\u001b[39m] \u001b[38;5;241m=\u001b[39m raw_data\n",
      "\u001b[0;31mValueError\u001b[0m: could not broadcast input array from shape (8,8) into shape (6,6)"
     ]
    }
   ],
   "source": [
    "sizer = pace.util.SubtileGridSizer.from_tile_params(nx, ny, nz, nhalo, extra_dim_lengths={}, layout=(1,1))\n",
    "quantity_factory = pace.util.QuantityFactory.from_backend(sizer=sizer, backend=backend)\n",
    "\n",
    "field_in = quantity_factory.zeros([X_DIM, Y_DIM, Z_DIM], units=\"unknown\", dtype=float)\n",
    "field_out = quantity_factory.zeros([X_DIM, Y_DIM, Z_DIM], units=\"unknown\", dtype=float)\n",
    "\n",
    "raw_data = np.array([[0., 0., 1., 2., 2., 1., 0., 0.],\n",
    "                     [0., 1., 2., 3., 3., 2., 1., 0.],\n",
    "                     [1., 2., 3., 4., 4., 3., 2., 1.],\n",
    "                     [2., 3., 4., 5., 5., 4., 3., 2.],\n",
    "                     [2., 3., 4., 5., 5., 4., 3., 2.],\n",
    "                     [1., 2., 3., 4., 4., 3., 2., 1.],\n",
    "                     [0., 1., 2., 3., 3., 2., 1., 0.],\n",
    "                     [0., 0., 1., 2., 2., 1., 0., 0.]])\n",
    "\n",
    "field_in.data[nhalo:-nhalo-1,nhalo:-nhalo-1, 0] = raw_data"
   ]
  },
  {
   "cell_type": "code",
   "execution_count": 13,
   "metadata": {},
   "outputs": [
    {
     "ename": "ValueError",
     "evalue": "Origin for field field too small. Must be at least (1, 1, 0), is (0, 0, 0)",
     "output_type": "error",
     "traceback": [
      "\u001b[0;31m---------------------------------------------------------------------------\u001b[0m",
      "\u001b[0;31mValueError\u001b[0m                                Traceback (most recent call last)",
      "Cell \u001b[0;32mIn [13], line 1\u001b[0m\n\u001b[0;32m----> 1\u001b[0m ret1, ret2 \u001b[38;5;241m=\u001b[39m \u001b[43mlap\u001b[49m\u001b[43m(\u001b[49m\u001b[43mfield_in\u001b[49m\u001b[43m,\u001b[49m\u001b[43m \u001b[49m\u001b[43mfield_out\u001b[49m\u001b[43m)\u001b[49m\n\u001b[1;32m      2\u001b[0m \u001b[38;5;28mprint\u001b[39m(np\u001b[38;5;241m.\u001b[39msqueeze(field_in\u001b[38;5;241m.\u001b[39mdata[:,:,\u001b[38;5;241m0\u001b[39m]))\n\u001b[1;32m      3\u001b[0m \u001b[38;5;28mprint\u001b[39m(np\u001b[38;5;241m.\u001b[39msqueeze(field_out\u001b[38;5;241m.\u001b[39mdata[:,:,\u001b[38;5;241m0\u001b[39m]))\n",
      "Cell \u001b[0;32mIn [10], line 17\u001b[0m, in \u001b[0;36mLaplacian.__call__\u001b[0;34m(self, q_in, q_out)\u001b[0m\n\u001b[1;32m     12\u001b[0m \u001b[38;5;28;01mdef\u001b[39;00m \u001b[38;5;21m__call__\u001b[39m(\n\u001b[1;32m     13\u001b[0m     \u001b[38;5;28mself\u001b[39m,\n\u001b[1;32m     14\u001b[0m     q_in: FloatField,\n\u001b[1;32m     15\u001b[0m     q_out: FloatField,\n\u001b[1;32m     16\u001b[0m ):\n\u001b[0;32m---> 17\u001b[0m     q_in, q_out \u001b[38;5;241m=\u001b[39m \u001b[38;5;28;43mself\u001b[39;49m\u001b[38;5;241;43m.\u001b[39;49m\u001b[43m_lap_stencil\u001b[49m\u001b[43m(\u001b[49m\u001b[43mq_in\u001b[49m\u001b[43m,\u001b[49m\u001b[43m \u001b[49m\u001b[43mq_out\u001b[49m\u001b[43m)\u001b[49m\n\u001b[1;32m     18\u001b[0m     \u001b[38;5;28;01mreturn\u001b[39;00m q_in, q_out\n",
      "File \u001b[0;32m/pace/dsl/pace/dsl/stencil.py:427\u001b[0m, in \u001b[0;36mFrozenStencil.__call__\u001b[0;34m(self, *args, **kwargs)\u001b[0m\n\u001b[1;32m    425\u001b[0m     \u001b[38;5;28;01mif\u001b[39;00m __debug__ \u001b[38;5;129;01mand\u001b[39;00m \u001b[38;5;124m\"\u001b[39m\u001b[38;5;124mdomain\u001b[39m\u001b[38;5;124m\"\u001b[39m \u001b[38;5;129;01min\u001b[39;00m kwargs:\n\u001b[1;32m    426\u001b[0m         \u001b[38;5;28;01mraise\u001b[39;00m \u001b[38;5;167;01mTypeError\u001b[39;00m(\u001b[38;5;124m\"\u001b[39m\u001b[38;5;124mdomain cannot be passed to FrozenStencil call\u001b[39m\u001b[38;5;124m\"\u001b[39m)\n\u001b[0;32m--> 427\u001b[0m     results \u001b[38;5;241m=\u001b[39m \u001b[38;5;28;43mself\u001b[39;49m\u001b[38;5;241;43m.\u001b[39;49m\u001b[43m_jso\u001b[49m\u001b[43m(\u001b[49m\n\u001b[1;32m    428\u001b[0m \u001b[43m        \u001b[49m\u001b[38;5;241;43m*\u001b[39;49m\u001b[43margs\u001b[49m\u001b[43m,\u001b[49m\n\u001b[1;32m    429\u001b[0m \u001b[43m        \u001b[49m\u001b[38;5;241;43m*\u001b[39;49m\u001b[38;5;241;43m*\u001b[39;49m\u001b[43mkwargs\u001b[49m\u001b[43m,\u001b[49m\n\u001b[1;32m    430\u001b[0m \u001b[43m        \u001b[49m\u001b[43mexec_info\u001b[49m\u001b[38;5;241;43m=\u001b[39;49m\u001b[38;5;28;43mself\u001b[39;49m\u001b[38;5;241;43m.\u001b[39;49m\u001b[43m_timing_collector\u001b[49m\u001b[38;5;241;43m.\u001b[39;49m\u001b[43mexec_info\u001b[49m\u001b[43m,\u001b[49m\n\u001b[1;32m    431\u001b[0m \u001b[43m    \u001b[49m\u001b[43m)\u001b[49m\n\u001b[1;32m    432\u001b[0m \u001b[38;5;28;01melse\u001b[39;00m:\n\u001b[1;32m    433\u001b[0m     results \u001b[38;5;241m=\u001b[39m \u001b[38;5;28mself\u001b[39m\u001b[38;5;241m.\u001b[39m_jso(\n\u001b[1;32m    434\u001b[0m         \u001b[38;5;241m*\u001b[39m\u001b[38;5;241m*\u001b[39margs_as_kwargs,\n\u001b[1;32m    435\u001b[0m         \u001b[38;5;241m*\u001b[39m\u001b[38;5;241m*\u001b[39mkwargs,\n\u001b[1;32m    436\u001b[0m         \u001b[38;5;241m*\u001b[39m\u001b[38;5;241m*\u001b[39m\u001b[38;5;28mself\u001b[39m\u001b[38;5;241m.\u001b[39m_stencil_run_kwargs,\n\u001b[1;32m    437\u001b[0m         exec_info\u001b[38;5;241m=\u001b[39m\u001b[38;5;28mself\u001b[39m\u001b[38;5;241m.\u001b[39m_timing_collector\u001b[38;5;241m.\u001b[39mexec_info,\n\u001b[1;32m    438\u001b[0m     )\n",
      "    \u001b[0;31m[... skipping hidden 12 frame]\u001b[0m\n",
      "File \u001b[0;32m/pace/examples/notebooks/.gt_cache_000000/py38_1013/numpy/__main__/laplacian/m_laplacian__numpy_9f385c02de.py:80\u001b[0m, in \u001b[0;36mlaplacian____numpy_9f385c02de.__call__\u001b[0;34m(self, field, result, domain, origin, validate_args, exec_info)\u001b[0m\n\u001b[1;32m     76\u001b[0m parameter_args\u001b[38;5;241m=\u001b[39m\u001b[38;5;28mdict\u001b[39m()\n\u001b[1;32m     77\u001b[0m \u001b[38;5;66;03m# assert that all required values have been provided\u001b[39;00m\n\u001b[0;32m---> 80\u001b[0m results \u001b[38;5;241m=\u001b[39m \u001b[38;5;28;43mself\u001b[39;49m\u001b[38;5;241;43m.\u001b[39;49m\u001b[43m_call_run\u001b[49m\u001b[43m(\u001b[49m\n\u001b[1;32m     81\u001b[0m \u001b[43m    \u001b[49m\u001b[43mfield_args\u001b[49m\u001b[38;5;241;43m=\u001b[39;49m\u001b[43mfield_args\u001b[49m\u001b[43m,\u001b[49m\n\u001b[1;32m     82\u001b[0m \u001b[43m    \u001b[49m\u001b[43mparameter_args\u001b[49m\u001b[38;5;241;43m=\u001b[39;49m\u001b[43mparameter_args\u001b[49m\u001b[43m,\u001b[49m\n\u001b[1;32m     83\u001b[0m \u001b[43m    \u001b[49m\u001b[43mdomain\u001b[49m\u001b[38;5;241;43m=\u001b[39;49m\u001b[43mdomain\u001b[49m\u001b[43m,\u001b[49m\n\u001b[1;32m     84\u001b[0m \u001b[43m    \u001b[49m\u001b[43morigin\u001b[49m\u001b[38;5;241;43m=\u001b[39;49m\u001b[43morigin\u001b[49m\u001b[43m,\u001b[49m\n\u001b[1;32m     85\u001b[0m \u001b[43m    \u001b[49m\u001b[43mvalidate_args\u001b[49m\u001b[38;5;241;43m=\u001b[39;49m\u001b[43mvalidate_args\u001b[49m\u001b[43m,\u001b[49m\n\u001b[1;32m     86\u001b[0m \u001b[43m    \u001b[49m\u001b[43mexec_info\u001b[49m\u001b[38;5;241;43m=\u001b[39;49m\u001b[43mexec_info\u001b[49m\u001b[43m,\u001b[49m\n\u001b[1;32m     87\u001b[0m \u001b[43m\u001b[49m\u001b[43m)\u001b[49m\n\u001b[1;32m     90\u001b[0m \u001b[38;5;28;01mif\u001b[39;00m exec_info \u001b[38;5;129;01mis\u001b[39;00m \u001b[38;5;129;01mnot\u001b[39;00m \u001b[38;5;28;01mNone\u001b[39;00m:\n\u001b[1;32m     91\u001b[0m     exec_info[\u001b[38;5;124m\"\u001b[39m\u001b[38;5;124mcall_end_time\u001b[39m\u001b[38;5;124m\"\u001b[39m] \u001b[38;5;241m=\u001b[39m time\u001b[38;5;241m.\u001b[39mperf_counter()\n",
      "File \u001b[0;32m/pace/external/gt4py/src/gt4py/cartesian/stencil_object.py:583\u001b[0m, in \u001b[0;36mStencilObject._call_run\u001b[0;34m(self, field_args, parameter_args, domain, origin, validate_args, exec_info)\u001b[0m\n\u001b[1;32m    578\u001b[0m         domain \u001b[38;5;241m=\u001b[39m \u001b[38;5;28mself\u001b[39m\u001b[38;5;241m.\u001b[39m_get_max_domain(\n\u001b[1;32m    579\u001b[0m             array_infos, \u001b[38;5;28mself\u001b[39m\u001b[38;5;241m.\u001b[39mdomain_info, \u001b[38;5;28mself\u001b[39m\u001b[38;5;241m.\u001b[39mfield_info, origin\n\u001b[1;32m    580\u001b[0m         )\n\u001b[1;32m    582\u001b[0m     \u001b[38;5;28;01mif\u001b[39;00m validate_args:\n\u001b[0;32m--> 583\u001b[0m         \u001b[38;5;28;43mself\u001b[39;49m\u001b[38;5;241;43m.\u001b[39;49m\u001b[43m_validate_args\u001b[49m\u001b[43m(\u001b[49m\u001b[43marray_infos\u001b[49m\u001b[43m,\u001b[49m\u001b[43m \u001b[49m\u001b[43mparameter_args\u001b[49m\u001b[43m,\u001b[49m\u001b[43m \u001b[49m\u001b[43mdomain\u001b[49m\u001b[43m,\u001b[49m\u001b[43m \u001b[49m\u001b[43morigin\u001b[49m\u001b[43m)\u001b[49m\n\u001b[1;32m    585\u001b[0m     \u001b[38;5;28mtype\u001b[39m(\u001b[38;5;28mself\u001b[39m)\u001b[38;5;241m.\u001b[39m_domain_origin_cache[cache_key] \u001b[38;5;241m=\u001b[39m (domain, origin)\n\u001b[1;32m    586\u001b[0m \u001b[38;5;28;01melse\u001b[39;00m:\n",
      "File \u001b[0;32m/pace/external/gt4py/src/gt4py/cartesian/stencil_object.py:467\u001b[0m, in \u001b[0;36mStencilObject._validate_args\u001b[0;34m(self, arg_infos, param_args, domain, origin)\u001b[0m\n\u001b[1;32m    461\u001b[0m min_origin \u001b[38;5;241m=\u001b[39m gtc_utils\u001b[38;5;241m.\u001b[39minterpolate_mask(\n\u001b[1;32m    462\u001b[0m     field_info\u001b[38;5;241m.\u001b[39mboundary\u001b[38;5;241m.\u001b[39mlower_indices\u001b[38;5;241m.\u001b[39mfilter_mask(field_domain_mask),\n\u001b[1;32m    463\u001b[0m     field_domain_mask,\n\u001b[1;32m    464\u001b[0m     default\u001b[38;5;241m=\u001b[39m\u001b[38;5;241m0\u001b[39m,\n\u001b[1;32m    465\u001b[0m )\n\u001b[1;32m    466\u001b[0m \u001b[38;5;28;01mif\u001b[39;00m field_domain_origin \u001b[38;5;241m<\u001b[39m min_origin:\n\u001b[0;32m--> 467\u001b[0m     \u001b[38;5;28;01mraise\u001b[39;00m \u001b[38;5;167;01mValueError\u001b[39;00m(\n\u001b[1;32m    468\u001b[0m         \u001b[38;5;124mf\u001b[39m\u001b[38;5;124m\"\u001b[39m\u001b[38;5;124mOrigin for field \u001b[39m\u001b[38;5;132;01m{\u001b[39;00mname\u001b[38;5;132;01m}\u001b[39;00m\u001b[38;5;124m too small. Must be at least \u001b[39m\u001b[38;5;132;01m{\u001b[39;00mmin_origin\u001b[38;5;132;01m}\u001b[39;00m\u001b[38;5;124m, is \u001b[39m\u001b[38;5;132;01m{\u001b[39;00mfield_domain_origin\u001b[38;5;132;01m}\u001b[39;00m\u001b[38;5;124m\"\u001b[39m\n\u001b[1;32m    469\u001b[0m     )\n\u001b[1;32m    471\u001b[0m spatial_domain \u001b[38;5;241m=\u001b[39m domain\u001b[38;5;241m.\u001b[39mfilter_mask(field_domain_mask)\n\u001b[1;32m    472\u001b[0m lower_indices \u001b[38;5;241m=\u001b[39m field_info\u001b[38;5;241m.\u001b[39mboundary\u001b[38;5;241m.\u001b[39mlower_indices\u001b[38;5;241m.\u001b[39mfilter_mask(field_domain_mask)\n",
      "\u001b[0;31mValueError\u001b[0m: Origin for field field too small. Must be at least (1, 1, 0), is (0, 0, 0)"
     ]
    }
   ],
   "source": [
    "ret1, ret2 = lap(field_in, field_out)\n",
    "print(np.squeeze(field_in.data[:,:,0]))\n",
    "print(np.squeeze(field_out.data[:,:,0]))"
   ]
  },
  {
   "cell_type": "markdown",
   "metadata": {},
   "source": [
    "Now do XPPM"
   ]
  },
  {
   "cell_type": "code",
   "execution_count": null,
   "metadata": {},
   "outputs": [],
   "source": [
    "class JaxXPPM:\n",
    "    def __init__(\n",
    "        self,\n",
    "        stencil_factory: StencilFactory,\n",
    "        dxa,\n",
    "        grid_type: int,\n",
    "        iord,\n",
    "        origin: Index3D,\n",
    "        domain: Index3D,\n",
    "    ):\n",
    "        # Arguments come from:\n",
    "        # namelist.grid_type\n",
    "        # grid.dxa\n",
    "        assert (grid_type < 3) or (grid_type == 4)\n",
    "        self._dxa = dxa\n",
    "        ax_offsets = stencil_factory.grid_indexing.axis_offsets(origin, domain)\n",
    "        self._compute_flux_stencil = stencil_factory.from_origin_domain(\n",
    "            func=compute_x_flux,\n",
    "            externals={\n",
    "                \"iord\": iord,\n",
    "                \"mord\": abs(iord),\n",
    "                \"xt_minmax\": True,\n",
    "                \"i_start\": ax_offsets[\"i_start\"],\n",
    "                \"i_end\": ax_offsets[\"i_end\"],\n",
    "                \"grid_type\": grid_type,\n",
    "            },\n",
    "            origin=origin,\n",
    "            domain=domain,\n",
    "        )\n",
    "\n",
    "    def __call__(\n",
    "        self,\n",
    "        q_in: FloatField,\n",
    "        c: FloatField,\n",
    "        q_mean_advected_through_x_interface: FloatField,\n",
    "    ):\n",
    "        \"\"\"\n",
    "        Determine the mean value per area of q_in to be advected along x-interfaces.\n",
    "\n",
    "        This is done by integrating a piecewise-parabolic subgrid reconstruction\n",
    "        of q_in along the x-direction over the segment of gridcell which\n",
    "        will be advected.\n",
    "\n",
    "        Multiplying this mean value by the area to be advected through the interface\n",
    "        would give the flux of q through that interface.\n",
    "\n",
    "        Args:\n",
    "            q_in (in): scalar to be integrated\n",
    "            c (in): Courant number (u*dt/dx) in x-direction defined on x-interfaces,\n",
    "                indicates the fraction of the adjacent grid cell which will be\n",
    "                advected through the interface in one timestep\n",
    "            q_mean_advected_through_x_interface (out): defined on x-interfaces.\n",
    "                mean value of scalar within the segment of gridcell to be advected\n",
    "                through that interface in one timestep, in units of q_in\n",
    "        \"\"\"\n",
    "        # in the Fortran version of this code, \"x_advection\" routines\n",
    "        # were called \"get_flux\", while the routine which got the flux was called\n",
    "        # fx1_fn. The final value was called xflux instead of q_out.\n",
    "        self._compute_flux_stencil(\n",
    "            q_in, c, self._dxa, q_mean_advected_through_x_interface\n",
    "        )\n",
    "        # bl and br are \"edge perturbation values\" as in equation 4.1\n",
    "        # of the FV3 documentation"
   ]
  },
  {
   "attachments": {},
   "cell_type": "markdown",
   "metadata": {},
   "source": []
  }
 ],
 "metadata": {
  "kernelspec": {
   "display_name": "Python 3 (ipykernel)",
   "language": "python",
   "name": "python3"
  },
  "language_info": {
   "codemirror_mode": {
    "name": "ipython",
    "version": 3
   },
   "file_extension": ".py",
   "mimetype": "text/x-python",
   "name": "python",
   "nbconvert_exporter": "python",
   "pygments_lexer": "ipython3",
   "version": "3.8.13"
  }
 },
 "nbformat": 4,
 "nbformat_minor": 4
}
