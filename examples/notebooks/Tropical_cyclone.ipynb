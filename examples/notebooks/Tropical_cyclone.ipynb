{
 "cells": [
  {
   "cell_type": "markdown",
   "id": "fe22c0a7-5405-43c1-9899-1046e10d054d",
   "metadata": {},
   "source": [
    "# Running a tropical cyclone test case\n",
    "\n",
    "First we set up the mpi environment:"
   ]
  },
  {
   "cell_type": "code",
   "execution_count": 1,
   "id": "6a6548df-a64c-43ff-a727-3ab25b74e0e7",
   "metadata": {},
   "outputs": [
    {
     "name": "stdout",
     "output_type": "stream",
     "text": [
      "Starting 6 engines with <class 'ipyparallel.cluster.launcher.MPIEngineSetLauncher'>\n"
     ]
    },
    {
     "data": {
      "application/vnd.jupyter.widget-view+json": {
       "model_id": "ee2fe6ef7d7c4612a489e3986e0acf25",
       "version_major": 2,
       "version_minor": 0
      },
      "text/plain": [
       "  0%|          | 0/6 [00:00<?, ?engine/s]"
      ]
     },
     "metadata": {},
     "output_type": "display_data"
    }
   ],
   "source": [
    "import ipyparallel as ipp\n",
    "ntiles = 6\n",
    "layout = (1, 1)\n",
    "\n",
    "num_ranks = ntiles * layout[0] * layout[1]\n",
    "cluster = ipp.Cluster(engines=\"mpi\", n=num_ranks).start_and_connect_sync()\n",
    "\n"
   ]
  },
  {
   "cell_type": "markdown",
   "id": "f055d625-7435-4608-a09f-61be7dbf985b",
   "metadata": {},
   "source": [
    "Next we set up the model driver using the yaml config file:"
   ]
  },
  {
   "cell_type": "code",
   "execution_count": 2,
   "id": "c125d010-778c-4826-8583-c75d2cf60610",
   "metadata": {},
   "outputs": [
    {
     "data": {
      "text/html": [
       "<link href=\"https://fonts.googleapis.com/icon?family=Material+Icons\" rel=\"stylesheet\"><script src=\"https://spcl.github.io/dace/webclient2/dist/sdfv.js\"></script>\n",
       "<link href=\"https://spcl.github.io/dace/webclient2/sdfv.css\" rel=\"stylesheet\">\n"
      ],
      "text/plain": [
       "<IPython.core.display.HTML object>"
      ]
     },
     "metadata": {},
     "output_type": "display_data"
    },
    {
     "name": "stdout",
     "output_type": "stream",
     "text": [
      "2024-01-16 22:14:00|INFO|rank 0|pace.util.logging:Constant selected: ConstantVersions.GFS\n"
     ]
    },
    {
     "ename": "UnexpectedDataError",
     "evalue": "can not match \"p_ref\" to any data class field",
     "output_type": "error",
     "traceback": [
      "\u001b[0;31m---------------------------------------------------------------------------\u001b[0m",
      "\u001b[0;31mUnexpectedDataError\u001b[0m                       Traceback (most recent call last)",
      "Cell \u001b[0;32mIn [2], line 7\u001b[0m\n\u001b[1;32m      4\u001b[0m config_file \u001b[38;5;241m=\u001b[39m \u001b[38;5;124m\"\u001b[39m\u001b[38;5;124mtropicalcyclone_c20.yaml\u001b[39m\u001b[38;5;124m\"\u001b[39m\n\u001b[1;32m      6\u001b[0m \u001b[38;5;28;01mwith\u001b[39;00m \u001b[38;5;28mopen\u001b[39m(config_file, \u001b[38;5;124m\"\u001b[39m\u001b[38;5;124mr\u001b[39m\u001b[38;5;124m\"\u001b[39m) \u001b[38;5;28;01mas\u001b[39;00m f:\n\u001b[0;32m----> 7\u001b[0m     driver_config \u001b[38;5;241m=\u001b[39m \u001b[43mDriverConfig\u001b[49m\u001b[38;5;241;43m.\u001b[39;49m\u001b[43mfrom_dict\u001b[49m\u001b[43m(\u001b[49m\u001b[43myaml\u001b[49m\u001b[38;5;241;43m.\u001b[39;49m\u001b[43msafe_load\u001b[49m\u001b[43m(\u001b[49m\u001b[43mf\u001b[49m\u001b[43m)\u001b[49m\u001b[43m)\u001b[49m\n\u001b[1;32m      8\u001b[0m driver \u001b[38;5;241m=\u001b[39m Driver(config\u001b[38;5;241m=\u001b[39mdriver_config)\n",
      "File \u001b[0;32m/usr/local/lib/python3.8/dist-packages/pace/driver/driver.py:246\u001b[0m, in \u001b[0;36mDriverConfig.from_dict\u001b[0;34m(cls, kwargs)\u001b[0m\n\u001b[1;32m    240\u001b[0m         \u001b[38;5;28;01mif\u001b[39;00m derived_name \u001b[38;5;129;01min\u001b[39;00m kwargs[\u001b[38;5;124m\"\u001b[39m\u001b[38;5;124mdycore_config\u001b[39m\u001b[38;5;124m\"\u001b[39m]:\n\u001b[1;32m    241\u001b[0m             \u001b[38;5;28;01mraise\u001b[39;00m \u001b[38;5;167;01mValueError\u001b[39;00m(\n\u001b[1;32m    242\u001b[0m                 \u001b[38;5;124mf\u001b[39m\u001b[38;5;124m\"\u001b[39m\u001b[38;5;124myou cannot set \u001b[39m\u001b[38;5;132;01m{\u001b[39;00mderived_name\u001b[38;5;132;01m}\u001b[39;00m\u001b[38;5;124m directly in dycore_config, \u001b[39m\u001b[38;5;124m\"\u001b[39m\n\u001b[1;32m    243\u001b[0m                 \u001b[38;5;124m\"\u001b[39m\u001b[38;5;124mas it is determined based on top-level configuration\u001b[39m\u001b[38;5;124m\"\u001b[39m\n\u001b[1;32m    244\u001b[0m             )\n\u001b[0;32m--> 246\u001b[0m     kwargs[\u001b[38;5;124m\"\u001b[39m\u001b[38;5;124mdycore_config\u001b[39m\u001b[38;5;124m\"\u001b[39m] \u001b[38;5;241m=\u001b[39m \u001b[43mdacite\u001b[49m\u001b[38;5;241;43m.\u001b[39;49m\u001b[43mfrom_dict\u001b[49m\u001b[43m(\u001b[49m\n\u001b[1;32m    247\u001b[0m \u001b[43m        \u001b[49m\u001b[43mdata_class\u001b[49m\u001b[38;5;241;43m=\u001b[39;49m\u001b[43mfv3core\u001b[49m\u001b[38;5;241;43m.\u001b[39;49m\u001b[43mDynamicalCoreConfig\u001b[49m\u001b[43m,\u001b[49m\n\u001b[1;32m    248\u001b[0m \u001b[43m        \u001b[49m\u001b[43mdata\u001b[49m\u001b[38;5;241;43m=\u001b[39;49m\u001b[43mkwargs\u001b[49m\u001b[38;5;241;43m.\u001b[39;49m\u001b[43mget\u001b[49m\u001b[43m(\u001b[49m\u001b[38;5;124;43m\"\u001b[39;49m\u001b[38;5;124;43mdycore_config\u001b[39;49m\u001b[38;5;124;43m\"\u001b[39;49m\u001b[43m,\u001b[49m\u001b[43m \u001b[49m\u001b[43m{\u001b[49m\u001b[43m}\u001b[49m\u001b[43m)\u001b[49m\u001b[43m,\u001b[49m\n\u001b[1;32m    249\u001b[0m \u001b[43m        \u001b[49m\u001b[43mconfig\u001b[49m\u001b[38;5;241;43m=\u001b[39;49m\u001b[43mdacite\u001b[49m\u001b[38;5;241;43m.\u001b[39;49m\u001b[43mConfig\u001b[49m\u001b[43m(\u001b[49m\u001b[43mstrict\u001b[49m\u001b[38;5;241;43m=\u001b[39;49m\u001b[38;5;28;43;01mTrue\u001b[39;49;00m\u001b[43m)\u001b[49m\u001b[43m,\u001b[49m\n\u001b[1;32m    250\u001b[0m \u001b[43m    \u001b[49m\u001b[43m)\u001b[49m\n\u001b[1;32m    252\u001b[0m \u001b[38;5;28;01mif\u001b[39;00m \u001b[38;5;28misinstance\u001b[39m(kwargs[\u001b[38;5;124m\"\u001b[39m\u001b[38;5;124mphysics_config\u001b[39m\u001b[38;5;124m\"\u001b[39m], \u001b[38;5;28mdict\u001b[39m):\n\u001b[1;32m    253\u001b[0m     kwargs[\u001b[38;5;124m\"\u001b[39m\u001b[38;5;124mphysics_config\u001b[39m\u001b[38;5;124m\"\u001b[39m] \u001b[38;5;241m=\u001b[39m dacite\u001b[38;5;241m.\u001b[39mfrom_dict(\n\u001b[1;32m    254\u001b[0m         data_class\u001b[38;5;241m=\u001b[39mpace\u001b[38;5;241m.\u001b[39mphysics\u001b[38;5;241m.\u001b[39mPhysicsConfig,\n\u001b[1;32m    255\u001b[0m         data\u001b[38;5;241m=\u001b[39mkwargs\u001b[38;5;241m.\u001b[39mget(\u001b[38;5;124m\"\u001b[39m\u001b[38;5;124mphysics_config\u001b[39m\u001b[38;5;124m\"\u001b[39m, {}),\n\u001b[1;32m    256\u001b[0m         config\u001b[38;5;241m=\u001b[39mdacite\u001b[38;5;241m.\u001b[39mConfig(strict\u001b[38;5;241m=\u001b[39m\u001b[38;5;28;01mTrue\u001b[39;00m),\n\u001b[1;32m    257\u001b[0m     )\n",
      "File \u001b[0;32m/usr/local/lib/python3.8/dist-packages/dacite/core.py:53\u001b[0m, in \u001b[0;36mfrom_dict\u001b[0;34m(data_class, data, config)\u001b[0m\n\u001b[1;32m     51\u001b[0m     extra_fields \u001b[38;5;241m=\u001b[39m \u001b[38;5;28mset\u001b[39m(data\u001b[38;5;241m.\u001b[39mkeys()) \u001b[38;5;241m-\u001b[39m {f\u001b[38;5;241m.\u001b[39mname \u001b[38;5;28;01mfor\u001b[39;00m f \u001b[38;5;129;01min\u001b[39;00m data_class_fields}\n\u001b[1;32m     52\u001b[0m     \u001b[38;5;28;01mif\u001b[39;00m extra_fields:\n\u001b[0;32m---> 53\u001b[0m         \u001b[38;5;28;01mraise\u001b[39;00m UnexpectedDataError(keys\u001b[38;5;241m=\u001b[39mextra_fields)\n\u001b[1;32m     54\u001b[0m \u001b[38;5;28;01mfor\u001b[39;00m field \u001b[38;5;129;01min\u001b[39;00m data_class_fields:\n\u001b[1;32m     55\u001b[0m     field \u001b[38;5;241m=\u001b[39m copy\u001b[38;5;241m.\u001b[39mcopy(field)\n",
      "\u001b[0;31mUnexpectedDataError\u001b[0m: can not match \"p_ref\" to any data class field"
     ]
    }
   ],
   "source": [
    "from pace.driver.run import Driver, DriverConfig\n",
    "import yaml\n",
    "\n",
    "config_file = \"tropicalcyclone_c20.yaml\"\n",
    "\n",
    "with open(config_file, \"r\") as f:\n",
    "    driver_config = DriverConfig.from_dict(yaml.safe_load(f))\n",
    "driver = Driver(config=driver_config)"
   ]
  },
  {
   "cell_type": "markdown",
   "id": "03e75e4c-36ac-49b5-b920-826c87a9187d",
   "metadata": {},
   "source": [
    "And finally we can run the model:"
   ]
  },
  {
   "cell_type": "code",
   "execution_count": null,
   "id": "158c3c56-2e3b-4d9f-9b4d-4f4d3180782d",
   "metadata": {},
   "outputs": [],
   "source": [
    "try:\n",
    "    driver.step_all()\n",
    "finally:\n",
    "    driver.cleanup()\n"
   ]
  }
 ],
 "metadata": {
  "kernelspec": {
   "display_name": "Python 3 (ipykernel)",
   "language": "python",
   "name": "python3"
  },
  "language_info": {
   "codemirror_mode": {
    "name": "ipython",
    "version": 3
   },
   "file_extension": ".py",
   "mimetype": "text/x-python",
   "name": "python",
   "nbconvert_exporter": "python",
   "pygments_lexer": "ipython3",
   "version": "3.8.10"
  }
 },
 "nbformat": 4,
 "nbformat_minor": 5
}
