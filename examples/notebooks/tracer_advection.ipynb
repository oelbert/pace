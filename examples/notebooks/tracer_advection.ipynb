{
 "cells": [
  {
   "cell_type": "markdown",
   "id": "0b529b47-dc18-44c8-9360-c2099e26f08c",
   "metadata": {},
   "source": [
    "# Isolating Model Components\n",
    "If we want to we can examine individual model components in a notebook. Here we'll look at the tracer advection"
   ]
  },
  {
   "cell_type": "markdown",
   "id": "717883ee-5e54-4ddd-8bd6-d31d25865d26",
   "metadata": {},
   "source": [
    "First we set up the environment"
   ]
  },
  {
   "cell_type": "code",
   "execution_count": 1,
   "id": "aee83b06-23bc-4609-ad64-dfbed441fe54",
   "metadata": {},
   "outputs": [
    {
     "name": "stdout",
     "output_type": "stream",
     "text": [
      "Starting 6 engines with <class 'ipyparallel.cluster.launcher.MPIEngineSetLauncher'>\n",
      "100%|█████████████████████████████████████████| 6/6 [00:05<00:00,  1.07engine/s]\n",
      "%autopx enabled\n"
     ]
    }
   ],
   "source": [
    "nx = 20\n",
    "ny = 20\n",
    "nz = 79\n",
    "nhalo = 3\n",
    "backend = \"numpy\"\n",
    "\n",
    "import ipyparallel as ipp\n",
    "\n",
    "layout = (1, 1)\n",
    "ntiles = 6\n",
    "# spinup cluster of MPI-workers\n",
    "num_ranks = ntiles * layout[0] * layout[1]\n",
    "\n",
    "tracer_center = (0, 0)\n",
    "test_case = \"b\"\n",
    "timestep = 900.0\n",
    "\n",
    "cluster = ipp.Cluster(engines=\"mpi\", n=num_ranks).start_and_connect_sync()\n",
    "\n",
    "# broadcast configuration to all workers\n",
    "ar = cluster[:].push(\n",
    "    {\n",
    "        \"ntiles\": ntiles,\n",
    "        \"nx\": nx,\n",
    "        \"ny\": ny,\n",
    "        \"nz\": nz,\n",
    "        \"nhalo\": nhalo,\n",
    "        \"layout\": layout,\n",
    "        \"backend\": backend,\n",
    "        \"tracer_center\": tracer_center,\n",
    "        \"test_case\": test_case,\n",
    "        \"timestep\": timestep\n",
    "    }\n",
    ")\n",
    "\n",
    "# start executing cells on the workers in parallel from here on\n",
    "%autopx"
   ]
  },
  {
   "cell_type": "markdown",
   "id": "bb38e329-202d-4e38-80d3-dd797c71d58c",
   "metadata": {},
   "source": [
    "Now in an mpi context we can set up and run the advection scheme:"
   ]
  },
  {
   "cell_type": "code",
   "execution_count": 2,
   "id": "08b884c5-6a41-41e5-828e-5ae02ed1e46c",
   "metadata": {},
   "outputs": [],
   "source": [
    "from mpi4py import MPI\n",
    "\n",
    "mpi_comm = MPI.COMM_WORLD\n",
    "mpi_rank = mpi_comm.Get_rank()"
   ]
  },
  {
   "cell_type": "code",
   "execution_count": 3,
   "id": "a875a55f-93da-4eb5-a1ef-f5e121e06efa",
   "metadata": {},
   "outputs": [
    {
     "name": "stdout",
     "output_type": "stream",
     "text": [
      "%px:   0%|                                             | 0/6 [00:01<?, ?tasks/s]"
     ]
    },
    {
     "data": {
      "text/plain": [
       "[output:3]"
      ]
     },
     "metadata": {},
     "output_type": "display_data"
    },
    {
     "data": {
      "text/html": [
       "<link href=\"https://fonts.googleapis.com/icon?family=Material+Icons\" rel=\"stylesheet\"><script src=\"https://spcl.github.io/dace/webclient2/dist/sdfv.js\"></script>\n",
       "<link href=\"https://spcl.github.io/dace/webclient2/sdfv.css\" rel=\"stylesheet\">\n"
      ],
      "text/plain": [
       "<IPython.core.display.HTML object>"
      ]
     },
     "metadata": {
      "engine": 3
     },
     "output_type": "display_data"
    },
    {
     "name": "stdout",
     "output_type": "stream",
     "text": [
      "%px:   0%|                                             | 0/6 [00:01<?, ?tasks/s]"
     ]
    },
    {
     "data": {
      "text/plain": [
       "[output:5]"
      ]
     },
     "metadata": {},
     "output_type": "display_data"
    },
    {
     "data": {
      "text/html": [
       "<link href=\"https://fonts.googleapis.com/icon?family=Material+Icons\" rel=\"stylesheet\"><script src=\"https://spcl.github.io/dace/webclient2/dist/sdfv.js\"></script>\n",
       "<link href=\"https://spcl.github.io/dace/webclient2/sdfv.css\" rel=\"stylesheet\">\n"
      ],
      "text/plain": [
       "<IPython.core.display.HTML object>"
      ]
     },
     "metadata": {
      "engine": 5
     },
     "output_type": "display_data"
    },
    {
     "name": "stdout",
     "output_type": "stream",
     "text": [
      "%px:   0%|                                             | 0/6 [00:01<?, ?tasks/s]"
     ]
    },
    {
     "data": {
      "text/plain": [
       "[output:4]"
      ]
     },
     "metadata": {},
     "output_type": "display_data"
    },
    {
     "data": {
      "text/html": [
       "<link href=\"https://fonts.googleapis.com/icon?family=Material+Icons\" rel=\"stylesheet\"><script src=\"https://spcl.github.io/dace/webclient2/dist/sdfv.js\"></script>\n",
       "<link href=\"https://spcl.github.io/dace/webclient2/sdfv.css\" rel=\"stylesheet\">\n"
      ],
      "text/plain": [
       "<IPython.core.display.HTML object>"
      ]
     },
     "metadata": {
      "engine": 4
     },
     "output_type": "display_data"
    },
    {
     "name": "stdout",
     "output_type": "stream",
     "text": [
      "%px:   0%|                                             | 0/6 [00:01<?, ?tasks/s]"
     ]
    },
    {
     "data": {
      "text/plain": [
       "[output:0]"
      ]
     },
     "metadata": {},
     "output_type": "display_data"
    },
    {
     "data": {
      "text/html": [
       "<link href=\"https://fonts.googleapis.com/icon?family=Material+Icons\" rel=\"stylesheet\"><script src=\"https://spcl.github.io/dace/webclient2/dist/sdfv.js\"></script>\n",
       "<link href=\"https://spcl.github.io/dace/webclient2/sdfv.css\" rel=\"stylesheet\">\n"
      ],
      "text/plain": [
       "<IPython.core.display.HTML object>"
      ]
     },
     "metadata": {
      "engine": 0
     },
     "output_type": "display_data"
    },
    {
     "name": "stdout",
     "output_type": "stream",
     "text": [
      "%px:   0%|                                             | 0/6 [00:01<?, ?tasks/s]"
     ]
    },
    {
     "data": {
      "text/plain": [
       "[output:1]"
      ]
     },
     "metadata": {},
     "output_type": "display_data"
    },
    {
     "data": {
      "text/html": [
       "<link href=\"https://fonts.googleapis.com/icon?family=Material+Icons\" rel=\"stylesheet\"><script src=\"https://spcl.github.io/dace/webclient2/dist/sdfv.js\"></script>\n",
       "<link href=\"https://spcl.github.io/dace/webclient2/sdfv.css\" rel=\"stylesheet\">\n"
      ],
      "text/plain": [
       "<IPython.core.display.HTML object>"
      ]
     },
     "metadata": {
      "engine": 1
     },
     "output_type": "display_data"
    },
    {
     "name": "stdout",
     "output_type": "stream",
     "text": [
      "%px:   0%|                                             | 0/6 [00:01<?, ?tasks/s]"
     ]
    },
    {
     "data": {
      "text/plain": [
       "[output:2]"
      ]
     },
     "metadata": {},
     "output_type": "display_data"
    },
    {
     "data": {
      "text/html": [
       "<link href=\"https://fonts.googleapis.com/icon?family=Material+Icons\" rel=\"stylesheet\"><script src=\"https://spcl.github.io/dace/webclient2/dist/sdfv.js\"></script>\n",
       "<link href=\"https://spcl.github.io/dace/webclient2/sdfv.css\" rel=\"stylesheet\">\n"
      ],
      "text/plain": [
       "<IPython.core.display.HTML object>"
      ]
     },
     "metadata": {
      "engine": 2
     },
     "output_type": "display_data"
    },
    {
     "name": "stdout",
     "output_type": "stream",
     "text": [
      "%px:   0%|                                             | 0/6 [00:02<?, ?tasks/s]"
     ]
    },
    {
     "data": {
      "text/plain": [
       "[stdout:3] 2024-01-24 17:45:02|INFO|rank 3|pace.util.logging:Constant selected: ConstantVersions.GFS\n"
      ]
     },
     "metadata": {},
     "output_type": "display_data"
    },
    {
     "data": {
      "text/plain": [
       "[stdout:5] 2024-01-24 17:45:02|INFO|rank 5|pace.util.logging:Constant selected: ConstantVersions.GFS\n"
      ]
     },
     "metadata": {},
     "output_type": "display_data"
    },
    {
     "data": {
      "text/plain": [
       "[stdout:0] 2024-01-24 17:45:02|INFO|rank 0|pace.util.logging:Constant selected: ConstantVersions.GFS\n"
      ]
     },
     "metadata": {},
     "output_type": "display_data"
    },
    {
     "data": {
      "text/plain": [
       "[stdout:4] 2024-01-24 17:45:02|INFO|rank 4|pace.util.logging:Constant selected: ConstantVersions.GFS\n"
      ]
     },
     "metadata": {},
     "output_type": "display_data"
    },
    {
     "name": "stdout",
     "output_type": "stream",
     "text": [
      "%px:   0%|                                             | 0/6 [00:02<?, ?tasks/s]"
     ]
    },
    {
     "data": {
      "text/plain": [
       "[stdout:1] 2024-01-24 17:45:02|INFO|rank 1|pace.util.logging:Constant selected: ConstantVersions.GFS\n"
      ]
     },
     "metadata": {},
     "output_type": "display_data"
    },
    {
     "name": "stdout",
     "output_type": "stream",
     "text": [
      "%px:   0%|                                             | 0/6 [00:02<?, ?tasks/s]"
     ]
    },
    {
     "data": {
      "text/plain": [
       "[stdout:2] 2024-01-24 17:45:03|INFO|rank 2|pace.util.logging:Constant selected: ConstantVersions.GFS\n"
      ]
     },
     "metadata": {},
     "output_type": "display_data"
    },
    {
     "name": "stdout",
     "output_type": "stream",
     "text": [
      "%px:   0%|                                             | 0/6 [00:04<?, ?tasks/s]"
     ]
    },
    {
     "data": {
      "text/plain": [
       "[stderr:2] /usr/local/lib/python3.8/dist-packages/pace/util/grid/gnomonic.py:682: RuntimeWarning: invalid value encountered in true_divide\n",
       "  np.sum(p * q, axis=-1)\n"
      ]
     },
     "metadata": {},
     "output_type": "display_data"
    },
    {
     "data": {
      "text/plain": [
       "[stderr:5] /usr/local/lib/python3.8/dist-packages/pace/util/grid/gnomonic.py:682: RuntimeWarning: invalid value encountered in true_divide\n",
       "  np.sum(p * q, axis=-1)\n"
      ]
     },
     "metadata": {},
     "output_type": "display_data"
    },
    {
     "name": "stdout",
     "output_type": "stream",
     "text": [
      "%px: 100%|█████████████████████████████████████| 6/6 [00:16<00:00,  2.67s/tasks]\n"
     ]
    }
   ],
   "source": [
    "import functions as func\n",
    "import importlib\n",
    "import copy as cp\n",
    "import importlib\n",
    "\n",
    "importlib.reload(func)\n",
    "\n",
    "nz = 1\n",
    "if nz == 1:\n",
    "    single_layer = True\n",
    "else:\n",
    "    single_layer = False\n",
    "\n",
    "namelist_dict = func.store_namelist_variables(locals())\n",
    "dimensions = func.define_dimensions(namelist_dict)\n",
    "\n",
    "\n",
    "domain_configuration = func.configure_domain(mpi_comm, dimensions, single_layer=single_layer)\n",
    "\n",
    "initial_state = func.create_initial_state_advection(\n",
    "    domain_configuration[\"metric_terms\"], dimensions, tracer_center, test_case\n",
    ")\n",
    "\n",
    "stencil_configuration = func.configure_stencil(domain_configuration, backend=backend)\n",
    "stencil_configuration[\"quantity_factory\"] = domain_configuration[\"quantity_factory\"]\n",
    "\n",
    "tracer_advection_data, tracer_advection = func.prepare_everything_for_advection(\n",
    "    stencil_configuration, initial_state, dimensions, timestep\n",
    ")\n",
    "\n",
    "tracer_advection_data_initial = cp.deepcopy(tracer_advection_data)\n",
    "\n",
    "tracer_state = [cp.deepcopy(tracer_advection_data_initial[\"tracers\"][\"tracer\"])]\n",
    "\n",
    "nSteps = 20\n",
    "for step in range(nSteps):\n",
    "    tracer_advection_data = func.run_advection_step_with_reset(\n",
    "        tracer_advection_data_initial, tracer_advection_data, tracer_advection\n",
    "    )\n",
    "\n",
    "    tracer_state.append(cp.deepcopy(tracer_advection_data[\"tracers\"][\"tracer\"]))"
   ]
  },
  {
   "cell_type": "markdown",
   "id": "94bcede3-6acb-48c4-a9f3-ccd25de146f9",
   "metadata": {},
   "source": [
    "Now we can plot the difference between the initial and final state and see that our tracer has been advected east as expected:"
   ]
  },
  {
   "cell_type": "code",
   "execution_count": 4,
   "id": "0456a33b-b601-43dd-bb49-a54f144a7968",
   "metadata": {},
   "outputs": [
    {
     "data": {
      "text/plain": [
       "[output:0]"
      ]
     },
     "metadata": {},
     "output_type": "display_data"
    },
    {
     "data": {
      "image/png": "[encoded data removed]",
      "text/plain": [
       "<Figure size 1600x400 with 6 Axes>"
      ]
     },
     "metadata": {
      "engine": 0
     },
     "output_type": "display_data"
    }
   ],
   "source": [
    "import matplotlib.pyplot as plt\n",
    "\n",
    "if mpi_rank == 0:\n",
    "    fig = plt.figure(figsize=(16, 4))\n",
    "    fig.patch.set_facecolor(\"white\")\n",
    "    ax_before = fig.add_subplot(131)\n",
    "    ax_after = fig.add_subplot(132)\n",
    "    ax_diff = fig.add_subplot(133)\n",
    "\n",
    "    f1 = ax_before.pcolormesh(\n",
    "        tracer_state[0].data[:, :, 0].T, vmin=-0, vmax=1, cmap=\"viridis\"\n",
    "    )\n",
    "    plt.colorbar(f1, ax=ax_before)\n",
    "    f2 = ax_after.pcolormesh(\n",
    "        tracer_state[-1].data[:, :, 0].T, vmin=-0, vmax=1, cmap=\"viridis\"\n",
    "    )\n",
    "    plt.colorbar(f2, ax=ax_after)\n",
    "    f3 = ax_diff.pcolormesh(\n",
    "        (tracer_state[-1].data[:, :, 0] - tracer_state[0].data[:, :, 0]).T,\n",
    "        vmin=-0.5,\n",
    "        vmax=0.5,\n",
    "        cmap=\"bwr\",\n",
    "    )\n",
    "    plt.colorbar(f3, ax=ax_diff)\n",
    "\n",
    "    ax_before.set_title(\"tracer concentration at t=0\")\n",
    "    ax_after.set_title(\"tracer concentration after %s steps\" % nSteps)\n",
    "    ax_diff.set_title(\"difference after %s steps\" % nSteps)\n",
    "    plt.show()"
   ]
  },
  {
   "cell_type": "code",
   "execution_count": null,
   "id": "9ac89db5-8730-44b5-9074-ad33cc3ed3f4",
   "metadata": {},
   "outputs": [],
   "source": []
  }
 ],
 "metadata": {
  "kernelspec": {
   "display_name": "Python 3 (ipykernel)",
   "language": "python",
   "name": "python3"
  },
  "language_info": {
   "codemirror_mode": {
    "name": "ipython",
    "version": 3
   },
   "file_extension": ".py",
   "mimetype": "text/x-python",
   "name": "python",
   "nbconvert_exporter": "python",
   "pygments_lexer": "ipython3",
   "version": "3.8.10"
  }
 },
 "nbformat": 4,
 "nbformat_minor": 5
}
