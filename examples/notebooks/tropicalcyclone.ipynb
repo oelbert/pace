{
 "cells": [
  {
   "cell_type": "markdown",
   "id": "bda373d3-462e-473a-b559-eb53e799859d",
   "metadata": {},
   "source": [
    "# Running a test Tropical Cyclone"
   ]
  },
  {
   "cell_type": "markdown",
   "id": "db62ce82-71ee-4ec2-808b-6f3e0f97dda7",
   "metadata": {},
   "source": [
    "First we set up our parallel environment for the notebook"
   ]
  },
  {
   "cell_type": "code",
   "execution_count": 1,
   "id": "6e1a3ba6-8700-46ed-91d8-e43b95b4c1e7",
   "metadata": {},
   "outputs": [
    {
     "name": "stdout",
     "output_type": "stream",
     "text": [
      "Starting 6 engines with <class 'ipyparallel.cluster.launcher.MPIEngineSetLauncher'>\n",
      "100%|█████████████████████████████████████████| 6/6 [00:05<00:00,  1.09engine/s]\n"
     ]
    }
   ],
   "source": [
    "import ipyparallel as ipp\n",
    "ntiles = 6\n",
    "layout = (1, 1)\n",
    "\n",
    "num_ranks = ntiles * layout[0] * layout[1]\n",
    "cluster = ipp.Cluster(engines=\"mpi\", n=num_ranks).start_and_connect_sync()"
   ]
  },
  {
   "cell_type": "code",
   "execution_count": 2,
   "id": "2cfeb78f-36b3-4929-9b0c-954158c310eb",
   "metadata": {},
   "outputs": [
    {
     "name": "stdout",
     "output_type": "stream",
     "text": [
      "%autopx enabled\n",
      "I am MPI-rank 0 of a total of 1\n"
     ]
    }
   ],
   "source": [
    "# start executing cells on the workers in parallel from here on\n",
    "%autopx\n",
    "\n",
    "from mpi4py import MPI\n",
    "\n",
    "mpi_comm = MPI.COMM_WORLD\n",
    "mpi_size = mpi_comm.Get_size()\n",
    "mpi_rank = mpi_comm.Get_rank()\n",
    "\n",
    "print(f\"I am MPI-rank {mpi_rank} of a total of {mpi_size}\")"
   ]
  },
  {
   "cell_type": "markdown",
   "id": "3e4d2c12-638e-4109-9d6a-921080f5c1dd",
   "metadata": {},
   "source": [
    "Now that we have a parallel environment with mpi we can initialize the model state:"
   ]
  },
  {
   "cell_type": "code",
   "execution_count": 3,
   "id": "2b8817fa-ea8c-4495-b1ca-cb9215ffc838",
   "metadata": {},
   "outputs": [
    {
     "data": {
      "text/plain": [
       "[output:1]"
      ]
     },
     "metadata": {},
     "output_type": "display_data"
    },
    {
     "data": {
      "text/html": [
       "<link href=\"https://fonts.googleapis.com/icon?family=Material+Icons\" rel=\"stylesheet\"><script src=\"https://spcl.github.io/dace/webclient2/dist/sdfv.js\"></script>\n",
       "<link href=\"https://spcl.github.io/dace/webclient2/sdfv.css\" rel=\"stylesheet\">\n"
      ],
      "text/plain": [
       "<IPython.core.display.HTML object>"
      ]
     },
     "metadata": {
      "engine": 1
     },
     "output_type": "display_data"
    },
    {
     "data": {
      "text/plain": [
       "[output:2]"
      ]
     },
     "metadata": {},
     "output_type": "display_data"
    },
    {
     "data": {
      "text/html": [
       "<link href=\"https://fonts.googleapis.com/icon?family=Material+Icons\" rel=\"stylesheet\"><script src=\"https://spcl.github.io/dace/webclient2/dist/sdfv.js\"></script>\n",
       "<link href=\"https://spcl.github.io/dace/webclient2/sdfv.css\" rel=\"stylesheet\">\n"
      ],
      "text/plain": [
       "<IPython.core.display.HTML object>"
      ]
     },
     "metadata": {
      "engine": 2
     },
     "output_type": "display_data"
    },
    {
     "data": {
      "text/plain": [
       "[output:4]"
      ]
     },
     "metadata": {},
     "output_type": "display_data"
    },
    {
     "data": {
      "text/html": [
       "<link href=\"https://fonts.googleapis.com/icon?family=Material+Icons\" rel=\"stylesheet\"><script src=\"https://spcl.github.io/dace/webclient2/dist/sdfv.js\"></script>\n",
       "<link href=\"https://spcl.github.io/dace/webclient2/sdfv.css\" rel=\"stylesheet\">\n"
      ],
      "text/plain": [
       "<IPython.core.display.HTML object>"
      ]
     },
     "metadata": {
      "engine": 4
     },
     "output_type": "display_data"
    },
    {
     "data": {
      "text/plain": [
       "[output:3]"
      ]
     },
     "metadata": {},
     "output_type": "display_data"
    },
    {
     "data": {
      "text/html": [
       "<link href=\"https://fonts.googleapis.com/icon?family=Material+Icons\" rel=\"stylesheet\"><script src=\"https://spcl.github.io/dace/webclient2/dist/sdfv.js\"></script>\n",
       "<link href=\"https://spcl.github.io/dace/webclient2/sdfv.css\" rel=\"stylesheet\">\n"
      ],
      "text/plain": [
       "<IPython.core.display.HTML object>"
      ]
     },
     "metadata": {
      "engine": 3
     },
     "output_type": "display_data"
    },
    {
     "data": {
      "text/plain": [
       "[output:0]"
      ]
     },
     "metadata": {},
     "output_type": "display_data"
    },
    {
     "data": {
      "text/html": [
       "<link href=\"https://fonts.googleapis.com/icon?family=Material+Icons\" rel=\"stylesheet\"><script src=\"https://spcl.github.io/dace/webclient2/dist/sdfv.js\"></script>\n",
       "<link href=\"https://spcl.github.io/dace/webclient2/sdfv.css\" rel=\"stylesheet\">\n"
      ],
      "text/plain": [
       "<IPython.core.display.HTML object>"
      ]
     },
     "metadata": {
      "engine": 0
     },
     "output_type": "display_data"
    },
    {
     "data": {
      "text/plain": [
       "[output:5]"
      ]
     },
     "metadata": {},
     "output_type": "display_data"
    },
    {
     "data": {
      "text/html": [
       "<link href=\"https://fonts.googleapis.com/icon?family=Material+Icons\" rel=\"stylesheet\"><script src=\"https://spcl.github.io/dace/webclient2/dist/sdfv.js\"></script>\n",
       "<link href=\"https://spcl.github.io/dace/webclient2/sdfv.css\" rel=\"stylesheet\">\n"
      ],
      "text/plain": [
       "<IPython.core.display.HTML object>"
      ]
     },
     "metadata": {
      "engine": 5
     },
     "output_type": "display_data"
    },
    {
     "data": {
      "text/plain": [
       "[stdout:0] 2024-01-22 04:22:35|INFO|rank 0|pace.util.logging:Constant selected: ConstantVersions.GFS\n",
       "2024-01-22 04:22:35|INFO|rank 0|pace.util.logging:initializing driver\n",
       "2024-01-22 04:22:35|INFO|rank 0|pace.util.logging:setting up grid started\n",
       "2024-01-22 04:22:35|INFO|rank 0|pace.util.logging:setting up grid done\n",
       "2024-01-22 04:22:35|INFO|rank 0|pace.util.logging:setting up state started\n",
       "\n"
      ]
     },
     "metadata": {},
     "output_type": "display_data"
    },
    {
     "data": {
      "text/plain": [
       "[stdout:2] 2024-01-22 04:22:35|INFO|rank 2|pace.util.logging:Constant selected: ConstantVersions.GFS\n",
       "2024-01-22 04:22:35|INFO|rank 2|pace.util.logging:initializing driver\n",
       "2024-01-22 04:22:35|INFO|rank 2|pace.util.logging:setting up grid started\n",
       "2024-01-22 04:22:35|INFO|rank 2|pace.util.logging:setting up grid done\n",
       "2024-01-22 04:22:35|INFO|rank 2|pace.util.logging:setting up state started\n",
       "\n"
      ]
     },
     "metadata": {},
     "output_type": "display_data"
    },
    {
     "data": {
      "text/plain": [
       "[stdout:4] 2024-01-22 04:22:35|INFO|rank 4|pace.util.logging:Constant selected: ConstantVersions.GFS\n",
       "2024-01-22 04:22:35|INFO|rank 4|pace.util.logging:initializing driver\n",
       "2024-01-22 04:22:35|INFO|rank 4|pace.util.logging:setting up grid started\n",
       "2024-01-22 04:22:35|INFO|rank 4|pace.util.logging:setting up grid done\n",
       "2024-01-22 04:22:35|INFO|rank 4|pace.util.logging:setting up state started\n",
       "\n"
      ]
     },
     "metadata": {},
     "output_type": "display_data"
    },
    {
     "data": {
      "text/plain": [
       "[stdout:3] 2024-01-22 04:22:35|INFO|rank 3|pace.util.logging:Constant selected: ConstantVersions.GFS\n",
       "2024-01-22 04:22:35|INFO|rank 3|pace.util.logging:initializing driver\n",
       "2024-01-22 04:22:35|INFO|rank 3|pace.util.logging:setting up grid started\n",
       "2024-01-22 04:22:35|INFO|rank 3|pace.util.logging:setting up grid done\n",
       "2024-01-22 04:22:35|INFO|rank 3|pace.util.logging:setting up state started\n",
       "\n"
      ]
     },
     "metadata": {},
     "output_type": "display_data"
    },
    {
     "data": {
      "text/plain": [
       "[stdout:1] 2024-01-22 04:22:35|INFO|rank 1|pace.util.logging:Constant selected: ConstantVersions.GFS\n",
       "2024-01-22 04:22:35|INFO|rank 1|pace.util.logging:initializing driver\n",
       "2024-01-22 04:22:35|INFO|rank 1|pace.util.logging:setting up grid started\n",
       "2024-01-22 04:22:35|INFO|rank 1|pace.util.logging:setting up grid done\n",
       "2024-01-22 04:22:35|INFO|rank 1|pace.util.logging:setting up state started\n",
       "\n"
      ]
     },
     "metadata": {},
     "output_type": "display_data"
    },
    {
     "data": {
      "text/plain": [
       "[stdout:5] 2024-01-22 04:22:35|INFO|rank 5|pace.util.logging:Constant selected: ConstantVersions.GFS\n",
       "2024-01-22 04:22:35|INFO|rank 5|pace.util.logging:initializing driver\n",
       "2024-01-22 04:22:35|INFO|rank 5|pace.util.logging:setting up grid started\n",
       "2024-01-22 04:22:35|INFO|rank 5|pace.util.logging:setting up grid done\n",
       "2024-01-22 04:22:35|INFO|rank 5|pace.util.logging:setting up state started\n",
       "\n"
      ]
     },
     "metadata": {},
     "output_type": "display_data"
    },
    {
     "name": "stdout",
     "output_type": "stream",
     "text": [
      "%px:   0%|                                             | 0/6 [00:00<?, ?tasks/s]"
     ]
    },
    {
     "data": {
      "text/plain": [
       "[stderr:5] /usr/local/lib/python3.8/dist-packages/pace/util/grid/gnomonic.py:682: RuntimeWarning: invalid value encountered in true_divide\n",
       "  np.sum(p * q, axis=-1)\n",
       "/usr/local/lib/python3.8/dist-packages/pace/fv3core/initialization/test_cases/initialize_tc.py:31: RuntimeWarning: divide by zero encountered in true_divide\n",
       "  1.0 - (ptmp / ps_v[:, :, None]) ** calc[\"exponent\"]\n",
       "/usr/local/lib/python3.8/dist-packages/pace/fv3core/initialization/test_cases/initialize_tc.py:415: RuntimeWarning: invalid value encountered in true_divide\n",
       "  0.5\n",
       "/usr/local/lib/python3.8/dist-packages/pace/fv3core/initialization/test_cases/initialize_tc.py:423: RuntimeWarning: invalid value encountered in true_divide\n",
       "  0.5\n"
      ]
     },
     "metadata": {},
     "output_type": "display_data"
    },
    {
     "data": {
      "text/plain": [
       "[stderr:2] /usr/local/lib/python3.8/dist-packages/pace/util/grid/gnomonic.py:682: RuntimeWarning: invalid value encountered in true_divide\n",
       "  np.sum(p * q, axis=-1)\n",
       "/usr/local/lib/python3.8/dist-packages/pace/fv3core/initialization/test_cases/initialize_tc.py:31: RuntimeWarning: divide by zero encountered in true_divide\n",
       "  1.0 - (ptmp / ps_v[:, :, None]) ** calc[\"exponent\"]\n",
       "/usr/local/lib/python3.8/dist-packages/pace/fv3core/initialization/test_cases/initialize_tc.py:415: RuntimeWarning: invalid value encountered in true_divide\n",
       "  0.5\n",
       "/usr/local/lib/python3.8/dist-packages/pace/fv3core/initialization/test_cases/initialize_tc.py:423: RuntimeWarning: invalid value encountered in true_divide\n",
       "  0.5\n"
      ]
     },
     "metadata": {},
     "output_type": "display_data"
    },
    {
     "data": {
      "text/plain": [
       "[stderr:4] /usr/local/lib/python3.8/dist-packages/pace/fv3core/initialization/test_cases/initialize_tc.py:31: RuntimeWarning: divide by zero encountered in true_divide\n",
       "  1.0 - (ptmp / ps_v[:, :, None]) ** calc[\"exponent\"]\n",
       "/usr/local/lib/python3.8/dist-packages/pace/fv3core/initialization/test_cases/initialize_tc.py:415: RuntimeWarning: invalid value encountered in true_divide\n",
       "  0.5\n",
       "/usr/local/lib/python3.8/dist-packages/pace/fv3core/initialization/test_cases/initialize_tc.py:423: RuntimeWarning: invalid value encountered in true_divide\n",
       "  0.5\n"
      ]
     },
     "metadata": {},
     "output_type": "display_data"
    },
    {
     "data": {
      "text/plain": [
       "[stderr:3] /usr/local/lib/python3.8/dist-packages/pace/fv3core/initialization/test_cases/initialize_tc.py:31: RuntimeWarning: divide by zero encountered in true_divide\n",
       "  1.0 - (ptmp / ps_v[:, :, None]) ** calc[\"exponent\"]\n",
       "/usr/local/lib/python3.8/dist-packages/pace/fv3core/initialization/test_cases/initialize_tc.py:415: RuntimeWarning: invalid value encountered in true_divide\n",
       "  0.5\n",
       "/usr/local/lib/python3.8/dist-packages/pace/fv3core/initialization/test_cases/initialize_tc.py:423: RuntimeWarning: invalid value encountered in true_divide\n",
       "  0.5\n"
      ]
     },
     "metadata": {},
     "output_type": "display_data"
    },
    {
     "data": {
      "text/plain": [
       "[stderr:0] /usr/local/lib/python3.8/dist-packages/pace/fv3core/initialization/test_cases/initialize_tc.py:31: RuntimeWarning: divide by zero encountered in true_divide\n",
       "  1.0 - (ptmp / ps_v[:, :, None]) ** calc[\"exponent\"]\n",
       "/usr/local/lib/python3.8/dist-packages/pace/fv3core/initialization/test_cases/initialize_tc.py:415: RuntimeWarning: invalid value encountered in true_divide\n",
       "  0.5\n",
       "/usr/local/lib/python3.8/dist-packages/pace/fv3core/initialization/test_cases/initialize_tc.py:423: RuntimeWarning: invalid value encountered in true_divide\n",
       "  0.5\n"
      ]
     },
     "metadata": {},
     "output_type": "display_data"
    },
    {
     "data": {
      "text/plain": [
       "[stderr:1] /usr/local/lib/python3.8/dist-packages/pace/fv3core/initialization/test_cases/initialize_tc.py:31: RuntimeWarning: divide by zero encountered in true_divide\n",
       "  1.0 - (ptmp / ps_v[:, :, None]) ** calc[\"exponent\"]\n",
       "/usr/local/lib/python3.8/dist-packages/pace/fv3core/initialization/test_cases/initialize_tc.py:415: RuntimeWarning: invalid value encountered in true_divide\n",
       "  0.5\n",
       "/usr/local/lib/python3.8/dist-packages/pace/fv3core/initialization/test_cases/initialize_tc.py:423: RuntimeWarning: invalid value encountered in true_divide\n",
       "  0.5\n"
      ]
     },
     "metadata": {},
     "output_type": "display_data"
    },
    {
     "name": "stdout",
     "output_type": "stream",
     "text": [
      "%px: 100%|█████████████████████████████████████| 6/6 [00:00<00:00, 13.24tasks/s]\n"
     ]
    },
    {
     "name": "stderr",
     "output_type": "stream",
     "text": [
      "[1:execute]\n",
      "\u001b[0;31m---------------------------------------------------------------------------\u001b[0m\n",
      "\u001b[0;31mValueError\u001b[0m                                Traceback (most recent call last)\n",
      "Cell \u001b[0;32mIn [1], line 10\u001b[0m\n",
      "\u001b[1;32m      8\u001b[0m \u001b[38;5;28;01mwith\u001b[39;00m \u001b[38;5;28mopen\u001b[39m(config_file, \u001b[38;5;124m\"\u001b[39m\u001b[38;5;124mr\u001b[39m\u001b[38;5;124m\"\u001b[39m) \u001b[38;5;28;01mas\u001b[39;00m f:\n",
      "\u001b[1;32m      9\u001b[0m     driver_config \u001b[38;5;241m=\u001b[39m DriverConfig\u001b[38;5;241m.\u001b[39mfrom_dict(yaml\u001b[38;5;241m.\u001b[39msafe_load(f))\n",
      "\u001b[0;32m---> 10\u001b[0m driver \u001b[38;5;241m=\u001b[39m \u001b[43mDriver\u001b[49m\u001b[43m(\u001b[49m\u001b[43mconfig\u001b[49m\u001b[38;5;241;43m=\u001b[39;49m\u001b[43mdriver_config\u001b[49m\u001b[43m)\u001b[49m\n",
      "\n",
      "File \u001b[0;32m/usr/local/lib/python3.8/dist-packages/pace/driver/driver.py:480\u001b[0m, in \u001b[0;36mDriver.__init__\u001b[0;34m(self, config)\u001b[0m\n",
      "\u001b[1;32m    478\u001b[0m pace_log\u001b[38;5;241m.\u001b[39minfo(\u001b[38;5;124m\"\u001b[39m\u001b[38;5;124msetting up grid done\u001b[39m\u001b[38;5;124m\"\u001b[39m)\n",
      "\u001b[1;32m    479\u001b[0m pace_log\u001b[38;5;241m.\u001b[39minfo(\u001b[38;5;124m\"\u001b[39m\u001b[38;5;124msetting up state started\u001b[39m\u001b[38;5;124m\"\u001b[39m)\n",
      "\u001b[0;32m--> 480\u001b[0m \u001b[38;5;28mself\u001b[39m\u001b[38;5;241m.\u001b[39mstate \u001b[38;5;241m=\u001b[39m \u001b[38;5;28;43mself\u001b[39;49m\u001b[38;5;241;43m.\u001b[39;49m\u001b[43mconfig\u001b[49m\u001b[38;5;241;43m.\u001b[39;49m\u001b[43mget_driver_state\u001b[49m\u001b[43m(\u001b[49m\n",
      "\u001b[1;32m    481\u001b[0m \u001b[43m    \u001b[49m\u001b[43mquantity_factory\u001b[49m\u001b[38;5;241;43m=\u001b[39;49m\u001b[38;5;28;43mself\u001b[39;49m\u001b[38;5;241;43m.\u001b[39;49m\u001b[43mquantity_factory\u001b[49m\u001b[43m,\u001b[49m\n",
      "\u001b[1;32m    482\u001b[0m \u001b[43m    \u001b[49m\u001b[43mcommunicator\u001b[49m\u001b[38;5;241;43m=\u001b[39;49m\u001b[43mcommunicator\u001b[49m\u001b[43m,\u001b[49m\n",
      "\u001b[1;32m    483\u001b[0m \u001b[43m    \u001b[49m\u001b[43mdamping_coefficients\u001b[49m\u001b[38;5;241;43m=\u001b[39;49m\u001b[43mdamping_coefficients\u001b[49m\u001b[43m,\u001b[49m\n",
      "\u001b[1;32m    484\u001b[0m \u001b[43m    \u001b[49m\u001b[43mdriver_grid_data\u001b[49m\u001b[38;5;241;43m=\u001b[39;49m\u001b[43mdriver_grid_data\u001b[49m\u001b[43m,\u001b[49m\n",
      "\u001b[1;32m    485\u001b[0m \u001b[43m    \u001b[49m\u001b[43mgrid_data\u001b[49m\u001b[38;5;241;43m=\u001b[39;49m\u001b[43mgrid_data\u001b[49m\u001b[43m,\u001b[49m\n",
      "\u001b[1;32m    486\u001b[0m \u001b[43m\u001b[49m\u001b[43m)\u001b[49m\n",
      "\u001b[1;32m    487\u001b[0m pace_log\u001b[38;5;241m.\u001b[39minfo(\u001b[38;5;124m\"\u001b[39m\u001b[38;5;124msetting up state done\u001b[39m\u001b[38;5;124m\"\u001b[39m)\n",
      "\u001b[1;32m    489\u001b[0m \u001b[38;5;28mself\u001b[39m\u001b[38;5;241m.\u001b[39m_start_time \u001b[38;5;241m=\u001b[39m \u001b[38;5;28mself\u001b[39m\u001b[38;5;241m.\u001b[39mconfig\u001b[38;5;241m.\u001b[39minitialization\u001b[38;5;241m.\u001b[39mstart_time\n",
      "\n",
      "File \u001b[0;32m/usr/local/lib/python3.8/dist-packages/pace/driver/driver.py:228\u001b[0m, in \u001b[0;36mDriverConfig.get_driver_state\u001b[0;34m(self, communicator, damping_coefficients, driver_grid_data, grid_data, quantity_factory, stencil_factory)\u001b[0m\n",
      "\u001b[1;32m    219\u001b[0m         grid_indexing \u001b[38;5;241m=\u001b[39m (\n",
      "\u001b[1;32m    220\u001b[0m             pace\u001b[38;5;241m.\u001b[39mdsl\u001b[38;5;241m.\u001b[39mstencil\u001b[38;5;241m.\u001b[39mGridIndexing\u001b[38;5;241m.\u001b[39mfrom_sizer_and_communicator(\n",
      "\u001b[1;32m    221\u001b[0m                 sizer\u001b[38;5;241m=\u001b[39msizer, comm\u001b[38;5;241m=\u001b[39mcommunicator\n",
      "\u001b[1;32m    222\u001b[0m             )\n",
      "\u001b[1;32m    223\u001b[0m         )\n",
      "\u001b[1;32m    224\u001b[0m         stencil_factory \u001b[38;5;241m=\u001b[39m pace\u001b[38;5;241m.\u001b[39mdsl\u001b[38;5;241m.\u001b[39mStencilFactory(\n",
      "\u001b[1;32m    225\u001b[0m             config\u001b[38;5;241m=\u001b[39m\u001b[38;5;28mself\u001b[39m\u001b[38;5;241m.\u001b[39mstencil_config, grid_indexing\u001b[38;5;241m=\u001b[39mgrid_indexing\n",
      "\u001b[1;32m    226\u001b[0m         )\n",
      "\u001b[0;32m--> 228\u001b[0m \u001b[38;5;28;01mreturn\u001b[39;00m \u001b[38;5;28;43mself\u001b[39;49m\u001b[38;5;241;43m.\u001b[39;49m\u001b[43minitialization\u001b[49m\u001b[38;5;241;43m.\u001b[39;49m\u001b[43mget_driver_state\u001b[49m\u001b[43m(\u001b[49m\n",
      "\u001b[1;32m    229\u001b[0m \u001b[43m    \u001b[49m\u001b[43mquantity_factory\u001b[49m\u001b[38;5;241;43m=\u001b[39;49m\u001b[43mquantity_factory\u001b[49m\u001b[43m,\u001b[49m\n",
      "\u001b[1;32m    230\u001b[0m \u001b[43m    \u001b[49m\u001b[43mcommunicator\u001b[49m\u001b[38;5;241;43m=\u001b[39;49m\u001b[43mcommunicator\u001b[49m\u001b[43m,\u001b[49m\n",
      "\u001b[1;32m    231\u001b[0m \u001b[43m    \u001b[49m\u001b[43mdamping_coefficients\u001b[49m\u001b[38;5;241;43m=\u001b[39;49m\u001b[43mdamping_coefficients\u001b[49m\u001b[43m,\u001b[49m\n",
      "\u001b[1;32m    232\u001b[0m \u001b[43m    \u001b[49m\u001b[43mdriver_grid_data\u001b[49m\u001b[38;5;241;43m=\u001b[39;49m\u001b[43mdriver_grid_data\u001b[49m\u001b[43m,\u001b[49m\n",
      "\u001b[1;32m    233\u001b[0m \u001b[43m    \u001b[49m\u001b[43mgrid_data\u001b[49m\u001b[38;5;241;43m=\u001b[39;49m\u001b[43mgrid_data\u001b[49m\u001b[43m,\u001b[49m\n",
      "\u001b[1;32m    234\u001b[0m \u001b[43m\u001b[49m\u001b[43m)\u001b[49m\n",
      "\n",
      "File \u001b[0;32m/usr/local/lib/python3.8/dist-packages/pace/driver/initialization.py:81\u001b[0m, in \u001b[0;36mInitializerSelector.get_driver_state\u001b[0;34m(self, quantity_factory, communicator, damping_coefficients, driver_grid_data, grid_data)\u001b[0m\n",
      "\u001b[1;32m     73\u001b[0m \u001b[38;5;28;01mdef\u001b[39;00m \u001b[38;5;21mget_driver_state\u001b[39m(\n",
      "\u001b[1;32m     74\u001b[0m     \u001b[38;5;28mself\u001b[39m,\n",
      "\u001b[1;32m     75\u001b[0m     quantity_factory: pace\u001b[38;5;241m.\u001b[39mutil\u001b[38;5;241m.\u001b[39mQuantityFactory,\n",
      "\u001b[0;32m   (...)\u001b[0m\n",
      "\u001b[1;32m     79\u001b[0m     grid_data: pace\u001b[38;5;241m.\u001b[39mutil\u001b[38;5;241m.\u001b[39mgrid\u001b[38;5;241m.\u001b[39mGridData,\n",
      "\u001b[1;32m     80\u001b[0m ) \u001b[38;5;241m-\u001b[39m\u001b[38;5;241m>\u001b[39m DriverState:\n",
      "\u001b[0;32m---> 81\u001b[0m     \u001b[38;5;28;01mreturn\u001b[39;00m \u001b[38;5;28;43mself\u001b[39;49m\u001b[38;5;241;43m.\u001b[39;49m\u001b[43mconfig\u001b[49m\u001b[38;5;241;43m.\u001b[39;49m\u001b[43mget_driver_state\u001b[49m\u001b[43m(\u001b[49m\n",
      "\u001b[1;32m     82\u001b[0m \u001b[43m        \u001b[49m\u001b[43mquantity_factory\u001b[49m\u001b[38;5;241;43m=\u001b[39;49m\u001b[43mquantity_factory\u001b[49m\u001b[43m,\u001b[49m\n",
      "\u001b[1;32m     83\u001b[0m \u001b[43m        \u001b[49m\u001b[43mcommunicator\u001b[49m\u001b[38;5;241;43m=\u001b[39;49m\u001b[43mcommunicator\u001b[49m\u001b[43m,\u001b[49m\n",
      "\u001b[1;32m     84\u001b[0m \u001b[43m        \u001b[49m\u001b[43mdamping_coefficients\u001b[49m\u001b[38;5;241;43m=\u001b[39;49m\u001b[43mdamping_coefficients\u001b[49m\u001b[43m,\u001b[49m\n",
      "\u001b[1;32m     85\u001b[0m \u001b[43m        \u001b[49m\u001b[43mdriver_grid_data\u001b[49m\u001b[38;5;241;43m=\u001b[39;49m\u001b[43mdriver_grid_data\u001b[49m\u001b[43m,\u001b[49m\n",
      "\u001b[1;32m     86\u001b[0m \u001b[43m        \u001b[49m\u001b[43mgrid_data\u001b[49m\u001b[38;5;241;43m=\u001b[39;49m\u001b[43mgrid_data\u001b[49m\u001b[43m,\u001b[49m\n",
      "\u001b[1;32m     87\u001b[0m \u001b[43m    \u001b[49m\u001b[43m)\u001b[49m\n",
      "\n",
      "File \u001b[0;32m/usr/local/lib/python3.8/dist-packages/pace/driver/initialization.py:113\u001b[0m, in \u001b[0;36mAnalyticInit.get_driver_state\u001b[0;34m(self, quantity_factory, communicator, damping_coefficients, driver_grid_data, grid_data)\u001b[0m\n",
      "\u001b[1;32m    105\u001b[0m \u001b[38;5;28;01mdef\u001b[39;00m \u001b[38;5;21mget_driver_state\u001b[39m(\n",
      "\u001b[1;32m    106\u001b[0m     \u001b[38;5;28mself\u001b[39m,\n",
      "\u001b[1;32m    107\u001b[0m     quantity_factory: pace\u001b[38;5;241m.\u001b[39mutil\u001b[38;5;241m.\u001b[39mQuantityFactory,\n",
      "\u001b[0;32m   (...)\u001b[0m\n",
      "\u001b[1;32m    111\u001b[0m     grid_data: pace\u001b[38;5;241m.\u001b[39mutil\u001b[38;5;241m.\u001b[39mgrid\u001b[38;5;241m.\u001b[39mGridData,\n",
      "\u001b[1;32m    112\u001b[0m ) \u001b[38;5;241m-\u001b[39m\u001b[38;5;241m>\u001b[39m DriverState:\n",
      "\u001b[0;32m--> 113\u001b[0m     dycore_state \u001b[38;5;241m=\u001b[39m \u001b[43manalytic_init\u001b[49m\u001b[38;5;241;43m.\u001b[39;49m\u001b[43minit_analytic_state\u001b[49m\u001b[43m(\u001b[49m\n",
      "\u001b[1;32m    114\u001b[0m \u001b[43m        \u001b[49m\u001b[43manalytic_init_case\u001b[49m\u001b[38;5;241;43m=\u001b[39;49m\u001b[38;5;28;43mself\u001b[39;49m\u001b[38;5;241;43m.\u001b[39;49m\u001b[43mcase\u001b[49m\u001b[43m,\u001b[49m\n",
      "\u001b[1;32m    115\u001b[0m \u001b[43m        \u001b[49m\u001b[43mgrid_data\u001b[49m\u001b[38;5;241;43m=\u001b[39;49m\u001b[43mgrid_data\u001b[49m\u001b[43m,\u001b[49m\n",
      "\u001b[1;32m    116\u001b[0m \u001b[43m        \u001b[49m\u001b[43mquantity_factory\u001b[49m\u001b[38;5;241;43m=\u001b[39;49m\u001b[43mquantity_factory\u001b[49m\u001b[43m,\u001b[49m\n",
      "\u001b[1;32m    117\u001b[0m \u001b[43m        \u001b[49m\u001b[43madiabatic\u001b[49m\u001b[38;5;241;43m=\u001b[39;49m\u001b[38;5;28;43;01mFalse\u001b[39;49;00m\u001b[43m,\u001b[49m\n",
      "\u001b[1;32m    118\u001b[0m \u001b[43m        \u001b[49m\u001b[43mhydrostatic\u001b[49m\u001b[38;5;241;43m=\u001b[39;49m\u001b[38;5;28;43;01mFalse\u001b[39;49;00m\u001b[43m,\u001b[49m\n",
      "\u001b[1;32m    119\u001b[0m \u001b[43m        \u001b[49m\u001b[43mmoist_phys\u001b[49m\u001b[38;5;241;43m=\u001b[39;49m\u001b[38;5;28;43;01mTrue\u001b[39;49;00m\u001b[43m,\u001b[49m\n",
      "\u001b[1;32m    120\u001b[0m \u001b[43m        \u001b[49m\u001b[43mcomm\u001b[49m\u001b[38;5;241;43m=\u001b[39;49m\u001b[43mcommunicator\u001b[49m\u001b[43m,\u001b[49m\n",
      "\u001b[1;32m    121\u001b[0m \u001b[43m    \u001b[49m\u001b[43m)\u001b[49m\n",
      "\u001b[1;32m    122\u001b[0m     physics_state \u001b[38;5;241m=\u001b[39m pace\u001b[38;5;241m.\u001b[39mphysics\u001b[38;5;241m.\u001b[39mPhysicsState\u001b[38;5;241m.\u001b[39minit_zeros(\n",
      "\u001b[1;32m    123\u001b[0m         quantity_factory\u001b[38;5;241m=\u001b[39mquantity_factory, active_packages\u001b[38;5;241m=\u001b[39m[\u001b[38;5;124m\"\u001b[39m\u001b[38;5;124mmicrophysics\u001b[39m\u001b[38;5;124m\"\u001b[39m]\n",
      "\u001b[1;32m    124\u001b[0m     )\n",
      "\u001b[1;32m    125\u001b[0m     tendency_state \u001b[38;5;241m=\u001b[39m TendencyState\u001b[38;5;241m.\u001b[39minit_zeros(\n",
      "\u001b[1;32m    126\u001b[0m         quantity_factory\u001b[38;5;241m=\u001b[39mquantity_factory,\n",
      "\u001b[1;32m    127\u001b[0m     )\n",
      "\n",
      "File \u001b[0;32m/usr/local/lib/python3.8/dist-packages/pace/fv3core/initialization/analytic_init.py:61\u001b[0m, in \u001b[0;36minit_analytic_state\u001b[0;34m(analytic_init_case, grid_data, quantity_factory, adiabatic, hydrostatic, moist_phys, comm)\u001b[0m\n",
      "\u001b[1;32m     57\u001b[0m     \u001b[38;5;28;01mimport\u001b[39;00m \u001b[38;5;21;01mpace\u001b[39;00m\u001b[38;5;21;01m.\u001b[39;00m\u001b[38;5;21;01mfv3core\u001b[39;00m\u001b[38;5;21;01m.\u001b[39;00m\u001b[38;5;21;01minitialization\u001b[39;00m\u001b[38;5;21;01m.\u001b[39;00m\u001b[38;5;21;01mtest_cases\u001b[39;00m\u001b[38;5;21;01m.\u001b[39;00m\u001b[38;5;21;01minitialize_tc\u001b[39;00m \u001b[38;5;28;01mas\u001b[39;00m \u001b[38;5;21;01mtc\u001b[39;00m\n",
      "\u001b[1;32m     59\u001b[0m     \u001b[38;5;28;01massert\u001b[39;00m \u001b[38;5;28misinstance\u001b[39m(comm, fv3util\u001b[38;5;241m.\u001b[39mCubedSphereCommunicator)\n",
      "\u001b[0;32m---> 61\u001b[0m     \u001b[38;5;28;01mreturn\u001b[39;00m \u001b[43mtc\u001b[49m\u001b[38;5;241;43m.\u001b[39;49m\u001b[43minit_tc_state\u001b[49m\u001b[43m(\u001b[49m\n",
      "\u001b[1;32m     62\u001b[0m \u001b[43m        \u001b[49m\u001b[43mgrid_data\u001b[49m\u001b[38;5;241;43m=\u001b[39;49m\u001b[43mgrid_data\u001b[49m\u001b[43m,\u001b[49m\n",
      "\u001b[1;32m     63\u001b[0m \u001b[43m        \u001b[49m\u001b[43mquantity_factory\u001b[49m\u001b[38;5;241;43m=\u001b[39;49m\u001b[43mquantity_factory\u001b[49m\u001b[43m,\u001b[49m\n",
      "\u001b[1;32m     64\u001b[0m \u001b[43m        \u001b[49m\u001b[43mhydrostatic\u001b[49m\u001b[38;5;241;43m=\u001b[39;49m\u001b[43mhydrostatic\u001b[49m\u001b[43m,\u001b[49m\n",
      "\u001b[1;32m     65\u001b[0m \u001b[43m        \u001b[49m\u001b[43mcomm\u001b[49m\u001b[38;5;241;43m=\u001b[39;49m\u001b[43mcomm\u001b[49m\u001b[43m,\u001b[49m\n",
      "\u001b[1;32m     66\u001b[0m \u001b[43m    \u001b[49m\u001b[43m)\u001b[49m\n",
      "\u001b[1;32m     67\u001b[0m \u001b[38;5;28;01melse\u001b[39;00m:\n",
      "\u001b[1;32m     68\u001b[0m     \u001b[38;5;28;01mraise\u001b[39;00m \u001b[38;5;167;01mValueError\u001b[39;00m(\u001b[38;5;124mf\u001b[39m\u001b[38;5;124m\"\u001b[39m\u001b[38;5;124mCase \u001b[39m\u001b[38;5;132;01m{\u001b[39;00manalytic_init_case\u001b[38;5;132;01m}\u001b[39;00m\u001b[38;5;124m not implemented\u001b[39m\u001b[38;5;124m\"\u001b[39m)\n",
      "\n",
      "File \u001b[0;32m/usr/local/lib/python3.8/dist-packages/pace/fv3core/initialization/test_cases/initialize_tc.py:555\u001b[0m, in \u001b[0;36minit_tc_state\u001b[0;34m(grid_data, quantity_factory, hydrostatic, comm)\u001b[0m\n",
      "\u001b[1;32m    550\u001b[0m ud, vd \u001b[38;5;241m=\u001b[39m _initialize_wind_dgrid(\n",
      "\u001b[1;32m    551\u001b[0m     grid_data, tc_properties, calc, pe_u, pe_v, ps_u, ps_v, shape\n",
      "\u001b[1;32m    552\u001b[0m )\n",
      "\u001b[1;32m    553\u001b[0m ua, va \u001b[38;5;241m=\u001b[39m _interpolate_winds_dgrid_agrid(grid_data, ud, vd, tc_properties, shape)\n",
      "\u001b[0;32m--> 555\u001b[0m qvapor, pt \u001b[38;5;241m=\u001b[39m \u001b[43m_initialize_qvapor_temperature\u001b[49m\u001b[43m(\u001b[49m\n",
      "\u001b[1;32m    556\u001b[0m \u001b[43m    \u001b[49m\u001b[43mgrid_data\u001b[49m\u001b[43m,\u001b[49m\u001b[43m \u001b[49m\u001b[43mpe\u001b[49m\u001b[43m,\u001b[49m\u001b[43m \u001b[49m\u001b[43mps\u001b[49m\u001b[43m,\u001b[49m\u001b[43m \u001b[49m\u001b[43mtc_properties\u001b[49m\u001b[43m,\u001b[49m\u001b[43m \u001b[49m\u001b[43mcalc\u001b[49m\u001b[43m,\u001b[49m\u001b[43m \u001b[49m\u001b[43mshape\u001b[49m\n",
      "\u001b[1;32m    557\u001b[0m \u001b[43m\u001b[49m\u001b[43m)\u001b[49m\n",
      "\u001b[1;32m    558\u001b[0m delz, w \u001b[38;5;241m=\u001b[39m _initialize_delz_w(pe, ps, pt, qvapor, tc_properties, calc, shape)\n",
      "\u001b[1;32m    560\u001b[0m numpy_state\u001b[38;5;241m.\u001b[39mdelp[:] \u001b[38;5;241m=\u001b[39m delp\n",
      "\n",
      "File \u001b[0;32m/usr/local/lib/python3.8/dist-packages/pace/fv3core/initialization/test_cases/initialize_tc.py:331\u001b[0m, in \u001b[0;36m_initialize_qvapor_temperature\u001b[0;34m(grid_data, pe, ps, tc_properties, calc, shape)\u001b[0m\n",
      "\u001b[1;32m    328\u001b[0m height \u001b[38;5;241m=\u001b[39m np\u001b[38;5;241m.\u001b[39mzeros(shape)\n",
      "\u001b[1;32m    330\u001b[0m ptmp \u001b[38;5;241m=\u001b[39m \u001b[38;5;241m0.5\u001b[39m \u001b[38;5;241m*\u001b[39m (pe[:, :, :\u001b[38;5;241m-\u001b[39m\u001b[38;5;241m1\u001b[39m] \u001b[38;5;241m+\u001b[39m pe[:, :, \u001b[38;5;241m1\u001b[39m:])\n",
      "\u001b[0;32m--> 331\u001b[0m height[:, :, :\u001b[38;5;241m-\u001b[39m\u001b[38;5;241m1\u001b[39m] \u001b[38;5;241m=\u001b[39m (calc[\u001b[38;5;124m\"\u001b[39m\u001b[38;5;124mt00\u001b[39m\u001b[38;5;124m\"\u001b[39m] \u001b[38;5;241m/\u001b[39m tc_properties[\u001b[38;5;124m\"\u001b[39m\u001b[38;5;124mgamma\u001b[39m\u001b[38;5;124m\"\u001b[39m]) \u001b[38;5;241m*\u001b[39m (\n",
      "\u001b[1;32m    332\u001b[0m     \u001b[38;5;241m1.0\u001b[39m \u001b[38;5;241m-\u001b[39m (ptmp \u001b[38;5;241m/\u001b[39m ps[:, :, \u001b[38;5;28;01mNone\u001b[39;00m]) \u001b[38;5;241m*\u001b[39m\u001b[38;5;241m*\u001b[39m calc[\u001b[38;5;124m\"\u001b[39m\u001b[38;5;124mexponent\u001b[39m\u001b[38;5;124m\"\u001b[39m]\n",
      "\u001b[1;32m    333\u001b[0m )\n",
      "\u001b[1;32m    334\u001b[0m qvapor \u001b[38;5;241m=\u001b[39m (\n",
      "\u001b[1;32m    335\u001b[0m     tc_properties[\u001b[38;5;124m\"\u001b[39m\u001b[38;5;124mq00\u001b[39m\u001b[38;5;124m\"\u001b[39m]\n",
      "\u001b[1;32m    336\u001b[0m     \u001b[38;5;241m*\u001b[39m np\u001b[38;5;241m.\u001b[39mexp(\u001b[38;5;241m-\u001b[39mheight \u001b[38;5;241m/\u001b[39m tc_properties[\u001b[38;5;124m\"\u001b[39m\u001b[38;5;124mzq1\u001b[39m\u001b[38;5;124m\"\u001b[39m])\n",
      "\u001b[1;32m    337\u001b[0m     \u001b[38;5;241m*\u001b[39m np\u001b[38;5;241m.\u001b[39mexp(\u001b[38;5;241m-\u001b[39m((height \u001b[38;5;241m/\u001b[39m tc_properties[\u001b[38;5;124m\"\u001b[39m\u001b[38;5;124mzq2\u001b[39m\u001b[38;5;124m\"\u001b[39m]) \u001b[38;5;241m*\u001b[39m\u001b[38;5;241m*\u001b[39m tc_properties[\u001b[38;5;124m\"\u001b[39m\u001b[38;5;124mexppz\u001b[39m\u001b[38;5;124m\"\u001b[39m]))\n",
      "\u001b[1;32m    338\u001b[0m )\n",
      "\u001b[1;32m    340\u001b[0m p2 \u001b[38;5;241m=\u001b[39m np\u001b[38;5;241m.\u001b[39mtranspose(\n",
      "\u001b[1;32m    341\u001b[0m     np\u001b[38;5;241m.\u001b[39mstack(\n",
      "\u001b[1;32m    342\u001b[0m         [\n",
      "\u001b[0;32m   (...)\u001b[0m\n",
      "\u001b[1;32m    347\u001b[0m     [\u001b[38;5;241m1\u001b[39m, \u001b[38;5;241m2\u001b[39m, \u001b[38;5;241m0\u001b[39m],\n",
      "\u001b[1;32m    348\u001b[0m )\n",
      "\n",
      "\u001b[0;31mValueError\u001b[0m: could not broadcast input array from shape (27,27,78) into shape (27,27,79)\n",
      "[3:execute]\n",
      "\u001b[0;31m---------------------------------------------------------------------------\u001b[0m\n",
      "\u001b[0;31mValueError\u001b[0m                                Traceback (most recent call last)\n",
      "Cell \u001b[0;32mIn [1], line 10\u001b[0m\n",
      "\u001b[1;32m      8\u001b[0m \u001b[38;5;28;01mwith\u001b[39;00m \u001b[38;5;28mopen\u001b[39m(config_file, \u001b[38;5;124m\"\u001b[39m\u001b[38;5;124mr\u001b[39m\u001b[38;5;124m\"\u001b[39m) \u001b[38;5;28;01mas\u001b[39;00m f:\n",
      "\u001b[1;32m      9\u001b[0m     driver_config \u001b[38;5;241m=\u001b[39m DriverConfig\u001b[38;5;241m.\u001b[39mfrom_dict(yaml\u001b[38;5;241m.\u001b[39msafe_load(f))\n",
      "\u001b[0;32m---> 10\u001b[0m driver \u001b[38;5;241m=\u001b[39m \u001b[43mDriver\u001b[49m\u001b[43m(\u001b[49m\u001b[43mconfig\u001b[49m\u001b[38;5;241;43m=\u001b[39;49m\u001b[43mdriver_config\u001b[49m\u001b[43m)\u001b[49m\n",
      "\n",
      "File \u001b[0;32m/usr/local/lib/python3.8/dist-packages/pace/driver/driver.py:480\u001b[0m, in \u001b[0;36mDriver.__init__\u001b[0;34m(self, config)\u001b[0m\n",
      "\u001b[1;32m    478\u001b[0m pace_log\u001b[38;5;241m.\u001b[39minfo(\u001b[38;5;124m\"\u001b[39m\u001b[38;5;124msetting up grid done\u001b[39m\u001b[38;5;124m\"\u001b[39m)\n",
      "\u001b[1;32m    479\u001b[0m pace_log\u001b[38;5;241m.\u001b[39minfo(\u001b[38;5;124m\"\u001b[39m\u001b[38;5;124msetting up state started\u001b[39m\u001b[38;5;124m\"\u001b[39m)\n",
      "\u001b[0;32m--> 480\u001b[0m \u001b[38;5;28mself\u001b[39m\u001b[38;5;241m.\u001b[39mstate \u001b[38;5;241m=\u001b[39m \u001b[38;5;28;43mself\u001b[39;49m\u001b[38;5;241;43m.\u001b[39;49m\u001b[43mconfig\u001b[49m\u001b[38;5;241;43m.\u001b[39;49m\u001b[43mget_driver_state\u001b[49m\u001b[43m(\u001b[49m\n",
      "\u001b[1;32m    481\u001b[0m \u001b[43m    \u001b[49m\u001b[43mquantity_factory\u001b[49m\u001b[38;5;241;43m=\u001b[39;49m\u001b[38;5;28;43mself\u001b[39;49m\u001b[38;5;241;43m.\u001b[39;49m\u001b[43mquantity_factory\u001b[49m\u001b[43m,\u001b[49m\n",
      "\u001b[1;32m    482\u001b[0m \u001b[43m    \u001b[49m\u001b[43mcommunicator\u001b[49m\u001b[38;5;241;43m=\u001b[39;49m\u001b[43mcommunicator\u001b[49m\u001b[43m,\u001b[49m\n",
      "\u001b[1;32m    483\u001b[0m \u001b[43m    \u001b[49m\u001b[43mdamping_coefficients\u001b[49m\u001b[38;5;241;43m=\u001b[39;49m\u001b[43mdamping_coefficients\u001b[49m\u001b[43m,\u001b[49m\n",
      "\u001b[1;32m    484\u001b[0m \u001b[43m    \u001b[49m\u001b[43mdriver_grid_data\u001b[49m\u001b[38;5;241;43m=\u001b[39;49m\u001b[43mdriver_grid_data\u001b[49m\u001b[43m,\u001b[49m\n",
      "\u001b[1;32m    485\u001b[0m \u001b[43m    \u001b[49m\u001b[43mgrid_data\u001b[49m\u001b[38;5;241;43m=\u001b[39;49m\u001b[43mgrid_data\u001b[49m\u001b[43m,\u001b[49m\n",
      "\u001b[1;32m    486\u001b[0m \u001b[43m\u001b[49m\u001b[43m)\u001b[49m\n",
      "\u001b[1;32m    487\u001b[0m pace_log\u001b[38;5;241m.\u001b[39minfo(\u001b[38;5;124m\"\u001b[39m\u001b[38;5;124msetting up state done\u001b[39m\u001b[38;5;124m\"\u001b[39m)\n",
      "\u001b[1;32m    489\u001b[0m \u001b[38;5;28mself\u001b[39m\u001b[38;5;241m.\u001b[39m_start_time \u001b[38;5;241m=\u001b[39m \u001b[38;5;28mself\u001b[39m\u001b[38;5;241m.\u001b[39mconfig\u001b[38;5;241m.\u001b[39minitialization\u001b[38;5;241m.\u001b[39mstart_time\n",
      "\n",
      "File \u001b[0;32m/usr/local/lib/python3.8/dist-packages/pace/driver/driver.py:228\u001b[0m, in \u001b[0;36mDriverConfig.get_driver_state\u001b[0;34m(self, communicator, damping_coefficients, driver_grid_data, grid_data, quantity_factory, stencil_factory)\u001b[0m\n",
      "\u001b[1;32m    219\u001b[0m         grid_indexing \u001b[38;5;241m=\u001b[39m (\n",
      "\u001b[1;32m    220\u001b[0m             pace\u001b[38;5;241m.\u001b[39mdsl\u001b[38;5;241m.\u001b[39mstencil\u001b[38;5;241m.\u001b[39mGridIndexing\u001b[38;5;241m.\u001b[39mfrom_sizer_and_communicator(\n",
      "\u001b[1;32m    221\u001b[0m                 sizer\u001b[38;5;241m=\u001b[39msizer, comm\u001b[38;5;241m=\u001b[39mcommunicator\n",
      "\u001b[1;32m    222\u001b[0m             )\n",
      "\u001b[1;32m    223\u001b[0m         )\n",
      "\u001b[1;32m    224\u001b[0m         stencil_factory \u001b[38;5;241m=\u001b[39m pace\u001b[38;5;241m.\u001b[39mdsl\u001b[38;5;241m.\u001b[39mStencilFactory(\n",
      "\u001b[1;32m    225\u001b[0m             config\u001b[38;5;241m=\u001b[39m\u001b[38;5;28mself\u001b[39m\u001b[38;5;241m.\u001b[39mstencil_config, grid_indexing\u001b[38;5;241m=\u001b[39mgrid_indexing\n",
      "\u001b[1;32m    226\u001b[0m         )\n",
      "\u001b[0;32m--> 228\u001b[0m \u001b[38;5;28;01mreturn\u001b[39;00m \u001b[38;5;28;43mself\u001b[39;49m\u001b[38;5;241;43m.\u001b[39;49m\u001b[43minitialization\u001b[49m\u001b[38;5;241;43m.\u001b[39;49m\u001b[43mget_driver_state\u001b[49m\u001b[43m(\u001b[49m\n",
      "\u001b[1;32m    229\u001b[0m \u001b[43m    \u001b[49m\u001b[43mquantity_factory\u001b[49m\u001b[38;5;241;43m=\u001b[39;49m\u001b[43mquantity_factory\u001b[49m\u001b[43m,\u001b[49m\n",
      "\u001b[1;32m    230\u001b[0m \u001b[43m    \u001b[49m\u001b[43mcommunicator\u001b[49m\u001b[38;5;241;43m=\u001b[39;49m\u001b[43mcommunicator\u001b[49m\u001b[43m,\u001b[49m\n",
      "\u001b[1;32m    231\u001b[0m \u001b[43m    \u001b[49m\u001b[43mdamping_coefficients\u001b[49m\u001b[38;5;241;43m=\u001b[39;49m\u001b[43mdamping_coefficients\u001b[49m\u001b[43m,\u001b[49m\n",
      "\u001b[1;32m    232\u001b[0m \u001b[43m    \u001b[49m\u001b[43mdriver_grid_data\u001b[49m\u001b[38;5;241;43m=\u001b[39;49m\u001b[43mdriver_grid_data\u001b[49m\u001b[43m,\u001b[49m\n",
      "\u001b[1;32m    233\u001b[0m \u001b[43m    \u001b[49m\u001b[43mgrid_data\u001b[49m\u001b[38;5;241;43m=\u001b[39;49m\u001b[43mgrid_data\u001b[49m\u001b[43m,\u001b[49m\n",
      "\u001b[1;32m    234\u001b[0m \u001b[43m\u001b[49m\u001b[43m)\u001b[49m\n",
      "\n",
      "File \u001b[0;32m/usr/local/lib/python3.8/dist-packages/pace/driver/initialization.py:81\u001b[0m, in \u001b[0;36mInitializerSelector.get_driver_state\u001b[0;34m(self, quantity_factory, communicator, damping_coefficients, driver_grid_data, grid_data)\u001b[0m\n",
      "\u001b[1;32m     73\u001b[0m \u001b[38;5;28;01mdef\u001b[39;00m \u001b[38;5;21mget_driver_state\u001b[39m(\n",
      "\u001b[1;32m     74\u001b[0m     \u001b[38;5;28mself\u001b[39m,\n",
      "\u001b[1;32m     75\u001b[0m     quantity_factory: pace\u001b[38;5;241m.\u001b[39mutil\u001b[38;5;241m.\u001b[39mQuantityFactory,\n",
      "\u001b[0;32m   (...)\u001b[0m\n",
      "\u001b[1;32m     79\u001b[0m     grid_data: pace\u001b[38;5;241m.\u001b[39mutil\u001b[38;5;241m.\u001b[39mgrid\u001b[38;5;241m.\u001b[39mGridData,\n",
      "\u001b[1;32m     80\u001b[0m ) \u001b[38;5;241m-\u001b[39m\u001b[38;5;241m>\u001b[39m DriverState:\n",
      "\u001b[0;32m---> 81\u001b[0m     \u001b[38;5;28;01mreturn\u001b[39;00m \u001b[38;5;28;43mself\u001b[39;49m\u001b[38;5;241;43m.\u001b[39;49m\u001b[43mconfig\u001b[49m\u001b[38;5;241;43m.\u001b[39;49m\u001b[43mget_driver_state\u001b[49m\u001b[43m(\u001b[49m\n",
      "\u001b[1;32m     82\u001b[0m \u001b[43m        \u001b[49m\u001b[43mquantity_factory\u001b[49m\u001b[38;5;241;43m=\u001b[39;49m\u001b[43mquantity_factory\u001b[49m\u001b[43m,\u001b[49m\n",
      "\u001b[1;32m     83\u001b[0m \u001b[43m        \u001b[49m\u001b[43mcommunicator\u001b[49m\u001b[38;5;241;43m=\u001b[39;49m\u001b[43mcommunicator\u001b[49m\u001b[43m,\u001b[49m\n",
      "\u001b[1;32m     84\u001b[0m \u001b[43m        \u001b[49m\u001b[43mdamping_coefficients\u001b[49m\u001b[38;5;241;43m=\u001b[39;49m\u001b[43mdamping_coefficients\u001b[49m\u001b[43m,\u001b[49m\n",
      "\u001b[1;32m     85\u001b[0m \u001b[43m        \u001b[49m\u001b[43mdriver_grid_data\u001b[49m\u001b[38;5;241;43m=\u001b[39;49m\u001b[43mdriver_grid_data\u001b[49m\u001b[43m,\u001b[49m\n",
      "\u001b[1;32m     86\u001b[0m \u001b[43m        \u001b[49m\u001b[43mgrid_data\u001b[49m\u001b[38;5;241;43m=\u001b[39;49m\u001b[43mgrid_data\u001b[49m\u001b[43m,\u001b[49m\n",
      "\u001b[1;32m     87\u001b[0m \u001b[43m    \u001b[49m\u001b[43m)\u001b[49m\n",
      "\n",
      "File \u001b[0;32m/usr/local/lib/python3.8/dist-packages/pace/driver/initialization.py:113\u001b[0m, in \u001b[0;36mAnalyticInit.get_driver_state\u001b[0;34m(self, quantity_factory, communicator, damping_coefficients, driver_grid_data, grid_data)\u001b[0m\n",
      "\u001b[1;32m    105\u001b[0m \u001b[38;5;28;01mdef\u001b[39;00m \u001b[38;5;21mget_driver_state\u001b[39m(\n",
      "\u001b[1;32m    106\u001b[0m     \u001b[38;5;28mself\u001b[39m,\n",
      "\u001b[1;32m    107\u001b[0m     quantity_factory: pace\u001b[38;5;241m.\u001b[39mutil\u001b[38;5;241m.\u001b[39mQuantityFactory,\n",
      "\u001b[0;32m   (...)\u001b[0m\n",
      "\u001b[1;32m    111\u001b[0m     grid_data: pace\u001b[38;5;241m.\u001b[39mutil\u001b[38;5;241m.\u001b[39mgrid\u001b[38;5;241m.\u001b[39mGridData,\n",
      "\u001b[1;32m    112\u001b[0m ) \u001b[38;5;241m-\u001b[39m\u001b[38;5;241m>\u001b[39m DriverState:\n",
      "\u001b[0;32m--> 113\u001b[0m     dycore_state \u001b[38;5;241m=\u001b[39m \u001b[43manalytic_init\u001b[49m\u001b[38;5;241;43m.\u001b[39;49m\u001b[43minit_analytic_state\u001b[49m\u001b[43m(\u001b[49m\n",
      "\u001b[1;32m    114\u001b[0m \u001b[43m        \u001b[49m\u001b[43manalytic_init_case\u001b[49m\u001b[38;5;241;43m=\u001b[39;49m\u001b[38;5;28;43mself\u001b[39;49m\u001b[38;5;241;43m.\u001b[39;49m\u001b[43mcase\u001b[49m\u001b[43m,\u001b[49m\n",
      "\u001b[1;32m    115\u001b[0m \u001b[43m        \u001b[49m\u001b[43mgrid_data\u001b[49m\u001b[38;5;241;43m=\u001b[39;49m\u001b[43mgrid_data\u001b[49m\u001b[43m,\u001b[49m\n",
      "\u001b[1;32m    116\u001b[0m \u001b[43m        \u001b[49m\u001b[43mquantity_factory\u001b[49m\u001b[38;5;241;43m=\u001b[39;49m\u001b[43mquantity_factory\u001b[49m\u001b[43m,\u001b[49m\n",
      "\u001b[1;32m    117\u001b[0m \u001b[43m        \u001b[49m\u001b[43madiabatic\u001b[49m\u001b[38;5;241;43m=\u001b[39;49m\u001b[38;5;28;43;01mFalse\u001b[39;49;00m\u001b[43m,\u001b[49m\n",
      "\u001b[1;32m    118\u001b[0m \u001b[43m        \u001b[49m\u001b[43mhydrostatic\u001b[49m\u001b[38;5;241;43m=\u001b[39;49m\u001b[38;5;28;43;01mFalse\u001b[39;49;00m\u001b[43m,\u001b[49m\n",
      "\u001b[1;32m    119\u001b[0m \u001b[43m        \u001b[49m\u001b[43mmoist_phys\u001b[49m\u001b[38;5;241;43m=\u001b[39;49m\u001b[38;5;28;43;01mTrue\u001b[39;49;00m\u001b[43m,\u001b[49m\n",
      "\u001b[1;32m    120\u001b[0m \u001b[43m        \u001b[49m\u001b[43mcomm\u001b[49m\u001b[38;5;241;43m=\u001b[39;49m\u001b[43mcommunicator\u001b[49m\u001b[43m,\u001b[49m\n",
      "\u001b[1;32m    121\u001b[0m \u001b[43m    \u001b[49m\u001b[43m)\u001b[49m\n",
      "\u001b[1;32m    122\u001b[0m     physics_state \u001b[38;5;241m=\u001b[39m pace\u001b[38;5;241m.\u001b[39mphysics\u001b[38;5;241m.\u001b[39mPhysicsState\u001b[38;5;241m.\u001b[39minit_zeros(\n",
      "\u001b[1;32m    123\u001b[0m         quantity_factory\u001b[38;5;241m=\u001b[39mquantity_factory, active_packages\u001b[38;5;241m=\u001b[39m[\u001b[38;5;124m\"\u001b[39m\u001b[38;5;124mmicrophysics\u001b[39m\u001b[38;5;124m\"\u001b[39m]\n",
      "\u001b[1;32m    124\u001b[0m     )\n",
      "\u001b[1;32m    125\u001b[0m     tendency_state \u001b[38;5;241m=\u001b[39m TendencyState\u001b[38;5;241m.\u001b[39minit_zeros(\n",
      "\u001b[1;32m    126\u001b[0m         quantity_factory\u001b[38;5;241m=\u001b[39mquantity_factory,\n",
      "\u001b[1;32m    127\u001b[0m     )\n",
      "\n",
      "File \u001b[0;32m/usr/local/lib/python3.8/dist-packages/pace/fv3core/initialization/analytic_init.py:61\u001b[0m, in \u001b[0;36minit_analytic_state\u001b[0;34m(analytic_init_case, grid_data, quantity_factory, adiabatic, hydrostatic, moist_phys, comm)\u001b[0m\n",
      "\u001b[1;32m     57\u001b[0m     \u001b[38;5;28;01mimport\u001b[39;00m \u001b[38;5;21;01mpace\u001b[39;00m\u001b[38;5;21;01m.\u001b[39;00m\u001b[38;5;21;01mfv3core\u001b[39;00m\u001b[38;5;21;01m.\u001b[39;00m\u001b[38;5;21;01minitialization\u001b[39;00m\u001b[38;5;21;01m.\u001b[39;00m\u001b[38;5;21;01mtest_cases\u001b[39;00m\u001b[38;5;21;01m.\u001b[39;00m\u001b[38;5;21;01minitialize_tc\u001b[39;00m \u001b[38;5;28;01mas\u001b[39;00m \u001b[38;5;21;01mtc\u001b[39;00m\n",
      "\u001b[1;32m     59\u001b[0m     \u001b[38;5;28;01massert\u001b[39;00m \u001b[38;5;28misinstance\u001b[39m(comm, fv3util\u001b[38;5;241m.\u001b[39mCubedSphereCommunicator)\n",
      "\u001b[0;32m---> 61\u001b[0m     \u001b[38;5;28;01mreturn\u001b[39;00m \u001b[43mtc\u001b[49m\u001b[38;5;241;43m.\u001b[39;49m\u001b[43minit_tc_state\u001b[49m\u001b[43m(\u001b[49m\n",
      "\u001b[1;32m     62\u001b[0m \u001b[43m        \u001b[49m\u001b[43mgrid_data\u001b[49m\u001b[38;5;241;43m=\u001b[39;49m\u001b[43mgrid_data\u001b[49m\u001b[43m,\u001b[49m\n",
      "\u001b[1;32m     63\u001b[0m \u001b[43m        \u001b[49m\u001b[43mquantity_factory\u001b[49m\u001b[38;5;241;43m=\u001b[39;49m\u001b[43mquantity_factory\u001b[49m\u001b[43m,\u001b[49m\n",
      "\u001b[1;32m     64\u001b[0m \u001b[43m        \u001b[49m\u001b[43mhydrostatic\u001b[49m\u001b[38;5;241;43m=\u001b[39;49m\u001b[43mhydrostatic\u001b[49m\u001b[43m,\u001b[49m\n",
      "\u001b[1;32m     65\u001b[0m \u001b[43m        \u001b[49m\u001b[43mcomm\u001b[49m\u001b[38;5;241;43m=\u001b[39;49m\u001b[43mcomm\u001b[49m\u001b[43m,\u001b[49m\n",
      "\u001b[1;32m     66\u001b[0m \u001b[43m    \u001b[49m\u001b[43m)\u001b[49m\n",
      "\u001b[1;32m     67\u001b[0m \u001b[38;5;28;01melse\u001b[39;00m:\n",
      "\u001b[1;32m     68\u001b[0m     \u001b[38;5;28;01mraise\u001b[39;00m \u001b[38;5;167;01mValueError\u001b[39;00m(\u001b[38;5;124mf\u001b[39m\u001b[38;5;124m\"\u001b[39m\u001b[38;5;124mCase \u001b[39m\u001b[38;5;132;01m{\u001b[39;00manalytic_init_case\u001b[38;5;132;01m}\u001b[39;00m\u001b[38;5;124m not implemented\u001b[39m\u001b[38;5;124m\"\u001b[39m)\n",
      "\n",
      "File \u001b[0;32m/usr/local/lib/python3.8/dist-packages/pace/fv3core/initialization/test_cases/initialize_tc.py:555\u001b[0m, in \u001b[0;36minit_tc_state\u001b[0;34m(grid_data, quantity_factory, hydrostatic, comm)\u001b[0m\n",
      "\u001b[1;32m    550\u001b[0m ud, vd \u001b[38;5;241m=\u001b[39m _initialize_wind_dgrid(\n",
      "\u001b[1;32m    551\u001b[0m     grid_data, tc_properties, calc, pe_u, pe_v, ps_u, ps_v, shape\n",
      "\u001b[1;32m    552\u001b[0m )\n",
      "\u001b[1;32m    553\u001b[0m ua, va \u001b[38;5;241m=\u001b[39m _interpolate_winds_dgrid_agrid(grid_data, ud, vd, tc_properties, shape)\n",
      "\u001b[0;32m--> 555\u001b[0m qvapor, pt \u001b[38;5;241m=\u001b[39m \u001b[43m_initialize_qvapor_temperature\u001b[49m\u001b[43m(\u001b[49m\n",
      "\u001b[1;32m    556\u001b[0m \u001b[43m    \u001b[49m\u001b[43mgrid_data\u001b[49m\u001b[43m,\u001b[49m\u001b[43m \u001b[49m\u001b[43mpe\u001b[49m\u001b[43m,\u001b[49m\u001b[43m \u001b[49m\u001b[43mps\u001b[49m\u001b[43m,\u001b[49m\u001b[43m \u001b[49m\u001b[43mtc_properties\u001b[49m\u001b[43m,\u001b[49m\u001b[43m \u001b[49m\u001b[43mcalc\u001b[49m\u001b[43m,\u001b[49m\u001b[43m \u001b[49m\u001b[43mshape\u001b[49m\n",
      "\u001b[1;32m    557\u001b[0m \u001b[43m\u001b[49m\u001b[43m)\u001b[49m\n",
      "\u001b[1;32m    558\u001b[0m delz, w \u001b[38;5;241m=\u001b[39m _initialize_delz_w(pe, ps, pt, qvapor, tc_properties, calc, shape)\n",
      "\u001b[1;32m    560\u001b[0m numpy_state\u001b[38;5;241m.\u001b[39mdelp[:] \u001b[38;5;241m=\u001b[39m delp\n",
      "\n",
      "File \u001b[0;32m/usr/local/lib/python3.8/dist-packages/pace/fv3core/initialization/test_cases/initialize_tc.py:331\u001b[0m, in \u001b[0;36m_initialize_qvapor_temperature\u001b[0;34m(grid_data, pe, ps, tc_properties, calc, shape)\u001b[0m\n",
      "\u001b[1;32m    328\u001b[0m height \u001b[38;5;241m=\u001b[39m np\u001b[38;5;241m.\u001b[39mzeros(shape)\n",
      "\u001b[1;32m    330\u001b[0m ptmp \u001b[38;5;241m=\u001b[39m \u001b[38;5;241m0.5\u001b[39m \u001b[38;5;241m*\u001b[39m (pe[:, :, :\u001b[38;5;241m-\u001b[39m\u001b[38;5;241m1\u001b[39m] \u001b[38;5;241m+\u001b[39m pe[:, :, \u001b[38;5;241m1\u001b[39m:])\n",
      "\u001b[0;32m--> 331\u001b[0m height[:, :, :\u001b[38;5;241m-\u001b[39m\u001b[38;5;241m1\u001b[39m] \u001b[38;5;241m=\u001b[39m (calc[\u001b[38;5;124m\"\u001b[39m\u001b[38;5;124mt00\u001b[39m\u001b[38;5;124m\"\u001b[39m] \u001b[38;5;241m/\u001b[39m tc_properties[\u001b[38;5;124m\"\u001b[39m\u001b[38;5;124mgamma\u001b[39m\u001b[38;5;124m\"\u001b[39m]) \u001b[38;5;241m*\u001b[39m (\n",
      "\u001b[1;32m    332\u001b[0m     \u001b[38;5;241m1.0\u001b[39m \u001b[38;5;241m-\u001b[39m (ptmp \u001b[38;5;241m/\u001b[39m ps[:, :, \u001b[38;5;28;01mNone\u001b[39;00m]) \u001b[38;5;241m*\u001b[39m\u001b[38;5;241m*\u001b[39m calc[\u001b[38;5;124m\"\u001b[39m\u001b[38;5;124mexponent\u001b[39m\u001b[38;5;124m\"\u001b[39m]\n",
      "\u001b[1;32m    333\u001b[0m )\n",
      "\u001b[1;32m    334\u001b[0m qvapor \u001b[38;5;241m=\u001b[39m (\n",
      "\u001b[1;32m    335\u001b[0m     tc_properties[\u001b[38;5;124m\"\u001b[39m\u001b[38;5;124mq00\u001b[39m\u001b[38;5;124m\"\u001b[39m]\n",
      "\u001b[1;32m    336\u001b[0m     \u001b[38;5;241m*\u001b[39m np\u001b[38;5;241m.\u001b[39mexp(\u001b[38;5;241m-\u001b[39mheight \u001b[38;5;241m/\u001b[39m tc_properties[\u001b[38;5;124m\"\u001b[39m\u001b[38;5;124mzq1\u001b[39m\u001b[38;5;124m\"\u001b[39m])\n",
      "\u001b[1;32m    337\u001b[0m     \u001b[38;5;241m*\u001b[39m np\u001b[38;5;241m.\u001b[39mexp(\u001b[38;5;241m-\u001b[39m((height \u001b[38;5;241m/\u001b[39m tc_properties[\u001b[38;5;124m\"\u001b[39m\u001b[38;5;124mzq2\u001b[39m\u001b[38;5;124m\"\u001b[39m]) \u001b[38;5;241m*\u001b[39m\u001b[38;5;241m*\u001b[39m tc_properties[\u001b[38;5;124m\"\u001b[39m\u001b[38;5;124mexppz\u001b[39m\u001b[38;5;124m\"\u001b[39m]))\n",
      "\u001b[1;32m    338\u001b[0m )\n",
      "\u001b[1;32m    340\u001b[0m p2 \u001b[38;5;241m=\u001b[39m np\u001b[38;5;241m.\u001b[39mtranspose(\n",
      "\u001b[1;32m    341\u001b[0m     np\u001b[38;5;241m.\u001b[39mstack(\n",
      "\u001b[1;32m    342\u001b[0m         [\n",
      "\u001b[0;32m   (...)\u001b[0m\n",
      "\u001b[1;32m    347\u001b[0m     [\u001b[38;5;241m1\u001b[39m, \u001b[38;5;241m2\u001b[39m, \u001b[38;5;241m0\u001b[39m],\n",
      "\u001b[1;32m    348\u001b[0m )\n",
      "\n",
      "\u001b[0;31mValueError\u001b[0m: could not broadcast input array from shape (27,27,78) into shape (27,27,79)\n",
      "[2:execute]\n",
      "\u001b[0;31m---------------------------------------------------------------------------\u001b[0m\n",
      "\u001b[0;31mValueError\u001b[0m                                Traceback (most recent call last)\n",
      "Cell \u001b[0;32mIn [1], line 10\u001b[0m\n",
      "\u001b[1;32m      8\u001b[0m \u001b[38;5;28;01mwith\u001b[39;00m \u001b[38;5;28mopen\u001b[39m(config_file, \u001b[38;5;124m\"\u001b[39m\u001b[38;5;124mr\u001b[39m\u001b[38;5;124m\"\u001b[39m) \u001b[38;5;28;01mas\u001b[39;00m f:\n",
      "\u001b[1;32m      9\u001b[0m     driver_config \u001b[38;5;241m=\u001b[39m DriverConfig\u001b[38;5;241m.\u001b[39mfrom_dict(yaml\u001b[38;5;241m.\u001b[39msafe_load(f))\n",
      "\u001b[0;32m---> 10\u001b[0m driver \u001b[38;5;241m=\u001b[39m \u001b[43mDriver\u001b[49m\u001b[43m(\u001b[49m\u001b[43mconfig\u001b[49m\u001b[38;5;241;43m=\u001b[39;49m\u001b[43mdriver_config\u001b[49m\u001b[43m)\u001b[49m\n",
      "\n",
      "File \u001b[0;32m/usr/local/lib/python3.8/dist-packages/pace/driver/driver.py:480\u001b[0m, in \u001b[0;36mDriver.__init__\u001b[0;34m(self, config)\u001b[0m\n",
      "\u001b[1;32m    478\u001b[0m pace_log\u001b[38;5;241m.\u001b[39minfo(\u001b[38;5;124m\"\u001b[39m\u001b[38;5;124msetting up grid done\u001b[39m\u001b[38;5;124m\"\u001b[39m)\n",
      "\u001b[1;32m    479\u001b[0m pace_log\u001b[38;5;241m.\u001b[39minfo(\u001b[38;5;124m\"\u001b[39m\u001b[38;5;124msetting up state started\u001b[39m\u001b[38;5;124m\"\u001b[39m)\n",
      "\u001b[0;32m--> 480\u001b[0m \u001b[38;5;28mself\u001b[39m\u001b[38;5;241m.\u001b[39mstate \u001b[38;5;241m=\u001b[39m \u001b[38;5;28;43mself\u001b[39;49m\u001b[38;5;241;43m.\u001b[39;49m\u001b[43mconfig\u001b[49m\u001b[38;5;241;43m.\u001b[39;49m\u001b[43mget_driver_state\u001b[49m\u001b[43m(\u001b[49m\n",
      "\u001b[1;32m    481\u001b[0m \u001b[43m    \u001b[49m\u001b[43mquantity_factory\u001b[49m\u001b[38;5;241;43m=\u001b[39;49m\u001b[38;5;28;43mself\u001b[39;49m\u001b[38;5;241;43m.\u001b[39;49m\u001b[43mquantity_factory\u001b[49m\u001b[43m,\u001b[49m\n",
      "\u001b[1;32m    482\u001b[0m \u001b[43m    \u001b[49m\u001b[43mcommunicator\u001b[49m\u001b[38;5;241;43m=\u001b[39;49m\u001b[43mcommunicator\u001b[49m\u001b[43m,\u001b[49m\n",
      "\u001b[1;32m    483\u001b[0m \u001b[43m    \u001b[49m\u001b[43mdamping_coefficients\u001b[49m\u001b[38;5;241;43m=\u001b[39;49m\u001b[43mdamping_coefficients\u001b[49m\u001b[43m,\u001b[49m\n",
      "\u001b[1;32m    484\u001b[0m \u001b[43m    \u001b[49m\u001b[43mdriver_grid_data\u001b[49m\u001b[38;5;241;43m=\u001b[39;49m\u001b[43mdriver_grid_data\u001b[49m\u001b[43m,\u001b[49m\n",
      "\u001b[1;32m    485\u001b[0m \u001b[43m    \u001b[49m\u001b[43mgrid_data\u001b[49m\u001b[38;5;241;43m=\u001b[39;49m\u001b[43mgrid_data\u001b[49m\u001b[43m,\u001b[49m\n",
      "\u001b[1;32m    486\u001b[0m \u001b[43m\u001b[49m\u001b[43m)\u001b[49m\n",
      "\u001b[1;32m    487\u001b[0m pace_log\u001b[38;5;241m.\u001b[39minfo(\u001b[38;5;124m\"\u001b[39m\u001b[38;5;124msetting up state done\u001b[39m\u001b[38;5;124m\"\u001b[39m)\n",
      "\u001b[1;32m    489\u001b[0m \u001b[38;5;28mself\u001b[39m\u001b[38;5;241m.\u001b[39m_start_time \u001b[38;5;241m=\u001b[39m \u001b[38;5;28mself\u001b[39m\u001b[38;5;241m.\u001b[39mconfig\u001b[38;5;241m.\u001b[39minitialization\u001b[38;5;241m.\u001b[39mstart_time\n",
      "\n",
      "File \u001b[0;32m/usr/local/lib/python3.8/dist-packages/pace/driver/driver.py:228\u001b[0m, in \u001b[0;36mDriverConfig.get_driver_state\u001b[0;34m(self, communicator, damping_coefficients, driver_grid_data, grid_data, quantity_factory, stencil_factory)\u001b[0m\n",
      "\u001b[1;32m    219\u001b[0m         grid_indexing \u001b[38;5;241m=\u001b[39m (\n",
      "\u001b[1;32m    220\u001b[0m             pace\u001b[38;5;241m.\u001b[39mdsl\u001b[38;5;241m.\u001b[39mstencil\u001b[38;5;241m.\u001b[39mGridIndexing\u001b[38;5;241m.\u001b[39mfrom_sizer_and_communicator(\n",
      "\u001b[1;32m    221\u001b[0m                 sizer\u001b[38;5;241m=\u001b[39msizer, comm\u001b[38;5;241m=\u001b[39mcommunicator\n",
      "\u001b[1;32m    222\u001b[0m             )\n",
      "\u001b[1;32m    223\u001b[0m         )\n",
      "\u001b[1;32m    224\u001b[0m         stencil_factory \u001b[38;5;241m=\u001b[39m pace\u001b[38;5;241m.\u001b[39mdsl\u001b[38;5;241m.\u001b[39mStencilFactory(\n",
      "\u001b[1;32m    225\u001b[0m             config\u001b[38;5;241m=\u001b[39m\u001b[38;5;28mself\u001b[39m\u001b[38;5;241m.\u001b[39mstencil_config, grid_indexing\u001b[38;5;241m=\u001b[39mgrid_indexing\n",
      "\u001b[1;32m    226\u001b[0m         )\n",
      "\u001b[0;32m--> 228\u001b[0m \u001b[38;5;28;01mreturn\u001b[39;00m \u001b[38;5;28;43mself\u001b[39;49m\u001b[38;5;241;43m.\u001b[39;49m\u001b[43minitialization\u001b[49m\u001b[38;5;241;43m.\u001b[39;49m\u001b[43mget_driver_state\u001b[49m\u001b[43m(\u001b[49m\n",
      "\u001b[1;32m    229\u001b[0m \u001b[43m    \u001b[49m\u001b[43mquantity_factory\u001b[49m\u001b[38;5;241;43m=\u001b[39;49m\u001b[43mquantity_factory\u001b[49m\u001b[43m,\u001b[49m\n",
      "\u001b[1;32m    230\u001b[0m \u001b[43m    \u001b[49m\u001b[43mcommunicator\u001b[49m\u001b[38;5;241;43m=\u001b[39;49m\u001b[43mcommunicator\u001b[49m\u001b[43m,\u001b[49m\n",
      "\u001b[1;32m    231\u001b[0m \u001b[43m    \u001b[49m\u001b[43mdamping_coefficients\u001b[49m\u001b[38;5;241;43m=\u001b[39;49m\u001b[43mdamping_coefficients\u001b[49m\u001b[43m,\u001b[49m\n",
      "\u001b[1;32m    232\u001b[0m \u001b[43m    \u001b[49m\u001b[43mdriver_grid_data\u001b[49m\u001b[38;5;241;43m=\u001b[39;49m\u001b[43mdriver_grid_data\u001b[49m\u001b[43m,\u001b[49m\n",
      "\u001b[1;32m    233\u001b[0m \u001b[43m    \u001b[49m\u001b[43mgrid_data\u001b[49m\u001b[38;5;241;43m=\u001b[39;49m\u001b[43mgrid_data\u001b[49m\u001b[43m,\u001b[49m\n",
      "\u001b[1;32m    234\u001b[0m \u001b[43m\u001b[49m\u001b[43m)\u001b[49m\n",
      "\n",
      "File \u001b[0;32m/usr/local/lib/python3.8/dist-packages/pace/driver/initialization.py:81\u001b[0m, in \u001b[0;36mInitializerSelector.get_driver_state\u001b[0;34m(self, quantity_factory, communicator, damping_coefficients, driver_grid_data, grid_data)\u001b[0m\n",
      "\u001b[1;32m     73\u001b[0m \u001b[38;5;28;01mdef\u001b[39;00m \u001b[38;5;21mget_driver_state\u001b[39m(\n",
      "\u001b[1;32m     74\u001b[0m     \u001b[38;5;28mself\u001b[39m,\n",
      "\u001b[1;32m     75\u001b[0m     quantity_factory: pace\u001b[38;5;241m.\u001b[39mutil\u001b[38;5;241m.\u001b[39mQuantityFactory,\n",
      "\u001b[0;32m   (...)\u001b[0m\n",
      "\u001b[1;32m     79\u001b[0m     grid_data: pace\u001b[38;5;241m.\u001b[39mutil\u001b[38;5;241m.\u001b[39mgrid\u001b[38;5;241m.\u001b[39mGridData,\n",
      "\u001b[1;32m     80\u001b[0m ) \u001b[38;5;241m-\u001b[39m\u001b[38;5;241m>\u001b[39m DriverState:\n",
      "\u001b[0;32m---> 81\u001b[0m     \u001b[38;5;28;01mreturn\u001b[39;00m \u001b[38;5;28;43mself\u001b[39;49m\u001b[38;5;241;43m.\u001b[39;49m\u001b[43mconfig\u001b[49m\u001b[38;5;241;43m.\u001b[39;49m\u001b[43mget_driver_state\u001b[49m\u001b[43m(\u001b[49m\n",
      "\u001b[1;32m     82\u001b[0m \u001b[43m        \u001b[49m\u001b[43mquantity_factory\u001b[49m\u001b[38;5;241;43m=\u001b[39;49m\u001b[43mquantity_factory\u001b[49m\u001b[43m,\u001b[49m\n",
      "\u001b[1;32m     83\u001b[0m \u001b[43m        \u001b[49m\u001b[43mcommunicator\u001b[49m\u001b[38;5;241;43m=\u001b[39;49m\u001b[43mcommunicator\u001b[49m\u001b[43m,\u001b[49m\n",
      "\u001b[1;32m     84\u001b[0m \u001b[43m        \u001b[49m\u001b[43mdamping_coefficients\u001b[49m\u001b[38;5;241;43m=\u001b[39;49m\u001b[43mdamping_coefficients\u001b[49m\u001b[43m,\u001b[49m\n",
      "\u001b[1;32m     85\u001b[0m \u001b[43m        \u001b[49m\u001b[43mdriver_grid_data\u001b[49m\u001b[38;5;241;43m=\u001b[39;49m\u001b[43mdriver_grid_data\u001b[49m\u001b[43m,\u001b[49m\n",
      "\u001b[1;32m     86\u001b[0m \u001b[43m        \u001b[49m\u001b[43mgrid_data\u001b[49m\u001b[38;5;241;43m=\u001b[39;49m\u001b[43mgrid_data\u001b[49m\u001b[43m,\u001b[49m\n",
      "\u001b[1;32m     87\u001b[0m \u001b[43m    \u001b[49m\u001b[43m)\u001b[49m\n",
      "\n",
      "File \u001b[0;32m/usr/local/lib/python3.8/dist-packages/pace/driver/initialization.py:113\u001b[0m, in \u001b[0;36mAnalyticInit.get_driver_state\u001b[0;34m(self, quantity_factory, communicator, damping_coefficients, driver_grid_data, grid_data)\u001b[0m\n",
      "\u001b[1;32m    105\u001b[0m \u001b[38;5;28;01mdef\u001b[39;00m \u001b[38;5;21mget_driver_state\u001b[39m(\n",
      "\u001b[1;32m    106\u001b[0m     \u001b[38;5;28mself\u001b[39m,\n",
      "\u001b[1;32m    107\u001b[0m     quantity_factory: pace\u001b[38;5;241m.\u001b[39mutil\u001b[38;5;241m.\u001b[39mQuantityFactory,\n",
      "\u001b[0;32m   (...)\u001b[0m\n",
      "\u001b[1;32m    111\u001b[0m     grid_data: pace\u001b[38;5;241m.\u001b[39mutil\u001b[38;5;241m.\u001b[39mgrid\u001b[38;5;241m.\u001b[39mGridData,\n",
      "\u001b[1;32m    112\u001b[0m ) \u001b[38;5;241m-\u001b[39m\u001b[38;5;241m>\u001b[39m DriverState:\n",
      "\u001b[0;32m--> 113\u001b[0m     dycore_state \u001b[38;5;241m=\u001b[39m \u001b[43manalytic_init\u001b[49m\u001b[38;5;241;43m.\u001b[39;49m\u001b[43minit_analytic_state\u001b[49m\u001b[43m(\u001b[49m\n",
      "\u001b[1;32m    114\u001b[0m \u001b[43m        \u001b[49m\u001b[43manalytic_init_case\u001b[49m\u001b[38;5;241;43m=\u001b[39;49m\u001b[38;5;28;43mself\u001b[39;49m\u001b[38;5;241;43m.\u001b[39;49m\u001b[43mcase\u001b[49m\u001b[43m,\u001b[49m\n",
      "\u001b[1;32m    115\u001b[0m \u001b[43m        \u001b[49m\u001b[43mgrid_data\u001b[49m\u001b[38;5;241;43m=\u001b[39;49m\u001b[43mgrid_data\u001b[49m\u001b[43m,\u001b[49m\n",
      "\u001b[1;32m    116\u001b[0m \u001b[43m        \u001b[49m\u001b[43mquantity_factory\u001b[49m\u001b[38;5;241;43m=\u001b[39;49m\u001b[43mquantity_factory\u001b[49m\u001b[43m,\u001b[49m\n",
      "\u001b[1;32m    117\u001b[0m \u001b[43m        \u001b[49m\u001b[43madiabatic\u001b[49m\u001b[38;5;241;43m=\u001b[39;49m\u001b[38;5;28;43;01mFalse\u001b[39;49;00m\u001b[43m,\u001b[49m\n",
      "\u001b[1;32m    118\u001b[0m \u001b[43m        \u001b[49m\u001b[43mhydrostatic\u001b[49m\u001b[38;5;241;43m=\u001b[39;49m\u001b[38;5;28;43;01mFalse\u001b[39;49;00m\u001b[43m,\u001b[49m\n",
      "\u001b[1;32m    119\u001b[0m \u001b[43m        \u001b[49m\u001b[43mmoist_phys\u001b[49m\u001b[38;5;241;43m=\u001b[39;49m\u001b[38;5;28;43;01mTrue\u001b[39;49;00m\u001b[43m,\u001b[49m\n",
      "\u001b[1;32m    120\u001b[0m \u001b[43m        \u001b[49m\u001b[43mcomm\u001b[49m\u001b[38;5;241;43m=\u001b[39;49m\u001b[43mcommunicator\u001b[49m\u001b[43m,\u001b[49m\n",
      "\u001b[1;32m    121\u001b[0m \u001b[43m    \u001b[49m\u001b[43m)\u001b[49m\n",
      "\u001b[1;32m    122\u001b[0m     physics_state \u001b[38;5;241m=\u001b[39m pace\u001b[38;5;241m.\u001b[39mphysics\u001b[38;5;241m.\u001b[39mPhysicsState\u001b[38;5;241m.\u001b[39minit_zeros(\n",
      "\u001b[1;32m    123\u001b[0m         quantity_factory\u001b[38;5;241m=\u001b[39mquantity_factory, active_packages\u001b[38;5;241m=\u001b[39m[\u001b[38;5;124m\"\u001b[39m\u001b[38;5;124mmicrophysics\u001b[39m\u001b[38;5;124m\"\u001b[39m]\n",
      "\u001b[1;32m    124\u001b[0m     )\n",
      "\u001b[1;32m    125\u001b[0m     tendency_state \u001b[38;5;241m=\u001b[39m TendencyState\u001b[38;5;241m.\u001b[39minit_zeros(\n",
      "\u001b[1;32m    126\u001b[0m         quantity_factory\u001b[38;5;241m=\u001b[39mquantity_factory,\n",
      "\u001b[1;32m    127\u001b[0m     )\n",
      "\n",
      "File \u001b[0;32m/usr/local/lib/python3.8/dist-packages/pace/fv3core/initialization/analytic_init.py:61\u001b[0m, in \u001b[0;36minit_analytic_state\u001b[0;34m(analytic_init_case, grid_data, quantity_factory, adiabatic, hydrostatic, moist_phys, comm)\u001b[0m\n",
      "\u001b[1;32m     57\u001b[0m     \u001b[38;5;28;01mimport\u001b[39;00m \u001b[38;5;21;01mpace\u001b[39;00m\u001b[38;5;21;01m.\u001b[39;00m\u001b[38;5;21;01mfv3core\u001b[39;00m\u001b[38;5;21;01m.\u001b[39;00m\u001b[38;5;21;01minitialization\u001b[39;00m\u001b[38;5;21;01m.\u001b[39;00m\u001b[38;5;21;01mtest_cases\u001b[39;00m\u001b[38;5;21;01m.\u001b[39;00m\u001b[38;5;21;01minitialize_tc\u001b[39;00m \u001b[38;5;28;01mas\u001b[39;00m \u001b[38;5;21;01mtc\u001b[39;00m\n",
      "\u001b[1;32m     59\u001b[0m     \u001b[38;5;28;01massert\u001b[39;00m \u001b[38;5;28misinstance\u001b[39m(comm, fv3util\u001b[38;5;241m.\u001b[39mCubedSphereCommunicator)\n",
      "\u001b[0;32m---> 61\u001b[0m     \u001b[38;5;28;01mreturn\u001b[39;00m \u001b[43mtc\u001b[49m\u001b[38;5;241;43m.\u001b[39;49m\u001b[43minit_tc_state\u001b[49m\u001b[43m(\u001b[49m\n",
      "\u001b[1;32m     62\u001b[0m \u001b[43m        \u001b[49m\u001b[43mgrid_data\u001b[49m\u001b[38;5;241;43m=\u001b[39;49m\u001b[43mgrid_data\u001b[49m\u001b[43m,\u001b[49m\n",
      "\u001b[1;32m     63\u001b[0m \u001b[43m        \u001b[49m\u001b[43mquantity_factory\u001b[49m\u001b[38;5;241;43m=\u001b[39;49m\u001b[43mquantity_factory\u001b[49m\u001b[43m,\u001b[49m\n",
      "\u001b[1;32m     64\u001b[0m \u001b[43m        \u001b[49m\u001b[43mhydrostatic\u001b[49m\u001b[38;5;241;43m=\u001b[39;49m\u001b[43mhydrostatic\u001b[49m\u001b[43m,\u001b[49m\n",
      "\u001b[1;32m     65\u001b[0m \u001b[43m        \u001b[49m\u001b[43mcomm\u001b[49m\u001b[38;5;241;43m=\u001b[39;49m\u001b[43mcomm\u001b[49m\u001b[43m,\u001b[49m\n",
      "\u001b[1;32m     66\u001b[0m \u001b[43m    \u001b[49m\u001b[43m)\u001b[49m\n",
      "\u001b[1;32m     67\u001b[0m \u001b[38;5;28;01melse\u001b[39;00m:\n",
      "\u001b[1;32m     68\u001b[0m     \u001b[38;5;28;01mraise\u001b[39;00m \u001b[38;5;167;01mValueError\u001b[39;00m(\u001b[38;5;124mf\u001b[39m\u001b[38;5;124m\"\u001b[39m\u001b[38;5;124mCase \u001b[39m\u001b[38;5;132;01m{\u001b[39;00manalytic_init_case\u001b[38;5;132;01m}\u001b[39;00m\u001b[38;5;124m not implemented\u001b[39m\u001b[38;5;124m\"\u001b[39m)\n",
      "\n",
      "File \u001b[0;32m/usr/local/lib/python3.8/dist-packages/pace/fv3core/initialization/test_cases/initialize_tc.py:555\u001b[0m, in \u001b[0;36minit_tc_state\u001b[0;34m(grid_data, quantity_factory, hydrostatic, comm)\u001b[0m\n",
      "\u001b[1;32m    550\u001b[0m ud, vd \u001b[38;5;241m=\u001b[39m _initialize_wind_dgrid(\n",
      "\u001b[1;32m    551\u001b[0m     grid_data, tc_properties, calc, pe_u, pe_v, ps_u, ps_v, shape\n",
      "\u001b[1;32m    552\u001b[0m )\n",
      "\u001b[1;32m    553\u001b[0m ua, va \u001b[38;5;241m=\u001b[39m _interpolate_winds_dgrid_agrid(grid_data, ud, vd, tc_properties, shape)\n",
      "\u001b[0;32m--> 555\u001b[0m qvapor, pt \u001b[38;5;241m=\u001b[39m \u001b[43m_initialize_qvapor_temperature\u001b[49m\u001b[43m(\u001b[49m\n",
      "\u001b[1;32m    556\u001b[0m \u001b[43m    \u001b[49m\u001b[43mgrid_data\u001b[49m\u001b[43m,\u001b[49m\u001b[43m \u001b[49m\u001b[43mpe\u001b[49m\u001b[43m,\u001b[49m\u001b[43m \u001b[49m\u001b[43mps\u001b[49m\u001b[43m,\u001b[49m\u001b[43m \u001b[49m\u001b[43mtc_properties\u001b[49m\u001b[43m,\u001b[49m\u001b[43m \u001b[49m\u001b[43mcalc\u001b[49m\u001b[43m,\u001b[49m\u001b[43m \u001b[49m\u001b[43mshape\u001b[49m\n",
      "\u001b[1;32m    557\u001b[0m \u001b[43m\u001b[49m\u001b[43m)\u001b[49m\n",
      "\u001b[1;32m    558\u001b[0m delz, w \u001b[38;5;241m=\u001b[39m _initialize_delz_w(pe, ps, pt, qvapor, tc_properties, calc, shape)\n",
      "\u001b[1;32m    560\u001b[0m numpy_state\u001b[38;5;241m.\u001b[39mdelp[:] \u001b[38;5;241m=\u001b[39m delp\n",
      "\n",
      "File \u001b[0;32m/usr/local/lib/python3.8/dist-packages/pace/fv3core/initialization/test_cases/initialize_tc.py:331\u001b[0m, in \u001b[0;36m_initialize_qvapor_temperature\u001b[0;34m(grid_data, pe, ps, tc_properties, calc, shape)\u001b[0m\n",
      "\u001b[1;32m    328\u001b[0m height \u001b[38;5;241m=\u001b[39m np\u001b[38;5;241m.\u001b[39mzeros(shape)\n",
      "\u001b[1;32m    330\u001b[0m ptmp \u001b[38;5;241m=\u001b[39m \u001b[38;5;241m0.5\u001b[39m \u001b[38;5;241m*\u001b[39m (pe[:, :, :\u001b[38;5;241m-\u001b[39m\u001b[38;5;241m1\u001b[39m] \u001b[38;5;241m+\u001b[39m pe[:, :, \u001b[38;5;241m1\u001b[39m:])\n",
      "\u001b[0;32m--> 331\u001b[0m height[:, :, :\u001b[38;5;241m-\u001b[39m\u001b[38;5;241m1\u001b[39m] \u001b[38;5;241m=\u001b[39m (calc[\u001b[38;5;124m\"\u001b[39m\u001b[38;5;124mt00\u001b[39m\u001b[38;5;124m\"\u001b[39m] \u001b[38;5;241m/\u001b[39m tc_properties[\u001b[38;5;124m\"\u001b[39m\u001b[38;5;124mgamma\u001b[39m\u001b[38;5;124m\"\u001b[39m]) \u001b[38;5;241m*\u001b[39m (\n",
      "\u001b[1;32m    332\u001b[0m     \u001b[38;5;241m1.0\u001b[39m \u001b[38;5;241m-\u001b[39m (ptmp \u001b[38;5;241m/\u001b[39m ps[:, :, \u001b[38;5;28;01mNone\u001b[39;00m]) \u001b[38;5;241m*\u001b[39m\u001b[38;5;241m*\u001b[39m calc[\u001b[38;5;124m\"\u001b[39m\u001b[38;5;124mexponent\u001b[39m\u001b[38;5;124m\"\u001b[39m]\n",
      "\u001b[1;32m    333\u001b[0m )\n",
      "\u001b[1;32m    334\u001b[0m qvapor \u001b[38;5;241m=\u001b[39m (\n",
      "\u001b[1;32m    335\u001b[0m     tc_properties[\u001b[38;5;124m\"\u001b[39m\u001b[38;5;124mq00\u001b[39m\u001b[38;5;124m\"\u001b[39m]\n",
      "\u001b[1;32m    336\u001b[0m     \u001b[38;5;241m*\u001b[39m np\u001b[38;5;241m.\u001b[39mexp(\u001b[38;5;241m-\u001b[39mheight \u001b[38;5;241m/\u001b[39m tc_properties[\u001b[38;5;124m\"\u001b[39m\u001b[38;5;124mzq1\u001b[39m\u001b[38;5;124m\"\u001b[39m])\n",
      "\u001b[1;32m    337\u001b[0m     \u001b[38;5;241m*\u001b[39m np\u001b[38;5;241m.\u001b[39mexp(\u001b[38;5;241m-\u001b[39m((height \u001b[38;5;241m/\u001b[39m tc_properties[\u001b[38;5;124m\"\u001b[39m\u001b[38;5;124mzq2\u001b[39m\u001b[38;5;124m\"\u001b[39m]) \u001b[38;5;241m*\u001b[39m\u001b[38;5;241m*\u001b[39m tc_properties[\u001b[38;5;124m\"\u001b[39m\u001b[38;5;124mexppz\u001b[39m\u001b[38;5;124m\"\u001b[39m]))\n",
      "\u001b[1;32m    338\u001b[0m )\n",
      "\u001b[1;32m    340\u001b[0m p2 \u001b[38;5;241m=\u001b[39m np\u001b[38;5;241m.\u001b[39mtranspose(\n",
      "\u001b[1;32m    341\u001b[0m     np\u001b[38;5;241m.\u001b[39mstack(\n",
      "\u001b[1;32m    342\u001b[0m         [\n",
      "\u001b[0;32m   (...)\u001b[0m\n",
      "\u001b[1;32m    347\u001b[0m     [\u001b[38;5;241m1\u001b[39m, \u001b[38;5;241m2\u001b[39m, \u001b[38;5;241m0\u001b[39m],\n",
      "\u001b[1;32m    348\u001b[0m )\n",
      "\n",
      "\u001b[0;31mValueError\u001b[0m: could not broadcast input array from shape (27,27,78) into shape (27,27,79)\n",
      "[5:execute]\n",
      "\u001b[0;31m---------------------------------------------------------------------------\u001b[0m\n",
      "\u001b[0;31mValueError\u001b[0m                                Traceback (most recent call last)\n",
      "Cell \u001b[0;32mIn [1], line 10\u001b[0m\n",
      "\u001b[1;32m      8\u001b[0m \u001b[38;5;28;01mwith\u001b[39;00m \u001b[38;5;28mopen\u001b[39m(config_file, \u001b[38;5;124m\"\u001b[39m\u001b[38;5;124mr\u001b[39m\u001b[38;5;124m\"\u001b[39m) \u001b[38;5;28;01mas\u001b[39;00m f:\n",
      "\u001b[1;32m      9\u001b[0m     driver_config \u001b[38;5;241m=\u001b[39m DriverConfig\u001b[38;5;241m.\u001b[39mfrom_dict(yaml\u001b[38;5;241m.\u001b[39msafe_load(f))\n",
      "\u001b[0;32m---> 10\u001b[0m driver \u001b[38;5;241m=\u001b[39m \u001b[43mDriver\u001b[49m\u001b[43m(\u001b[49m\u001b[43mconfig\u001b[49m\u001b[38;5;241;43m=\u001b[39;49m\u001b[43mdriver_config\u001b[49m\u001b[43m)\u001b[49m\n",
      "\n",
      "File \u001b[0;32m/usr/local/lib/python3.8/dist-packages/pace/driver/driver.py:480\u001b[0m, in \u001b[0;36mDriver.__init__\u001b[0;34m(self, config)\u001b[0m\n",
      "\u001b[1;32m    478\u001b[0m pace_log\u001b[38;5;241m.\u001b[39minfo(\u001b[38;5;124m\"\u001b[39m\u001b[38;5;124msetting up grid done\u001b[39m\u001b[38;5;124m\"\u001b[39m)\n",
      "\u001b[1;32m    479\u001b[0m pace_log\u001b[38;5;241m.\u001b[39minfo(\u001b[38;5;124m\"\u001b[39m\u001b[38;5;124msetting up state started\u001b[39m\u001b[38;5;124m\"\u001b[39m)\n",
      "\u001b[0;32m--> 480\u001b[0m \u001b[38;5;28mself\u001b[39m\u001b[38;5;241m.\u001b[39mstate \u001b[38;5;241m=\u001b[39m \u001b[38;5;28;43mself\u001b[39;49m\u001b[38;5;241;43m.\u001b[39;49m\u001b[43mconfig\u001b[49m\u001b[38;5;241;43m.\u001b[39;49m\u001b[43mget_driver_state\u001b[49m\u001b[43m(\u001b[49m\n",
      "\u001b[1;32m    481\u001b[0m \u001b[43m    \u001b[49m\u001b[43mquantity_factory\u001b[49m\u001b[38;5;241;43m=\u001b[39;49m\u001b[38;5;28;43mself\u001b[39;49m\u001b[38;5;241;43m.\u001b[39;49m\u001b[43mquantity_factory\u001b[49m\u001b[43m,\u001b[49m\n",
      "\u001b[1;32m    482\u001b[0m \u001b[43m    \u001b[49m\u001b[43mcommunicator\u001b[49m\u001b[38;5;241;43m=\u001b[39;49m\u001b[43mcommunicator\u001b[49m\u001b[43m,\u001b[49m\n",
      "\u001b[1;32m    483\u001b[0m \u001b[43m    \u001b[49m\u001b[43mdamping_coefficients\u001b[49m\u001b[38;5;241;43m=\u001b[39;49m\u001b[43mdamping_coefficients\u001b[49m\u001b[43m,\u001b[49m\n",
      "\u001b[1;32m    484\u001b[0m \u001b[43m    \u001b[49m\u001b[43mdriver_grid_data\u001b[49m\u001b[38;5;241;43m=\u001b[39;49m\u001b[43mdriver_grid_data\u001b[49m\u001b[43m,\u001b[49m\n",
      "\u001b[1;32m    485\u001b[0m \u001b[43m    \u001b[49m\u001b[43mgrid_data\u001b[49m\u001b[38;5;241;43m=\u001b[39;49m\u001b[43mgrid_data\u001b[49m\u001b[43m,\u001b[49m\n",
      "\u001b[1;32m    486\u001b[0m \u001b[43m\u001b[49m\u001b[43m)\u001b[49m\n",
      "\u001b[1;32m    487\u001b[0m pace_log\u001b[38;5;241m.\u001b[39minfo(\u001b[38;5;124m\"\u001b[39m\u001b[38;5;124msetting up state done\u001b[39m\u001b[38;5;124m\"\u001b[39m)\n",
      "\u001b[1;32m    489\u001b[0m \u001b[38;5;28mself\u001b[39m\u001b[38;5;241m.\u001b[39m_start_time \u001b[38;5;241m=\u001b[39m \u001b[38;5;28mself\u001b[39m\u001b[38;5;241m.\u001b[39mconfig\u001b[38;5;241m.\u001b[39minitialization\u001b[38;5;241m.\u001b[39mstart_time\n",
      "\n",
      "File \u001b[0;32m/usr/local/lib/python3.8/dist-packages/pace/driver/driver.py:228\u001b[0m, in \u001b[0;36mDriverConfig.get_driver_state\u001b[0;34m(self, communicator, damping_coefficients, driver_grid_data, grid_data, quantity_factory, stencil_factory)\u001b[0m\n",
      "\u001b[1;32m    219\u001b[0m         grid_indexing \u001b[38;5;241m=\u001b[39m (\n",
      "\u001b[1;32m    220\u001b[0m             pace\u001b[38;5;241m.\u001b[39mdsl\u001b[38;5;241m.\u001b[39mstencil\u001b[38;5;241m.\u001b[39mGridIndexing\u001b[38;5;241m.\u001b[39mfrom_sizer_and_communicator(\n",
      "\u001b[1;32m    221\u001b[0m                 sizer\u001b[38;5;241m=\u001b[39msizer, comm\u001b[38;5;241m=\u001b[39mcommunicator\n",
      "\u001b[1;32m    222\u001b[0m             )\n",
      "\u001b[1;32m    223\u001b[0m         )\n",
      "\u001b[1;32m    224\u001b[0m         stencil_factory \u001b[38;5;241m=\u001b[39m pace\u001b[38;5;241m.\u001b[39mdsl\u001b[38;5;241m.\u001b[39mStencilFactory(\n",
      "\u001b[1;32m    225\u001b[0m             config\u001b[38;5;241m=\u001b[39m\u001b[38;5;28mself\u001b[39m\u001b[38;5;241m.\u001b[39mstencil_config, grid_indexing\u001b[38;5;241m=\u001b[39mgrid_indexing\n",
      "\u001b[1;32m    226\u001b[0m         )\n",
      "\u001b[0;32m--> 228\u001b[0m \u001b[38;5;28;01mreturn\u001b[39;00m \u001b[38;5;28;43mself\u001b[39;49m\u001b[38;5;241;43m.\u001b[39;49m\u001b[43minitialization\u001b[49m\u001b[38;5;241;43m.\u001b[39;49m\u001b[43mget_driver_state\u001b[49m\u001b[43m(\u001b[49m\n",
      "\u001b[1;32m    229\u001b[0m \u001b[43m    \u001b[49m\u001b[43mquantity_factory\u001b[49m\u001b[38;5;241;43m=\u001b[39;49m\u001b[43mquantity_factory\u001b[49m\u001b[43m,\u001b[49m\n",
      "\u001b[1;32m    230\u001b[0m \u001b[43m    \u001b[49m\u001b[43mcommunicator\u001b[49m\u001b[38;5;241;43m=\u001b[39;49m\u001b[43mcommunicator\u001b[49m\u001b[43m,\u001b[49m\n",
      "\u001b[1;32m    231\u001b[0m \u001b[43m    \u001b[49m\u001b[43mdamping_coefficients\u001b[49m\u001b[38;5;241;43m=\u001b[39;49m\u001b[43mdamping_coefficients\u001b[49m\u001b[43m,\u001b[49m\n",
      "\u001b[1;32m    232\u001b[0m \u001b[43m    \u001b[49m\u001b[43mdriver_grid_data\u001b[49m\u001b[38;5;241;43m=\u001b[39;49m\u001b[43mdriver_grid_data\u001b[49m\u001b[43m,\u001b[49m\n",
      "\u001b[1;32m    233\u001b[0m \u001b[43m    \u001b[49m\u001b[43mgrid_data\u001b[49m\u001b[38;5;241;43m=\u001b[39;49m\u001b[43mgrid_data\u001b[49m\u001b[43m,\u001b[49m\n",
      "\u001b[1;32m    234\u001b[0m \u001b[43m\u001b[49m\u001b[43m)\u001b[49m\n",
      "\n",
      "File \u001b[0;32m/usr/local/lib/python3.8/dist-packages/pace/driver/initialization.py:81\u001b[0m, in \u001b[0;36mInitializerSelector.get_driver_state\u001b[0;34m(self, quantity_factory, communicator, damping_coefficients, driver_grid_data, grid_data)\u001b[0m\n",
      "\u001b[1;32m     73\u001b[0m \u001b[38;5;28;01mdef\u001b[39;00m \u001b[38;5;21mget_driver_state\u001b[39m(\n",
      "\u001b[1;32m     74\u001b[0m     \u001b[38;5;28mself\u001b[39m,\n",
      "\u001b[1;32m     75\u001b[0m     quantity_factory: pace\u001b[38;5;241m.\u001b[39mutil\u001b[38;5;241m.\u001b[39mQuantityFactory,\n",
      "\u001b[0;32m   (...)\u001b[0m\n",
      "\u001b[1;32m     79\u001b[0m     grid_data: pace\u001b[38;5;241m.\u001b[39mutil\u001b[38;5;241m.\u001b[39mgrid\u001b[38;5;241m.\u001b[39mGridData,\n",
      "\u001b[1;32m     80\u001b[0m ) \u001b[38;5;241m-\u001b[39m\u001b[38;5;241m>\u001b[39m DriverState:\n",
      "\u001b[0;32m---> 81\u001b[0m     \u001b[38;5;28;01mreturn\u001b[39;00m \u001b[38;5;28;43mself\u001b[39;49m\u001b[38;5;241;43m.\u001b[39;49m\u001b[43mconfig\u001b[49m\u001b[38;5;241;43m.\u001b[39;49m\u001b[43mget_driver_state\u001b[49m\u001b[43m(\u001b[49m\n",
      "\u001b[1;32m     82\u001b[0m \u001b[43m        \u001b[49m\u001b[43mquantity_factory\u001b[49m\u001b[38;5;241;43m=\u001b[39;49m\u001b[43mquantity_factory\u001b[49m\u001b[43m,\u001b[49m\n",
      "\u001b[1;32m     83\u001b[0m \u001b[43m        \u001b[49m\u001b[43mcommunicator\u001b[49m\u001b[38;5;241;43m=\u001b[39;49m\u001b[43mcommunicator\u001b[49m\u001b[43m,\u001b[49m\n",
      "\u001b[1;32m     84\u001b[0m \u001b[43m        \u001b[49m\u001b[43mdamping_coefficients\u001b[49m\u001b[38;5;241;43m=\u001b[39;49m\u001b[43mdamping_coefficients\u001b[49m\u001b[43m,\u001b[49m\n",
      "\u001b[1;32m     85\u001b[0m \u001b[43m        \u001b[49m\u001b[43mdriver_grid_data\u001b[49m\u001b[38;5;241;43m=\u001b[39;49m\u001b[43mdriver_grid_data\u001b[49m\u001b[43m,\u001b[49m\n",
      "\u001b[1;32m     86\u001b[0m \u001b[43m        \u001b[49m\u001b[43mgrid_data\u001b[49m\u001b[38;5;241;43m=\u001b[39;49m\u001b[43mgrid_data\u001b[49m\u001b[43m,\u001b[49m\n",
      "\u001b[1;32m     87\u001b[0m \u001b[43m    \u001b[49m\u001b[43m)\u001b[49m\n",
      "\n",
      "File \u001b[0;32m/usr/local/lib/python3.8/dist-packages/pace/driver/initialization.py:113\u001b[0m, in \u001b[0;36mAnalyticInit.get_driver_state\u001b[0;34m(self, quantity_factory, communicator, damping_coefficients, driver_grid_data, grid_data)\u001b[0m\n",
      "\u001b[1;32m    105\u001b[0m \u001b[38;5;28;01mdef\u001b[39;00m \u001b[38;5;21mget_driver_state\u001b[39m(\n",
      "\u001b[1;32m    106\u001b[0m     \u001b[38;5;28mself\u001b[39m,\n",
      "\u001b[1;32m    107\u001b[0m     quantity_factory: pace\u001b[38;5;241m.\u001b[39mutil\u001b[38;5;241m.\u001b[39mQuantityFactory,\n",
      "\u001b[0;32m   (...)\u001b[0m\n",
      "\u001b[1;32m    111\u001b[0m     grid_data: pace\u001b[38;5;241m.\u001b[39mutil\u001b[38;5;241m.\u001b[39mgrid\u001b[38;5;241m.\u001b[39mGridData,\n",
      "\u001b[1;32m    112\u001b[0m ) \u001b[38;5;241m-\u001b[39m\u001b[38;5;241m>\u001b[39m DriverState:\n",
      "\u001b[0;32m--> 113\u001b[0m     dycore_state \u001b[38;5;241m=\u001b[39m \u001b[43manalytic_init\u001b[49m\u001b[38;5;241;43m.\u001b[39;49m\u001b[43minit_analytic_state\u001b[49m\u001b[43m(\u001b[49m\n",
      "\u001b[1;32m    114\u001b[0m \u001b[43m        \u001b[49m\u001b[43manalytic_init_case\u001b[49m\u001b[38;5;241;43m=\u001b[39;49m\u001b[38;5;28;43mself\u001b[39;49m\u001b[38;5;241;43m.\u001b[39;49m\u001b[43mcase\u001b[49m\u001b[43m,\u001b[49m\n",
      "\u001b[1;32m    115\u001b[0m \u001b[43m        \u001b[49m\u001b[43mgrid_data\u001b[49m\u001b[38;5;241;43m=\u001b[39;49m\u001b[43mgrid_data\u001b[49m\u001b[43m,\u001b[49m\n",
      "\u001b[1;32m    116\u001b[0m \u001b[43m        \u001b[49m\u001b[43mquantity_factory\u001b[49m\u001b[38;5;241;43m=\u001b[39;49m\u001b[43mquantity_factory\u001b[49m\u001b[43m,\u001b[49m\n",
      "\u001b[1;32m    117\u001b[0m \u001b[43m        \u001b[49m\u001b[43madiabatic\u001b[49m\u001b[38;5;241;43m=\u001b[39;49m\u001b[38;5;28;43;01mFalse\u001b[39;49;00m\u001b[43m,\u001b[49m\n",
      "\u001b[1;32m    118\u001b[0m \u001b[43m        \u001b[49m\u001b[43mhydrostatic\u001b[49m\u001b[38;5;241;43m=\u001b[39;49m\u001b[38;5;28;43;01mFalse\u001b[39;49;00m\u001b[43m,\u001b[49m\n",
      "\u001b[1;32m    119\u001b[0m \u001b[43m        \u001b[49m\u001b[43mmoist_phys\u001b[49m\u001b[38;5;241;43m=\u001b[39;49m\u001b[38;5;28;43;01mTrue\u001b[39;49;00m\u001b[43m,\u001b[49m\n",
      "\u001b[1;32m    120\u001b[0m \u001b[43m        \u001b[49m\u001b[43mcomm\u001b[49m\u001b[38;5;241;43m=\u001b[39;49m\u001b[43mcommunicator\u001b[49m\u001b[43m,\u001b[49m\n",
      "\u001b[1;32m    121\u001b[0m \u001b[43m    \u001b[49m\u001b[43m)\u001b[49m\n",
      "\u001b[1;32m    122\u001b[0m     physics_state \u001b[38;5;241m=\u001b[39m pace\u001b[38;5;241m.\u001b[39mphysics\u001b[38;5;241m.\u001b[39mPhysicsState\u001b[38;5;241m.\u001b[39minit_zeros(\n",
      "\u001b[1;32m    123\u001b[0m         quantity_factory\u001b[38;5;241m=\u001b[39mquantity_factory, active_packages\u001b[38;5;241m=\u001b[39m[\u001b[38;5;124m\"\u001b[39m\u001b[38;5;124mmicrophysics\u001b[39m\u001b[38;5;124m\"\u001b[39m]\n",
      "\u001b[1;32m    124\u001b[0m     )\n",
      "\u001b[1;32m    125\u001b[0m     tendency_state \u001b[38;5;241m=\u001b[39m TendencyState\u001b[38;5;241m.\u001b[39minit_zeros(\n",
      "\u001b[1;32m    126\u001b[0m         quantity_factory\u001b[38;5;241m=\u001b[39mquantity_factory,\n",
      "\u001b[1;32m    127\u001b[0m     )\n",
      "\n",
      "File \u001b[0;32m/usr/local/lib/python3.8/dist-packages/pace/fv3core/initialization/analytic_init.py:61\u001b[0m, in \u001b[0;36minit_analytic_state\u001b[0;34m(analytic_init_case, grid_data, quantity_factory, adiabatic, hydrostatic, moist_phys, comm)\u001b[0m\n",
      "\u001b[1;32m     57\u001b[0m     \u001b[38;5;28;01mimport\u001b[39;00m \u001b[38;5;21;01mpace\u001b[39;00m\u001b[38;5;21;01m.\u001b[39;00m\u001b[38;5;21;01mfv3core\u001b[39;00m\u001b[38;5;21;01m.\u001b[39;00m\u001b[38;5;21;01minitialization\u001b[39;00m\u001b[38;5;21;01m.\u001b[39;00m\u001b[38;5;21;01mtest_cases\u001b[39;00m\u001b[38;5;21;01m.\u001b[39;00m\u001b[38;5;21;01minitialize_tc\u001b[39;00m \u001b[38;5;28;01mas\u001b[39;00m \u001b[38;5;21;01mtc\u001b[39;00m\n",
      "\u001b[1;32m     59\u001b[0m     \u001b[38;5;28;01massert\u001b[39;00m \u001b[38;5;28misinstance\u001b[39m(comm, fv3util\u001b[38;5;241m.\u001b[39mCubedSphereCommunicator)\n",
      "\u001b[0;32m---> 61\u001b[0m     \u001b[38;5;28;01mreturn\u001b[39;00m \u001b[43mtc\u001b[49m\u001b[38;5;241;43m.\u001b[39;49m\u001b[43minit_tc_state\u001b[49m\u001b[43m(\u001b[49m\n",
      "\u001b[1;32m     62\u001b[0m \u001b[43m        \u001b[49m\u001b[43mgrid_data\u001b[49m\u001b[38;5;241;43m=\u001b[39;49m\u001b[43mgrid_data\u001b[49m\u001b[43m,\u001b[49m\n",
      "\u001b[1;32m     63\u001b[0m \u001b[43m        \u001b[49m\u001b[43mquantity_factory\u001b[49m\u001b[38;5;241;43m=\u001b[39;49m\u001b[43mquantity_factory\u001b[49m\u001b[43m,\u001b[49m\n",
      "\u001b[1;32m     64\u001b[0m \u001b[43m        \u001b[49m\u001b[43mhydrostatic\u001b[49m\u001b[38;5;241;43m=\u001b[39;49m\u001b[43mhydrostatic\u001b[49m\u001b[43m,\u001b[49m\n",
      "\u001b[1;32m     65\u001b[0m \u001b[43m        \u001b[49m\u001b[43mcomm\u001b[49m\u001b[38;5;241;43m=\u001b[39;49m\u001b[43mcomm\u001b[49m\u001b[43m,\u001b[49m\n",
      "\u001b[1;32m     66\u001b[0m \u001b[43m    \u001b[49m\u001b[43m)\u001b[49m\n",
      "\u001b[1;32m     67\u001b[0m \u001b[38;5;28;01melse\u001b[39;00m:\n",
      "\u001b[1;32m     68\u001b[0m     \u001b[38;5;28;01mraise\u001b[39;00m \u001b[38;5;167;01mValueError\u001b[39;00m(\u001b[38;5;124mf\u001b[39m\u001b[38;5;124m\"\u001b[39m\u001b[38;5;124mCase \u001b[39m\u001b[38;5;132;01m{\u001b[39;00manalytic_init_case\u001b[38;5;132;01m}\u001b[39;00m\u001b[38;5;124m not implemented\u001b[39m\u001b[38;5;124m\"\u001b[39m)\n",
      "\n",
      "File \u001b[0;32m/usr/local/lib/python3.8/dist-packages/pace/fv3core/initialization/test_cases/initialize_tc.py:555\u001b[0m, in \u001b[0;36minit_tc_state\u001b[0;34m(grid_data, quantity_factory, hydrostatic, comm)\u001b[0m\n",
      "\u001b[1;32m    550\u001b[0m ud, vd \u001b[38;5;241m=\u001b[39m _initialize_wind_dgrid(\n",
      "\u001b[1;32m    551\u001b[0m     grid_data, tc_properties, calc, pe_u, pe_v, ps_u, ps_v, shape\n",
      "\u001b[1;32m    552\u001b[0m )\n",
      "\u001b[1;32m    553\u001b[0m ua, va \u001b[38;5;241m=\u001b[39m _interpolate_winds_dgrid_agrid(grid_data, ud, vd, tc_properties, shape)\n",
      "\u001b[0;32m--> 555\u001b[0m qvapor, pt \u001b[38;5;241m=\u001b[39m \u001b[43m_initialize_qvapor_temperature\u001b[49m\u001b[43m(\u001b[49m\n",
      "\u001b[1;32m    556\u001b[0m \u001b[43m    \u001b[49m\u001b[43mgrid_data\u001b[49m\u001b[43m,\u001b[49m\u001b[43m \u001b[49m\u001b[43mpe\u001b[49m\u001b[43m,\u001b[49m\u001b[43m \u001b[49m\u001b[43mps\u001b[49m\u001b[43m,\u001b[49m\u001b[43m \u001b[49m\u001b[43mtc_properties\u001b[49m\u001b[43m,\u001b[49m\u001b[43m \u001b[49m\u001b[43mcalc\u001b[49m\u001b[43m,\u001b[49m\u001b[43m \u001b[49m\u001b[43mshape\u001b[49m\n",
      "\u001b[1;32m    557\u001b[0m \u001b[43m\u001b[49m\u001b[43m)\u001b[49m\n",
      "\u001b[1;32m    558\u001b[0m delz, w \u001b[38;5;241m=\u001b[39m _initialize_delz_w(pe, ps, pt, qvapor, tc_properties, calc, shape)\n",
      "\u001b[1;32m    560\u001b[0m numpy_state\u001b[38;5;241m.\u001b[39mdelp[:] \u001b[38;5;241m=\u001b[39m delp\n",
      "\n",
      "File \u001b[0;32m/usr/local/lib/python3.8/dist-packages/pace/fv3core/initialization/test_cases/initialize_tc.py:331\u001b[0m, in \u001b[0;36m_initialize_qvapor_temperature\u001b[0;34m(grid_data, pe, ps, tc_properties, calc, shape)\u001b[0m\n",
      "\u001b[1;32m    328\u001b[0m height \u001b[38;5;241m=\u001b[39m np\u001b[38;5;241m.\u001b[39mzeros(shape)\n",
      "\u001b[1;32m    330\u001b[0m ptmp \u001b[38;5;241m=\u001b[39m \u001b[38;5;241m0.5\u001b[39m \u001b[38;5;241m*\u001b[39m (pe[:, :, :\u001b[38;5;241m-\u001b[39m\u001b[38;5;241m1\u001b[39m] \u001b[38;5;241m+\u001b[39m pe[:, :, \u001b[38;5;241m1\u001b[39m:])\n",
      "\u001b[0;32m--> 331\u001b[0m height[:, :, :\u001b[38;5;241m-\u001b[39m\u001b[38;5;241m1\u001b[39m] \u001b[38;5;241m=\u001b[39m (calc[\u001b[38;5;124m\"\u001b[39m\u001b[38;5;124mt00\u001b[39m\u001b[38;5;124m\"\u001b[39m] \u001b[38;5;241m/\u001b[39m tc_properties[\u001b[38;5;124m\"\u001b[39m\u001b[38;5;124mgamma\u001b[39m\u001b[38;5;124m\"\u001b[39m]) \u001b[38;5;241m*\u001b[39m (\n",
      "\u001b[1;32m    332\u001b[0m     \u001b[38;5;241m1.0\u001b[39m \u001b[38;5;241m-\u001b[39m (ptmp \u001b[38;5;241m/\u001b[39m ps[:, :, \u001b[38;5;28;01mNone\u001b[39;00m]) \u001b[38;5;241m*\u001b[39m\u001b[38;5;241m*\u001b[39m calc[\u001b[38;5;124m\"\u001b[39m\u001b[38;5;124mexponent\u001b[39m\u001b[38;5;124m\"\u001b[39m]\n",
      "\u001b[1;32m    333\u001b[0m )\n",
      "\u001b[1;32m    334\u001b[0m qvapor \u001b[38;5;241m=\u001b[39m (\n",
      "\u001b[1;32m    335\u001b[0m     tc_properties[\u001b[38;5;124m\"\u001b[39m\u001b[38;5;124mq00\u001b[39m\u001b[38;5;124m\"\u001b[39m]\n",
      "\u001b[1;32m    336\u001b[0m     \u001b[38;5;241m*\u001b[39m np\u001b[38;5;241m.\u001b[39mexp(\u001b[38;5;241m-\u001b[39mheight \u001b[38;5;241m/\u001b[39m tc_properties[\u001b[38;5;124m\"\u001b[39m\u001b[38;5;124mzq1\u001b[39m\u001b[38;5;124m\"\u001b[39m])\n",
      "\u001b[1;32m    337\u001b[0m     \u001b[38;5;241m*\u001b[39m np\u001b[38;5;241m.\u001b[39mexp(\u001b[38;5;241m-\u001b[39m((height \u001b[38;5;241m/\u001b[39m tc_properties[\u001b[38;5;124m\"\u001b[39m\u001b[38;5;124mzq2\u001b[39m\u001b[38;5;124m\"\u001b[39m]) \u001b[38;5;241m*\u001b[39m\u001b[38;5;241m*\u001b[39m tc_properties[\u001b[38;5;124m\"\u001b[39m\u001b[38;5;124mexppz\u001b[39m\u001b[38;5;124m\"\u001b[39m]))\n",
      "\u001b[1;32m    338\u001b[0m )\n",
      "\u001b[1;32m    340\u001b[0m p2 \u001b[38;5;241m=\u001b[39m np\u001b[38;5;241m.\u001b[39mtranspose(\n",
      "\u001b[1;32m    341\u001b[0m     np\u001b[38;5;241m.\u001b[39mstack(\n",
      "\u001b[1;32m    342\u001b[0m         [\n",
      "\u001b[0;32m   (...)\u001b[0m\n",
      "\u001b[1;32m    347\u001b[0m     [\u001b[38;5;241m1\u001b[39m, \u001b[38;5;241m2\u001b[39m, \u001b[38;5;241m0\u001b[39m],\n",
      "\u001b[1;32m    348\u001b[0m )\n",
      "\n",
      "\u001b[0;31mValueError\u001b[0m: could not broadcast input array from shape (27,27,78) into shape (27,27,79)\n",
      "[4:execute] ValueError: could not broadcast input array from shape (27,27,78) into shape (27,27,79)\n",
      "[0:execute] ValueError: could not broadcast input array from shape (27,27,78) into shape (27,27,79)\n"
     ]
    },
    {
     "ename": "AlreadyDisplayedError",
     "evalue": "6 errors",
     "output_type": "error",
     "traceback": [
      "6 errors"
     ]
    }
   ],
   "source": [
    "#%%capture\n",
    "\n",
    "from pace.driver.run import Driver, DriverConfig\n",
    "import yaml\n",
    "\n",
    "config_file = \"tropicalcyclone_c20.yaml\"\n",
    "\n",
    "with open(config_file, \"r\") as f:\n",
    "    driver_config = DriverConfig.from_dict(yaml.safe_load(f))\n",
    "driver = Driver(config=driver_config)"
   ]
  },
  {
   "cell_type": "markdown",
   "id": "4b8d7dd5-9dc2-476f-bf14-6632549565ae",
   "metadata": {},
   "source": [
    "Let's inspect the initial model state:"
   ]
  },
  {
   "cell_type": "code",
   "execution_count": null,
   "id": "5f286ba3-c387-47ca-8a72-78e39ce61a24",
   "metadata": {},
   "outputs": [],
   "source": [
    "import matplotlib.pyplot as plt\n",
    "import numpy as np\n",
    "from cartopy import crs as ccrs\n",
    "from fv3viz import pcolormesh_cube\n",
    "from pace.util import CubedSphereCommunicator"
   ]
  },
  {
   "cell_type": "code",
   "execution_count": null,
   "id": "76ae32e8-7802-405b-8be3-aa5a7b9b9a32",
   "metadata": {},
   "outputs": [],
   "source": [
    "communicator = CubedSphereCommunicator.from_layout(\n",
    "    comm=driver.comm,\n",
    "    layout=driver.config.layout,\n",
    ")\n",
    "u_wind = communicator.gather(driver.state.dycore_state.u)\n",
    "temperature = communicator.gather(driver.state.dycore_state.pt)\n",
    "surface_pressure = communicator.gather(driver.state.dycore_state.ps)\n",
    "grid_lon = communicator.gather(driver.state.grid_data.lon)\n",
    "grid_lat = communicator.gather(driver.state.grid_data.lat)\n",
    "a_lon = communicator.gather(driver.state.grid_data.lon_agrid)\n",
    "a_lat = communicator.gather(driver.state.grid_data.lat_agrid)\n",
    "qvap = communicator.gather(driver.state.dycore_state.qvapor)\n",
    "\n",
    "if mpi_rank == 0:\n",
    "    u_mean = 0.5 * (u_wind.data[:,:,:-1, :] + u_wind.data[:,:, 1:, :])\n",
    "    column_qvap = np.sum(qvap, axis=3)"
   ]
  },
  {
   "cell_type": "code",
   "execution_count": null,
   "id": "7bae8738-9812-40e0-8170-c7d8923b8c77",
   "metadata": {},
   "outputs": [],
   "source": [
    "if mpi_rank == 0:\n",
    "    u_mean = 0.5 * (u_wind.data[:,:,:-1, :] + u_wind.data[:,:, 1:, :])\n",
    "    column_qvap = np.sum(qvap, axis=3)\n",
    "    \n",
    "    nx = temperature.shape[1]\n",
    "    fig = plt.figure(figsize=(12, 6))\n",
    "    ax = fig.add_subplot(111, projection=ccrs.Robinson())\n",
    "    f1 = pcolormesh_cube(\n",
    "        grid_lat.data * 180./np.pi,\n",
    "        grid_lon.data * 180./np.pi,\n",
    "        temperature.data[:, :, :, 65],\n",
    "        cmap=\"viridis\",\n",
    "    )\n",
    "    plt.colorbar(f1, label=\"Temperature (K)\")\n",
    "    ax.set_title(f\"Temperature ({nx} x {nx} points per tile)\")\n",
    "    \n",
    "    fig = plt.figure(figsize=(12, 6))\n",
    "    ax = fig.add_subplot(111, projection=ccrs.Robinson())\n",
    "    f1 = pcolormesh_cube(\n",
    "        grid_lat.data * 180./np.pi,\n",
    "        grid_lon.data * 180./np.pi,\n",
    "        surface_pressure.data[:, :, :]/100.,\n",
    "        cmap=\"viridis\",\n",
    "    )\n",
    "    plt.colorbar(f1, label=\"Surface Pressure (hPa)\")\n",
    "    ax.set_title(f\"Surface Pressure ({nx} x {nx} points per tile)\")\n",
    "    \n",
    "    fig = plt.figure(figsize=(12, 6))\n",
    "    ax = fig.add_subplot(111, projection=ccrs.Robinson())\n",
    "    f1 = pcolormesh_cube(\n",
    "        grid_lat.data * 180./np.pi,\n",
    "        grid_lon.data * 180./np.pi,\n",
    "        column_qvap,\n",
    "        cmap=\"viridis\",\n",
    "    )\n",
    "    plt.colorbar(f1, label=\"water vapor\")\n",
    "    ax.set_title(f\"Column-Integrated Water Vapor ({nx} x {nx} points per tile)\")"
   ]
  },
  {
   "cell_type": "markdown",
   "id": "70fd221a-8380-4893-98a3-7959b6aa315a",
   "metadata": {},
   "source": [
    "now let's run the model:"
   ]
  },
  {
   "cell_type": "code",
   "execution_count": null,
   "id": "71d9afde-27fe-4e9a-af10-924fc24c8c81",
   "metadata": {},
   "outputs": [],
   "source": [
    "try:\n",
    "    driver.step_all()\n",
    "finally:\n",
    "    driver.cleanup()"
   ]
  },
  {
   "cell_type": "markdown",
   "id": "9753b00c-7ebf-40aa-92ab-01e1a5b9d964",
   "metadata": {},
   "source": [
    "and let's look at the model state now:"
   ]
  },
  {
   "cell_type": "code",
   "execution_count": null,
   "id": "bb657348-7ec2-4865-9ad1-6df06350bf4e",
   "metadata": {},
   "outputs": [],
   "source": [
    "u_wind = communicator.gather(driver.state.dycore_state.u)\n",
    "temperature = communicator.gather(driver.state.dycore_state.pt)\n",
    "surface_pressure = communicator.gather(driver.state.dycore_state.ps)\n",
    "grid_lon = communicator.gather(driver.state.grid_data.lon)\n",
    "grid_lat = communicator.gather(driver.state.grid_data.lat)\n",
    "a_lon = communicator.gather(driver.state.grid_data.lon_agrid)\n",
    "a_lat = communicator.gather(driver.state.grid_data.lat_agrid)\n",
    "qvap = communicator.gather(driver.state.dycore_state.qvapor)\n",
    "\n",
    "if mpi_rank == 0:\n",
    "    u_mean = 0.5 * (u_wind.data[:,:,:-1, :] + u_wind.data[:,:, 1:, :])\n",
    "    column_qvap = np.sum(qvap, axis=3)"
   ]
  },
  {
   "cell_type": "code",
   "execution_count": null,
   "id": "e4bc5f57-5685-4c59-bf33-f14ad049a2aa",
   "metadata": {},
   "outputs": [],
   "source": [
    "if mpi_rank == 0:\n",
    "    u_mean = 0.5 * (u_wind.data[:,:,:-1, :] + u_wind.data[:,:, 1:, :])\n",
    "    column_qvap = np.sum(qvap, axis=3)\n",
    "    \n",
    "    nx = temperature.shape[1]\n",
    "    fig = plt.figure(figsize=(12, 6))\n",
    "    ax = fig.add_subplot(111, projection=ccrs.Robinson())\n",
    "    f1 = pcolormesh_cube(\n",
    "        grid_lat.data * 180./np.pi,\n",
    "        grid_lon.data * 180./np.pi,\n",
    "        temperature.data[:, :, :, 65],\n",
    "        cmap=\"viridis\",\n",
    "    )\n",
    "    plt.colorbar(f1, label=\"Temperature (K)\")\n",
    "    ax.set_title(f\"Temperature ({nx} x {nx} points per tile)\")\n",
    "    \n",
    "    fig = plt.figure(figsize=(12, 6))\n",
    "    ax = fig.add_subplot(111, projection=ccrs.Robinson())\n",
    "    f1 = pcolormesh_cube(\n",
    "        grid_lat.data * 180./np.pi,\n",
    "        grid_lon.data * 180./np.pi,\n",
    "        surface_pressure.data[:, :, :]/100.,\n",
    "        cmap=\"viridis\",\n",
    "    )\n",
    "    plt.colorbar(f1, label=\"Surface Pressure (hPa)\")\n",
    "    ax.set_title(f\"Surface Pressure ({nx} x {nx} points per tile)\")\n",
    "    \n",
    "    fig = plt.figure(figsize=(12, 6))\n",
    "    ax = fig.add_subplot(111, projection=ccrs.Robinson())\n",
    "    f1 = pcolormesh_cube(\n",
    "        grid_lat.data * 180./np.pi,\n",
    "        grid_lon.data * 180./np.pi,\n",
    "        column_qvap,\n",
    "        cmap=\"viridis\",\n",
    "    )\n",
    "    plt.colorbar(f1, label=\"water vapor\")\n",
    "    ax.set_title(f\"Column-Integrated Water Vapor ({nx} x {nx} points per tile)\")"
   ]
  }
 ],
 "metadata": {
  "kernelspec": {
   "display_name": "Python 3 (ipykernel)",
   "language": "python",
   "name": "python3"
  },
  "language_info": {
   "codemirror_mode": {
    "name": "ipython",
    "version": 3
   },
   "file_extension": ".py",
   "mimetype": "text/x-python",
   "name": "python",
   "nbconvert_exporter": "python",
   "pygments_lexer": "ipython3",
   "version": "3.8.10"
  }
 },
 "nbformat": 4,
 "nbformat_minor": 5
}
